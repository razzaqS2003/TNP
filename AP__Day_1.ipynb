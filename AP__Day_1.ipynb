{
  "nbformat": 4,
  "nbformat_minor": 0,
  "metadata": {
    "colab": {
      "provenance": [],
      "include_colab_link": true
    },
    "kernelspec": {
      "name": "python3",
      "display_name": "Python 3"
    },
    "language_info": {
      "name": "python"
    }
  },
  "cells": [
    {
      "cell_type": "markdown",
      "metadata": {
        "id": "view-in-github",
        "colab_type": "text"
      },
      "source": [
        "<a href=\"https://colab.research.google.com/github/razzaqS2003/TNP/blob/main/AP__Day_1.ipynb\" target=\"_parent\"><img src=\"https://colab.research.google.com/assets/colab-badge.svg\" alt=\"Open In Colab\"/></a>"
      ]
    },
    {
      "cell_type": "code",
      "execution_count": null,
      "metadata": {
        "colab": {
          "base_uri": "https://localhost:8080/"
        },
        "id": "Y4wLo7Ymh3vb",
        "outputId": "33124fe8-a1d4-44f3-a7ef-2d6e08426749"
      },
      "outputs": [
        {
          "output_type": "stream",
          "name": "stdout",
          "text": [
            "hello world\n"
          ]
        }
      ],
      "source": [
        "print(\"hello world\")"
      ]
    },
    {
      "cell_type": "code",
      "source": [
        "print('''hi''')"
      ],
      "metadata": {
        "colab": {
          "base_uri": "https://localhost:8080/"
        },
        "id": "lPO0Iy0KuSNK",
        "outputId": "459113fd-cec8-49a0-9213-73d6379f05a1"
      },
      "execution_count": null,
      "outputs": [
        {
          "output_type": "stream",
          "name": "stdout",
          "text": [
            "hi\n"
          ]
        }
      ]
    },
    {
      "cell_type": "code",
      "source": [
        "print(\"\"\"hi\"\"\");"
      ],
      "metadata": {
        "colab": {
          "base_uri": "https://localhost:8080/"
        },
        "id": "3-akidlDuV8R",
        "outputId": "77ee120e-1923-456f-fbf5-7c0801f97650"
      },
      "execution_count": null,
      "outputs": [
        {
          "output_type": "stream",
          "name": "stdout",
          "text": [
            "hi\n"
          ]
        }
      ]
    },
    {
      "cell_type": "code",
      "source": [
        "print(\"hi\")"
      ],
      "metadata": {
        "colab": {
          "base_uri": "https://localhost:8080/"
        },
        "id": "ikb56HOSuZfq",
        "outputId": "1c74efca-a19a-4d00-bcdd-84ab0956b3b5"
      },
      "execution_count": null,
      "outputs": [
        {
          "output_type": "stream",
          "name": "stdout",
          "text": [
            "hi\n"
          ]
        }
      ]
    },
    {
      "cell_type": "code",
      "source": [
        "x=10\n",
        "y=20\n",
        "z=30"
      ],
      "metadata": {
        "id": "VcQJTVdPuftf"
      },
      "execution_count": null,
      "outputs": []
    },
    {
      "cell_type": "code",
      "source": [
        "x,y,z=10,20,30"
      ],
      "metadata": {
        "id": "t0Yazsdtui2S"
      },
      "execution_count": null,
      "outputs": []
    },
    {
      "cell_type": "code",
      "source": [
        "x=True\n",
        "type(x)"
      ],
      "metadata": {
        "colab": {
          "base_uri": "https://localhost:8080/"
        },
        "id": "eQ9CmN6zulEv",
        "outputId": "667f770c-7bdd-4fb8-94f3-e2653c63afb1"
      },
      "execution_count": null,
      "outputs": [
        {
          "output_type": "execute_result",
          "data": {
            "text/plain": [
              "bool"
            ]
          },
          "metadata": {},
          "execution_count": 11
        }
      ]
    },
    {
      "cell_type": "code",
      "source": [
        "a=10\n",
        "b=3\n",
        "c=a/b\n",
        "print(c,type(c))"
      ],
      "metadata": {
        "colab": {
          "base_uri": "https://localhost:8080/"
        },
        "id": "YzNTxxeTvuOW",
        "outputId": "b0241695-cac0-438c-8c14-cc5513dad8bf"
      },
      "execution_count": null,
      "outputs": [
        {
          "output_type": "stream",
          "name": "stdout",
          "text": [
            "3.3333333333333335 <class 'float'>\n"
          ]
        }
      ]
    },
    {
      "cell_type": "code",
      "source": [
        "#saves space by sharing\n",
        "a=10\n",
        "b=5+5\n",
        "c=2*5\n",
        "d=13-3\n",
        "print(id(a),id(b),id(c),id(d))"
      ],
      "metadata": {
        "colab": {
          "base_uri": "https://localhost:8080/"
        },
        "id": "hKxNUJMawcA_",
        "outputId": "b5ada913-da19-4359-b223-2d8676ecc28c"
      },
      "execution_count": null,
      "outputs": [
        {
          "output_type": "stream",
          "name": "stdout",
          "text": [
            "133725446373904 133725446373904 133725446373904 133725446373904\n"
          ]
        }
      ]
    },
    {
      "cell_type": "code",
      "source": [
        "#python always updates value by giving new space\n",
        "a=10\n",
        "print(\"a=\",a,\"@\",id(a))\n",
        "a=a+5\n",
        "print(\"a=\",a,\"@\",id(a))\n",
        "#python support AGC"
      ],
      "metadata": {
        "colab": {
          "base_uri": "https://localhost:8080/"
        },
        "id": "VStJE3GvxRVu",
        "outputId": "ab5b87e8-b932-472d-c706-c9299571e7c3"
      },
      "execution_count": null,
      "outputs": [
        {
          "output_type": "stream",
          "name": "stdout",
          "text": [
            "a= 10 @ 133725446373904\n",
            "a= 15 @ 133725446374064\n"
          ]
        }
      ]
    },
    {
      "cell_type": "code",
      "source": [
        "#IO\n",
        "a=10\n",
        "print(\"message\")\n",
        "print(a)\n",
        "print(\"message\",a)"
      ],
      "metadata": {
        "colab": {
          "base_uri": "https://localhost:8080/"
        },
        "id": "DgfwityKxe_l",
        "outputId": "0646d1e6-d67f-4b83-8c4c-25fff0c24375"
      },
      "execution_count": null,
      "outputs": [
        {
          "output_type": "stream",
          "name": "stdout",
          "text": [
            "message\n",
            "10\n",
            "message 10\n"
          ]
        }
      ]
    },
    {
      "cell_type": "code",
      "source": [
        "var=input(\"prompt\")"
      ],
      "metadata": {
        "id": "KEw7Icx8yvoZ"
      },
      "execution_count": null,
      "outputs": []
    },
    {
      "cell_type": "code",
      "source": [
        "data=int(input(\"who are you ?\"))\n",
        "data=float(input(\"who are you ?\"))\n",
        "print(data,type(data))\n",
        "# int float str boolean complex"
      ],
      "metadata": {
        "colab": {
          "base_uri": "https://localhost:8080/"
        },
        "id": "83xKZQRMy26S",
        "outputId": "014e4f91-38d9-4a68-a266-72a08c7370f5"
      },
      "execution_count": null,
      "outputs": [
        {
          "output_type": "stream",
          "name": "stdout",
          "text": [
            "who are you ?True\n",
            "True <class 'str'>\n"
          ]
        }
      ]
    },
    {
      "cell_type": "code",
      "source": [
        "data=bool(input(\"what you want? :\"))\n",
        "print(data,type(data))"
      ],
      "metadata": {
        "colab": {
          "base_uri": "https://localhost:8080/"
        },
        "id": "qYYVHniBzSn-",
        "outputId": "39663cfb-5fa5-4d93-9149-f30265d90345"
      },
      "execution_count": null,
      "outputs": [
        {
          "output_type": "stream",
          "name": "stdout",
          "text": [
            "what you want? :\n",
            "False <class 'bool'>\n"
          ]
        }
      ]
    },
    {
      "cell_type": "code",
      "source": [
        "# ++ -- :do not use\n",
        "#arithmatic\n",
        "# * / + - %(Remainder)\n",
        "#//:int div  **:pow\n",
        "print(5/2)\n",
        "print(5//2)\n",
        "print(39//10)"
      ],
      "metadata": {
        "colab": {
          "base_uri": "https://localhost:8080/"
        },
        "id": "T_Iqwe9D1rDD",
        "outputId": "8b443e31-0dd8-4379-c567-d91cd6be820f"
      },
      "execution_count": null,
      "outputs": [
        {
          "output_type": "stream",
          "name": "stdout",
          "text": [
            "2.5\n",
            "2\n",
            "3\n"
          ]
        }
      ]
    },
    {
      "cell_type": "code",
      "source": [
        "5%2\n",
        "15%20"
      ],
      "metadata": {
        "colab": {
          "base_uri": "https://localhost:8080/"
        },
        "id": "2rSEZZw32aCO",
        "outputId": "3e525f01-1b3b-40c1-8988-385d7ec0ded7"
      },
      "execution_count": null,
      "outputs": [
        {
          "output_type": "execute_result",
          "data": {
            "text/plain": [
              "1"
            ]
          },
          "metadata": {},
          "execution_count": 33
        }
      ]
    },
    {
      "cell_type": "code",
      "source": [
        "(5+2)*(3-1)"
      ],
      "metadata": {
        "colab": {
          "base_uri": "https://localhost:8080/"
        },
        "id": "IrPKux6S3UDb",
        "outputId": "2e40e689-be28-472d-d553-cc7ebaa0e706"
      },
      "execution_count": null,
      "outputs": [
        {
          "output_type": "execute_result",
          "data": {
            "text/plain": [
              "14"
            ]
          },
          "metadata": {},
          "execution_count": 35
        }
      ]
    },
    {
      "cell_type": "code",
      "source": [
        "#short hand\n",
        "x=0"
      ],
      "metadata": {
        "id": "qNhktKyZ3nI0"
      },
      "execution_count": null,
      "outputs": []
    },
    {
      "cell_type": "code",
      "source": [
        "x+=1\n",
        "print(x)"
      ],
      "metadata": {
        "colab": {
          "base_uri": "https://localhost:8080/"
        },
        "id": "eK4Yqjl04YIB",
        "outputId": "515828e1-ea5a-49c3-a3a3-acf50bdd6bc7"
      },
      "execution_count": null,
      "outputs": [
        {
          "output_type": "stream",
          "name": "stdout",
          "text": [
            "3\n"
          ]
        }
      ]
    },
    {
      "cell_type": "code",
      "source": [
        "#Realtional and logical\n",
        "< > <= >= == !=\n",
        "and when all needed\n",
        "or when any one needed\n"
      ],
      "metadata": {
        "id": "h-T-7N6w4kxw"
      },
      "execution_count": null,
      "outputs": []
    },
    {
      "cell_type": "code",
      "source": [
        "#bit wise\n",
        "#<< n is to multiply number by 2^n\n",
        "x=10\n",
        "x<<2 #10 *2^2\n"
      ],
      "metadata": {
        "colab": {
          "base_uri": "https://localhost:8080/"
        },
        "id": "ysSczdsQ480M",
        "outputId": "5d15fecf-4dd5-4950-f123-e032ae62e30b"
      },
      "execution_count": null,
      "outputs": [
        {
          "output_type": "execute_result",
          "data": {
            "text/plain": [
              "40"
            ]
          },
          "metadata": {},
          "execution_count": 42
        }
      ]
    },
    {
      "cell_type": "code",
      "source": [
        "#>> n is to div(int) number by 2^n\n",
        "x=10\n",
        "x>>1 #10 /2^1"
      ],
      "metadata": {
        "colab": {
          "base_uri": "https://localhost:8080/"
        },
        "id": "28eqVr3T48ss",
        "outputId": "1d2318fc-fa2a-4182-e7ec-48d351a56ccc"
      },
      "execution_count": null,
      "outputs": [
        {
          "output_type": "execute_result",
          "data": {
            "text/plain": [
              "5"
            ]
          },
          "metadata": {},
          "execution_count": 43
        }
      ]
    },
    {
      "cell_type": "code",
      "source": [
        "~(128)#1)reverse sign 2)-1\n",
        "# 128     -128  -1=-129"
      ],
      "metadata": {
        "colab": {
          "base_uri": "https://localhost:8080/"
        },
        "id": "Rh_dcBPV53D5",
        "outputId": "0dfaf25e-0835-475d-a5e9-d9ea5cedba84"
      },
      "execution_count": null,
      "outputs": [
        {
          "output_type": "execute_result",
          "data": {
            "text/plain": [
              "-129"
            ]
          },
          "metadata": {},
          "execution_count": 44
        }
      ]
    },
    {
      "cell_type": "code",
      "source": [
        "~(-513)"
      ],
      "metadata": {
        "colab": {
          "base_uri": "https://localhost:8080/"
        },
        "id": "8JCg4mqc6Q-Y",
        "outputId": "6b1155d0-9a0a-4d2c-8cff-f6c720e7b2df"
      },
      "execution_count": null,
      "outputs": [
        {
          "output_type": "execute_result",
          "data": {
            "text/plain": [
              "512"
            ]
          },
          "metadata": {},
          "execution_count": 45
        }
      ]
    },
    {
      "cell_type": "code",
      "source": [
        "a=10\n",
        "b=20\n",
        "print(\"a=\",a,\"b=\",b)\n",
        "t=a\n",
        "a=b\n",
        "b=t\n",
        "print(\"a=\",a,\"b=\",b)"
      ],
      "metadata": {
        "colab": {
          "base_uri": "https://localhost:8080/"
        },
        "id": "YYYb5E7j6hKp",
        "outputId": "826b4e1d-39b9-4389-f0b9-402dffafa7d8"
      },
      "execution_count": null,
      "outputs": [
        {
          "output_type": "stream",
          "name": "stdout",
          "text": [
            "a= 10 b= 20\n",
            "a= 20 b= 10\n"
          ]
        }
      ]
    },
    {
      "cell_type": "code",
      "source": [
        "a=10\n",
        "b=20\n",
        "print(\"a=\",a,\"b=\",b)\n",
        "a,b=b,a\n",
        "print(\"a=\",a,\"b=\",b)"
      ],
      "metadata": {
        "colab": {
          "base_uri": "https://localhost:8080/"
        },
        "id": "vWJPfvwm6r4H",
        "outputId": "fe87bab3-82b5-4b4c-ea72-f2c500b6d3b4"
      },
      "execution_count": null,
      "outputs": [
        {
          "output_type": "stream",
          "name": "stdout",
          "text": [
            "a= 10 b= 20\n",
            "a= 20 b= 10\n"
          ]
        }
      ]
    },
    {
      "cell_type": "code",
      "source": [
        "0 0 0\n",
        "0 1 1\n",
        "1 0 1\n",
        "1 1 0"
      ],
      "metadata": {
        "id": "yCxduw5f7pXq"
      },
      "execution_count": null,
      "outputs": []
    },
    {
      "cell_type": "code",
      "source": [
        "a=10\n",
        "b=8\n",
        "print(\"a=\",a,\"b=\",b)\n",
        "a=a^b# 1010 ^ 1000 = 0010\n",
        "b=a^b# 0010 ^ 1000 = 1010\n",
        "a=a^b# 0010 ^ 1010 = 1000\n",
        "print(\"a=\",a,\"b=\",b)"
      ],
      "metadata": {
        "colab": {
          "base_uri": "https://localhost:8080/"
        },
        "id": "grDCw99M7w4S",
        "outputId": "af99667b-e3d1-4423-ece8-58ce650bf8cf"
      },
      "execution_count": null,
      "outputs": [
        {
          "output_type": "stream",
          "name": "stdout",
          "text": [
            "a= 10 b= 20\n",
            "a= 20 b= 10\n"
          ]
        }
      ]
    },
    {
      "cell_type": "code",
      "source": [
        "#to code\n",
        "#1: plan from output to input\n",
        "# out ->proccess->input\n",
        "#2: algorithm--->code is just Syntax"
      ],
      "metadata": {
        "id": "LgvZT0e8_txr"
      },
      "execution_count": null,
      "outputs": []
    },
    {
      "cell_type": "code",
      "source": [
        "#code area of circle:\n",
        "'''output:area of circle\n",
        "process: 3.14*r*r\n",
        "input:r'''\n",
        "r=float(input(\"Enter r:\"))\n",
        "area=3.14*r*r\n",
        "print(\"Area is:\",area)\n"
      ],
      "metadata": {
        "colab": {
          "base_uri": "https://localhost:8080/"
        },
        "id": "diDVO6avAu-k",
        "outputId": "63584e24-2507-42f6-89b0-ddc196449008"
      },
      "execution_count": null,
      "outputs": [
        {
          "output_type": "stream",
          "name": "stdout",
          "text": [
            "Enter r:45\n",
            "Area is: 6358.500000000001\n"
          ]
        }
      ]
    },
    {
      "cell_type": "code",
      "source": [
        "r=float(input(\"Enter r:\"))\n",
        "print(\"Area is:\",3.14*r*r)"
      ],
      "metadata": {
        "colab": {
          "base_uri": "https://localhost:8080/"
        },
        "id": "ad_qWU1vBUbH",
        "outputId": "e8c34d80-2fc7-48bb-c9f2-4ece6b66a06a"
      },
      "execution_count": null,
      "outputs": [
        {
          "output_type": "stream",
          "name": "stdout",
          "text": [
            "Enter r:45\n",
            "Area is: 6358.500000000001\n"
          ]
        }
      ]
    },
    {
      "cell_type": "code",
      "source": [
        "\n",
        "print(\"Area is:\",3.14*float(input(\"Enter r:\"))**2)"
      ],
      "metadata": {
        "colab": {
          "base_uri": "https://localhost:8080/"
        },
        "id": "35fYWqGPBbTm",
        "outputId": "701eb4cf-b32a-4ea1-e305-7bf69e62942a"
      },
      "execution_count": null,
      "outputs": [
        {
          "output_type": "stream",
          "name": "stdout",
          "text": [
            "Enter r:45\n",
            "Area is: 6358.5\n"
          ]
        }
      ]
    },
    {
      "cell_type": "code",
      "source": [
        "#program to calculate Percentage of passing.\n",
        "#1.print percentage 2.calculate percentage 3.input total\n",
        "total=int(input(\"Enter total:\"))\n",
        "percentage=(total*100)/500\n",
        "print(\"Percentage:\",percentage)"
      ],
      "metadata": {
        "colab": {
          "base_uri": "https://localhost:8080/"
        },
        "id": "01FCUzgCUoMA",
        "outputId": "cc68fe1b-c788-4cda-fb48-e42e927d7c21"
      },
      "execution_count": null,
      "outputs": [
        {
          "output_type": "stream",
          "name": "stdout",
          "text": [
            "Enter total:487\n",
            "Percentage: 97.4\n"
          ]
        }
      ]
    },
    {
      "cell_type": "code",
      "source": [
        "#Average of three numbers\n",
        "no1=int(input(\"Enter a number:\"))\n",
        "no2=int(input(\"Enter a number:\"))\n",
        "no3=int(input(\"Enter a number:\"))\n",
        "total=no1+no2+no3\n",
        "print(\"Avergage:\",(total/3))"
      ],
      "metadata": {
        "colab": {
          "base_uri": "https://localhost:8080/"
        },
        "id": "WmYXp8WFWGyH",
        "outputId": "5cd041cc-0b47-4379-ace9-5f8fbc5a66c1"
      },
      "execution_count": null,
      "outputs": [
        {
          "output_type": "stream",
          "name": "stdout",
          "text": [
            "Enter a number:77\n",
            "Enter a number:22\n",
            "Enter a number:55\n",
            "Avergage: 51.333333333333336\n"
          ]
        }
      ]
    },
    {
      "cell_type": "code",
      "source": [
        "'''\n",
        " Fahrenheit to Celsius conversion:\n",
        "• Prompt: Write a program that takes a temperature in Fahrenheit as input and\n",
        "converts it to Celsius.\n",
        "• Formula: C = (F - 32) * 5/9\n",
        "'''\n",
        "f=float(input(\"Enter temp id f:\"))\n",
        "c = (f - 32) * 5/9\n",
        "print(\"temperature in C:\",c)"
      ],
      "metadata": {
        "colab": {
          "base_uri": "https://localhost:8080/"
        },
        "id": "TN07o-qfYYdI",
        "outputId": "f31bac4c-5232-4640-c9db-9bfe91b83f10"
      },
      "execution_count": null,
      "outputs": [
        {
          "output_type": "stream",
          "name": "stdout",
          "text": [
            "Enter temp id f:100.3\n",
            "temperature in C: 37.94444444444444\n"
          ]
        }
      ]
    },
    {
      "cell_type": "code",
      "source": [
        "#Find roots of Quadratic equation.\n",
        "import math\n",
        "a=float(input(\"a:\"))\n",
        "b=float(input(\"b:\"))\n",
        "c=float(input(\"c:\"))\n",
        "root1=(-b+math.sqrt((b**2)-(4*a*c)))/(2*a)\n",
        "root2=(-b+math.sqrt((b**2)+(4*a*c)))/(2*a)\n",
        "print(\"roots are:\",root1,root2)"
      ],
      "metadata": {
        "colab": {
          "base_uri": "https://localhost:8080/"
        },
        "id": "s100zCP4Zndr",
        "outputId": "5ba24130-3f44-484f-b22f-4f9a92998e97"
      },
      "execution_count": null,
      "outputs": [
        {
          "output_type": "stream",
          "name": "stdout",
          "text": [
            "a:2\n",
            "b:8\n",
            "c:1\n",
            "roots are: -0.12917130661302934 0.12132034355964239\n"
          ]
        }
      ]
    },
    {
      "cell_type": "code",
      "source": [
        "#number +ve or -ve\n",
        "no=int(input(\"Enter:\"))\n",
        "if no>=0:\n",
        "    print(no,\"is +ve\")\n",
        "if no<0:\n",
        "    print(no,\"is -ve\")"
      ],
      "metadata": {
        "colab": {
          "base_uri": "https://localhost:8080/"
        },
        "id": "XY0jjZlccS81",
        "outputId": "560c12f1-a882-461f-a0b1-06119cd80215"
      },
      "execution_count": null,
      "outputs": [
        {
          "output_type": "stream",
          "name": "stdout",
          "text": [
            "Enter:-8\n",
            "-8 is -ve\n"
          ]
        }
      ]
    },
    {
      "cell_type": "code",
      "source": [
        "#number +ve or -ve\n",
        "no=int(input(\"Enter:\"))\n",
        "if no>=0:\n",
        "    print(no,\"is +ve\")\n",
        "else:\n",
        "    print(no,\"is -ve\")"
      ],
      "metadata": {
        "id": "80lNie2Fhglz"
      },
      "execution_count": null,
      "outputs": []
    },
    {
      "cell_type": "code",
      "source": [
        "#number +ve or -ve or 0\n",
        "#at most and atlest one block only\n",
        "no=int(input(\"Enter:\"))\n",
        "if no>0:\n",
        "    print(no,\"is +ve\")\n",
        "elif no<0:\n",
        "    print(no,\"is -ve\")\n",
        "else:#default else\n",
        "    print(no,\"is Zero\")"
      ],
      "metadata": {
        "colab": {
          "base_uri": "https://localhost:8080/"
        },
        "id": "mV7G32K_hmUU",
        "outputId": "0cd01213-77ea-49e3-f81a-9957725b8540"
      },
      "execution_count": null,
      "outputs": [
        {
          "output_type": "stream",
          "name": "stdout",
          "text": [
            "Enter:0\n",
            "0 is Zero\n"
          ]
        }
      ]
    },
    {
      "cell_type": "code",
      "source": [
        "##program to calculate Percentage and print passing class\n",
        "# p>=60:First     50<=p<60:Second    40<=p<50:Pass   p<40:Better luck next time\n",
        "#1.print percentage 2.calculate percentage 3.input total\n",
        "total=int(input(\"Enter total:\"))\n",
        "percentage=(total*100)/500\n",
        "if 60<=percentage:\n",
        "    print(\"First class:\",percentage)\n",
        "elif 50<=percentage:\n",
        "    print(\"Second class:\",percentage)\n",
        "elif 40<=percentage:\n",
        "    print(\"Pass class:\",percentage)\n",
        "else:\n",
        "    print(\"Tum se na ho payyii:\",percentage)\n"
      ],
      "metadata": {
        "colab": {
          "base_uri": "https://localhost:8080/"
        },
        "id": "wuLvhq6PiO8s",
        "outputId": "71294385-65e2-4c89-a94a-a826a7d6b9c2"
      },
      "execution_count": null,
      "outputs": [
        {
          "output_type": "stream",
          "name": "stdout",
          "text": [
            "Enter total:120\n",
            "Tum se na ho payyii: 24.0\n"
          ]
        }
      ]
    },
    {
      "cell_type": "code",
      "source": [
        "# perfectly div by 3 and 5\n",
        "no=int(input(\"Enter:\"))\n",
        "if no%3==0 and no%5==0:\n",
        "    print(no,\"is accepted\")\n",
        "else:\n",
        "    print(no,\"is rejected\")"
      ],
      "metadata": {
        "colab": {
          "base_uri": "https://localhost:8080/"
        },
        "id": "zzU3Z6BzmBqr",
        "outputId": "3fc82dc8-432c-49f5-8017-7f50447677ed"
      },
      "execution_count": null,
      "outputs": [
        {
          "output_type": "stream",
          "name": "stdout",
          "text": [
            "Enter:12\n",
            "12 is rejected\n"
          ]
        }
      ]
    },
    {
      "cell_type": "code",
      "source": [
        "#leap year or not\n",
        "# year perfectly div by 4 but not by 100 or can be by 400\n",
        "year=int(input(\"Enter year:\"))\n",
        "if (year%4==0 and year%100!=0) or year%400==0:\n",
        "    print(year,\"is leap\")\n",
        "else:\n",
        "    print(year,\"is not leap\")\n"
      ],
      "metadata": {
        "colab": {
          "base_uri": "https://localhost:8080/"
        },
        "id": "SY0G5dPImYlo",
        "outputId": "4392cee1-2333-48dd-fc7f-e4930e082bc6"
      },
      "execution_count": null,
      "outputs": [
        {
          "output_type": "stream",
          "name": "stdout",
          "text": [
            "Enter year:2025\n",
            "2025 is not leap\n"
          ]
        }
      ]
    },
    {
      "cell_type": "code",
      "source": [
        "i=1\n",
        "while i<=5:\n",
        "    print(i)\n",
        "    i+=1 # i=i+1\n",
        "print(\"At end i:\",i)"
      ],
      "metadata": {
        "colab": {
          "base_uri": "https://localhost:8080/"
        },
        "id": "ZuWmLJyTrGJv",
        "outputId": "f52494f3-b0cc-408d-e4ee-2b1bced27879"
      },
      "execution_count": null,
      "outputs": [
        {
          "output_type": "stream",
          "name": "stdout",
          "text": [
            "1\n",
            "2\n",
            "3\n",
            "4\n",
            "5\n",
            "At end i: 6\n"
          ]
        }
      ]
    },
    {
      "cell_type": "code",
      "source": [
        "i=5\n",
        "while i>=1:\n",
        "    print(i)\n",
        "    i-=1 # i=i+1\n",
        "print(\"At end i:\",i)"
      ],
      "metadata": {
        "colab": {
          "base_uri": "https://localhost:8080/"
        },
        "id": "K57ONE3zrZXF",
        "outputId": "609cf4d4-4e7a-4e16-9aa0-35a99fff43a8"
      },
      "execution_count": null,
      "outputs": [
        {
          "output_type": "stream",
          "name": "stdout",
          "text": [
            "5\n",
            "4\n",
            "3\n",
            "2\n",
            "1\n",
            "At end i: 0\n"
          ]
        }
      ]
    },
    {
      "cell_type": "code",
      "source": [
        "for i in range(1,5,1):#start,end at,step\n",
        "#it stops at end hence +1 or -1\n",
        "    print(i)"
      ],
      "metadata": {
        "colab": {
          "base_uri": "https://localhost:8080/"
        },
        "id": "PJ5md53jrgcN",
        "outputId": "a9e0e555-5837-4c07-d5ed-7a3b4da914b1"
      },
      "execution_count": null,
      "outputs": [
        {
          "output_type": "stream",
          "name": "stdout",
          "text": [
            "1\n",
            "2\n",
            "3\n",
            "4\n"
          ]
        }
      ]
    },
    {
      "cell_type": "code",
      "source": [
        "range(start,end,step):\n",
        "start:default 0\n",
        "step:default +1\n",
        "end:must give"
      ],
      "metadata": {
        "id": "wMPeDivSsAXe"
      },
      "execution_count": null,
      "outputs": []
    },
    {
      "cell_type": "code",
      "source": [
        "for i in range(5):#start,end at,step\n",
        "#it stops at end hence +1 or -1\n",
        "    print(i)"
      ],
      "metadata": {
        "colab": {
          "base_uri": "https://localhost:8080/"
        },
        "id": "Wqvb_hY3sKBc",
        "outputId": "ac592a9e-76a3-4e82-a6f1-f4091bc862b4"
      },
      "execution_count": null,
      "outputs": [
        {
          "output_type": "stream",
          "name": "stdout",
          "text": [
            "0\n",
            "1\n",
            "2\n",
            "3\n",
            "4\n"
          ]
        }
      ]
    },
    {
      "cell_type": "code",
      "source": [
        "-10,9,8,....1 #while for\n",
        "\n",
        "-1,3,5,7,9,11\n",
        "-2,4,6,8,10,12\n",
        "-1,2,3,4 to ...n given by user where n>0\n",
        "-n,n-1,n-2.....2,1,0 from n where n>0\n",
        "-print start to end\n",
        "    input: start 2 end is 5 2,3,4,5\n",
        "    input: start 5 end is 2 5,4,3,2"
      ],
      "metadata": {
        "id": "TDZ5Gn7-sS4i"
      },
      "execution_count": null,
      "outputs": []
    },
    {
      "cell_type": "code",
      "source": [
        "for i in range(10,0,-1):#start,end at,step\n",
        "    print(i)"
      ],
      "metadata": {
        "colab": {
          "base_uri": "https://localhost:8080/"
        },
        "id": "Cmb1uWLvvot3",
        "outputId": "8458c809-f6f0-4e55-e5ce-8fdfd711c7be"
      },
      "execution_count": null,
      "outputs": [
        {
          "output_type": "stream",
          "name": "stdout",
          "text": [
            "10\n",
            "9\n",
            "8\n",
            "7\n",
            "6\n",
            "5\n",
            "4\n",
            "3\n",
            "2\n",
            "1\n"
          ]
        }
      ]
    },
    {
      "cell_type": "code",
      "source": [
        "n=int(input(\"Enter n:\"))\n",
        "for i in range(1,n+1,1):#start,end at,step\n",
        "    print(i)"
      ],
      "metadata": {
        "colab": {
          "base_uri": "https://localhost:8080/"
        },
        "id": "ZjBPgibmvylN",
        "outputId": "b7980c64-41f9-4179-cd5c-5b4e3904ab1f"
      },
      "execution_count": null,
      "outputs": [
        {
          "output_type": "stream",
          "name": "stdout",
          "text": [
            "Enter n:7\n",
            "1\n",
            "2\n",
            "3\n",
            "4\n",
            "5\n",
            "6\n",
            "7\n"
          ]
        }
      ]
    },
    {
      "cell_type": "code",
      "source": [
        "for i in range(10,0,-1):#start,end at,step\n",
        "    print(i)"
      ],
      "metadata": {
        "id": "4wG0LDguv-yq"
      },
      "execution_count": null,
      "outputs": []
    },
    {
      "cell_type": "code",
      "source": [
        "start=int(input(\"Start\"))\n",
        "end=int(input(\"End\"))\n",
        "if start<end:\n",
        "    for i in range(start,end+1,+1):\n",
        "        print(i)\n",
        "else:\n",
        "    for i in range(start,end-1,-1):\n",
        "        print(i)\n"
      ],
      "metadata": {
        "colab": {
          "base_uri": "https://localhost:8080/"
        },
        "id": "mIv5H8AnwYUK",
        "outputId": "23a7e579-d6e4-4c6f-ef6c-b1742c1d7087"
      },
      "execution_count": null,
      "outputs": [
        {
          "output_type": "stream",
          "name": "stdout",
          "text": [
            "Start4\n",
            "End-1\n",
            "4\n",
            "3\n",
            "2\n",
            "1\n",
            "0\n",
            "-1\n"
          ]
        }
      ]
    },
    {
      "cell_type": "code",
      "source": [
        "#start to end  but add every odd number and multiply every even number\n",
        "start=int(input(\"Start\"))\n",
        "end=int(input(\"End\"))\n",
        "pro=1\n",
        "sum=0\n",
        "for i in range(start,end+1,1):\n",
        "    if i%2==0:\n",
        "        pro*=i\n",
        "    else:\n",
        "        sum+=i\n",
        "print(\"Total is:\",sum+pro)\n"
      ],
      "metadata": {
        "colab": {
          "base_uri": "https://localhost:8080/"
        },
        "id": "lbYUn32Dw61b",
        "outputId": "7811bbf8-aa1d-439d-f0fc-61b1f3fe26c1"
      },
      "execution_count": null,
      "outputs": [
        {
          "output_type": "stream",
          "name": "stdout",
          "text": [
            "Start3 \n",
            "End9\n",
            "Total is: 216\n"
          ]
        }
      ]
    },
    {
      "cell_type": "code",
      "source": [
        "for i in range(1,4):\n",
        "    for j in range(1,4):\n",
        "        print(i,j)"
      ],
      "metadata": {
        "colab": {
          "base_uri": "https://localhost:8080/"
        },
        "id": "lqYYsv9Oy7aK",
        "outputId": "1192f3da-f3fb-4850-ab23-83e30e3759ad"
      },
      "execution_count": null,
      "outputs": [
        {
          "output_type": "stream",
          "name": "stdout",
          "text": [
            "1 1\n",
            "1 2\n",
            "1 3\n",
            "2 1\n",
            "2 2\n",
            "2 3\n",
            "3 1\n",
            "3 2\n",
            "3 3\n"
          ]
        }
      ]
    },
    {
      "cell_type": "code",
      "source": [
        "for i in range(1,6):# controlls\n",
        "    for j in range(1,i+1):\n",
        "        print(j,end=' ')#prints\n",
        "    print()#shifts to new line"
      ],
      "metadata": {
        "colab": {
          "base_uri": "https://localhost:8080/"
        },
        "id": "IFd0Cw8uz9KK",
        "outputId": "4d2bb652-87d0-4d39-d672-ec2d518bc330"
      },
      "execution_count": null,
      "outputs": [
        {
          "output_type": "stream",
          "name": "stdout",
          "text": [
            "1 \n",
            "1 2 \n",
            "1 2 3 \n",
            "1 2 3 4 \n",
            "1 2 3 4 5 \n"
          ]
        }
      ]
    },
    {
      "cell_type": "code",
      "source": [
        "for i in range(1,6):# controlls\n",
        "    for j in range(1,i+1):\n",
        "        print(j%2,end=' ')#prints\n",
        "    print()#shifts to new line"
      ],
      "metadata": {
        "colab": {
          "base_uri": "https://localhost:8080/"
        },
        "id": "q0VO0RXE23Gr",
        "outputId": "37b98b57-cf54-45ea-faad-65efe28e805b"
      },
      "execution_count": null,
      "outputs": [
        {
          "output_type": "stream",
          "name": "stdout",
          "text": [
            "1 \n",
            "1 0 \n",
            "1 0 1 \n",
            "1 0 1 0 \n",
            "1 0 1 0 1 \n"
          ]
        }
      ]
    },
    {
      "cell_type": "code",
      "source": [
        "for i in range(1,6):# controlls\n",
        "    for j in range(1,i+1):\n",
        "        print(i%2,end=' ')#prints\n",
        "    print()#shifts to new line"
      ],
      "metadata": {
        "id": "PkAAzjlt3Rqq",
        "outputId": "81fe4443-c9a2-40cc-b8b7-6bf7c9826b43",
        "colab": {
          "base_uri": "https://localhost:8080/"
        }
      },
      "execution_count": null,
      "outputs": [
        {
          "output_type": "stream",
          "name": "stdout",
          "text": [
            "1 \n",
            "0 0 \n",
            "1 1 1 \n",
            "0 0 0 0 \n",
            "1 1 1 1 1 \n"
          ]
        }
      ]
    },
    {
      "cell_type": "code",
      "source": [
        "for i in range(5,0,-1):#ntrolls\n",
        "    for j in range(1,i+1):\n",
        "        print(j,end=' ')#prints\n",
        "    print()#shifts to new line"
      ],
      "metadata": {
        "colab": {
          "base_uri": "https://localhost:8080/"
        },
        "id": "dsripMVQ0j_i",
        "outputId": "56ed59bc-7fac-4bcd-9068-9cdf7ab57ff0"
      },
      "execution_count": null,
      "outputs": [
        {
          "output_type": "stream",
          "name": "stdout",
          "text": [
            "1 2 3 4 5 \n",
            "1 2 3 4 \n",
            "1 2 3 \n",
            "1 2 \n",
            "1 \n"
          ]
        }
      ]
    },
    {
      "cell_type": "code",
      "source": [
        "for i in range(5,0,-1):#controlls\n",
        "    for j in range(5,i-1,-1):\n",
        "        print(j,end=' ')#prints\n",
        "    print()#shifts to new line"
      ],
      "metadata": {
        "colab": {
          "base_uri": "https://localhost:8080/"
        },
        "id": "i9WvzkxW2UMb",
        "outputId": "c8ca41b5-fddc-43a8-eea7-a1a54a017168"
      },
      "execution_count": null,
      "outputs": [
        {
          "output_type": "stream",
          "name": "stdout",
          "text": [
            "5 \n",
            "5 4 \n",
            "5 4 3 \n",
            "5 4 3 2 \n",
            "5 4 3 2 1 \n"
          ]
        }
      ]
    }
  ]
}