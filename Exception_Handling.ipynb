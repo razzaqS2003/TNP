{
  "nbformat": 4,
  "nbformat_minor": 0,
  "metadata": {
    "colab": {
      "provenance": [],
      "include_colab_link": true
    },
    "kernelspec": {
      "name": "python3",
      "display_name": "Python 3"
    },
    "language_info": {
      "name": "python"
    }
  },
  "cells": [
    {
      "cell_type": "markdown",
      "metadata": {
        "id": "view-in-github",
        "colab_type": "text"
      },
      "source": [
        "<a href=\"https://colab.research.google.com/github/razzaqS2003/TNP/blob/main/Exception_Handling.ipynb\" target=\"_parent\"><img src=\"https://colab.research.google.com/assets/colab-badge.svg\" alt=\"Open In Colab\"/></a>"
      ]
    },
    {
      "cell_type": "code",
      "metadata": {
        "id": "rBiAPbrzofNc",
        "colab": {
          "base_uri": "https://localhost:8080/",
          "height": 288
        },
        "outputId": "9e948c78-532c-47b4-e234-09272cef7ffe"
      },
      "source": [
        "#we only trappiong error not what type\n",
        "a=int(input(\"Enter a number:\"))\n",
        "b=int(input(\"Enter other number:\"))\n",
        "c=a/b\n",
        "#car speed\n",
        "print (\"C is\",c)\n",
        "print(\"Code is running\")\n",
        "print(\"coded by amarthecodelifecoach\")"
      ],
      "execution_count": null,
      "outputs": [
        {
          "name": "stdout",
          "output_type": "stream",
          "text": [
            "Enter a number:3\n",
            "Enter other number:0\n"
          ]
        },
        {
          "output_type": "error",
          "ename": "ZeroDivisionError",
          "evalue": "division by zero",
          "traceback": [
            "\u001b[0;31m---------------------------------------------------------------------------\u001b[0m",
            "\u001b[0;31mZeroDivisionError\u001b[0m                         Traceback (most recent call last)",
            "\u001b[0;32m<ipython-input-3-39415ebaff51>\u001b[0m in \u001b[0;36m<cell line: 4>\u001b[0;34m()\u001b[0m\n\u001b[1;32m      2\u001b[0m \u001b[0ma\u001b[0m\u001b[0;34m=\u001b[0m\u001b[0mint\u001b[0m\u001b[0;34m(\u001b[0m\u001b[0minput\u001b[0m\u001b[0;34m(\u001b[0m\u001b[0;34m\"Enter a number:\"\u001b[0m\u001b[0;34m)\u001b[0m\u001b[0;34m)\u001b[0m\u001b[0;34m\u001b[0m\u001b[0;34m\u001b[0m\u001b[0m\n\u001b[1;32m      3\u001b[0m \u001b[0mb\u001b[0m\u001b[0;34m=\u001b[0m\u001b[0mint\u001b[0m\u001b[0;34m(\u001b[0m\u001b[0minput\u001b[0m\u001b[0;34m(\u001b[0m\u001b[0;34m\"Enter other number:\"\u001b[0m\u001b[0;34m)\u001b[0m\u001b[0;34m)\u001b[0m\u001b[0;34m\u001b[0m\u001b[0;34m\u001b[0m\u001b[0m\n\u001b[0;32m----> 4\u001b[0;31m \u001b[0mc\u001b[0m\u001b[0;34m=\u001b[0m\u001b[0ma\u001b[0m\u001b[0;34m/\u001b[0m\u001b[0mb\u001b[0m\u001b[0;34m\u001b[0m\u001b[0;34m\u001b[0m\u001b[0m\n\u001b[0m\u001b[1;32m      5\u001b[0m \u001b[0;31m#car speed\u001b[0m\u001b[0;34m\u001b[0m\u001b[0;34m\u001b[0m\u001b[0m\n\u001b[1;32m      6\u001b[0m \u001b[0mprint\u001b[0m \u001b[0;34m(\u001b[0m\u001b[0;34m\"C is\"\u001b[0m\u001b[0;34m,\u001b[0m\u001b[0mc\u001b[0m\u001b[0;34m)\u001b[0m\u001b[0;34m\u001b[0m\u001b[0;34m\u001b[0m\u001b[0m\n",
            "\u001b[0;31mZeroDivisionError\u001b[0m: division by zero"
          ]
        }
      ]
    },
    {
      "cell_type": "code",
      "metadata": {
        "colab": {
          "base_uri": "https://localhost:8080/"
        },
        "id": "gx5IacVPo-Ll",
        "outputId": "d042ff50-08ec-41a1-ed69-1b671147738a"
      },
      "source": [
        "#we only trappiong error not what type\n",
        "try:\n",
        "    a=int(input(\"Enter a number:\"))\n",
        "    b=int(input(\"Enter other number:\"))\n",
        "    c=a/b\n",
        "except Exception:\n",
        "    print(\"Exception\")\n",
        "else:\n",
        "    print (\"C is\",c)\n",
        "finally:\n",
        "    print(\"stop the car\")\n",
        "#part of code after handling exception\n",
        "print(\"still code is running\")"
      ],
      "execution_count": null,
      "outputs": [
        {
          "output_type": "stream",
          "name": "stdout",
          "text": [
            "Enter a number:9\n",
            "Enter other number:0\n",
            "Exception\n",
            "stop the car\n",
            "still code is running\n"
          ]
        }
      ]
    },
    {
      "cell_type": "code",
      "metadata": {
        "colab": {
          "base_uri": "https://localhost:8080/"
        },
        "id": "s2SGEjdQrjCe",
        "outputId": "645d9114-964c-4187-b549-1f1f8f1d68dc"
      },
      "source": [
        "#we can trap type of error by arg\n",
        "try:\n",
        "    a=int(input(\"Enter a number:\"))\n",
        "    b=int(input(\"Enter other number:\"))\n",
        "    c=a/b\n",
        "except Exception as arg:\n",
        "    print(\"Exception:\",arg)\n",
        "else:\n",
        "    print (\"C is\",c)\n",
        "finally:\n",
        "    print(\"by Amar sir\")\n",
        "print(\"End of code\")\n",
        "print(\"bye\")"
      ],
      "execution_count": null,
      "outputs": [
        {
          "output_type": "stream",
          "name": "stdout",
          "text": [
            "Enter a number:9\n",
            "Enter other number:0\n",
            "Exception: division by zero\n",
            "by Amar sir\n",
            "End of code\n",
            "bye\n"
          ]
        }
      ]
    },
    {
      "cell_type": "code",
      "metadata": {
        "id": "Lt1Mh4cpoZCg",
        "colab": {
          "base_uri": "https://localhost:8080/"
        },
        "outputId": "c1148e8b-29d5-48c0-d115-c12e3971447e"
      },
      "source": [
        "#else was optional\n",
        "try:\n",
        "    a=int(input(\"Enter a number:\"))\n",
        "    b=int(input(\"Enter other number:\"))\n",
        "    c=a/b\n",
        "    print (\"C is\",c)\n",
        "except Exception as arg:\n",
        "    print(\"Exception:\",arg)\n",
        "finally:\n",
        "    print(\"by Amar sir\")\n",
        "print(\"code continues\")\n",
        "print(\"remaining code continues\")"
      ],
      "execution_count": null,
      "outputs": [
        {
          "output_type": "stream",
          "name": "stdout",
          "text": [
            "Enter a number:7\n",
            "Enter other number:0\n",
            "Exception: division by zero\n",
            "by Amar sir\n",
            "code continues\n",
            "remaining code continues\n"
          ]
        }
      ]
    },
    {
      "cell_type": "code",
      "source": [
        "#finally was optional\n",
        "try:\n",
        "    a=int(input(\"Enter a number:\"))\n",
        "    b=int(input(\"Enter other number:\"))\n",
        "    c=a/b\n",
        "    print (\"C is\",c)\n",
        "except Exception as arg:\n",
        "    print(\"Exception:\",arg)\n",
        "\n",
        "print(\"remaining code\")\n"
      ],
      "metadata": {
        "colab": {
          "base_uri": "https://localhost:8080/"
        },
        "id": "5wGD_Sc1zP0n",
        "outputId": "5a6a09b6-20b3-4f5a-dd19-dc1c1c587c4d"
      },
      "execution_count": null,
      "outputs": [
        {
          "output_type": "stream",
          "name": "stdout",
          "text": [
            "Enter a number:0\n",
            "Enter other number:0\n",
            "Exception: division by zero\n",
            "remaining code\n"
          ]
        }
      ]
    },
    {
      "cell_type": "code",
      "source": [
        "#special case finally runs\n",
        "#and then code stops after throwing exception\n",
        "#in normal case runs\n",
        "#in case or error stops ,finally executes and then code stops\n",
        "try:\n",
        "    a=int(input(\"Enter a number:\"))\n",
        "    b=int(input(\"Enter other number:\"))\n",
        "    c=a/b\n",
        "    print (\"C is\",c)\n",
        "finally:\n",
        "    print(\"Finally executed\")\n",
        "print(\"Remaining code to run\")\n"
      ],
      "metadata": {
        "colab": {
          "base_uri": "https://localhost:8080/",
          "height": 306
        },
        "id": "ov0d92yA0llq",
        "outputId": "873305ef-331f-4ec9-fa7f-c1cf1583d8cd"
      },
      "execution_count": null,
      "outputs": [
        {
          "output_type": "stream",
          "name": "stdout",
          "text": [
            "Enter a number:7\n",
            "Enter other number:0\n",
            "Finally executed\n"
          ]
        },
        {
          "output_type": "error",
          "ename": "ZeroDivisionError",
          "evalue": "division by zero",
          "traceback": [
            "\u001b[0;31m---------------------------------------------------------------------------\u001b[0m",
            "\u001b[0;31mZeroDivisionError\u001b[0m                         Traceback (most recent call last)",
            "\u001b[0;32m<ipython-input-15-4074ce1c19bf>\u001b[0m in \u001b[0;36m<cell line: 5>\u001b[0;34m()\u001b[0m\n\u001b[1;32m      6\u001b[0m     \u001b[0ma\u001b[0m\u001b[0;34m=\u001b[0m\u001b[0mint\u001b[0m\u001b[0;34m(\u001b[0m\u001b[0minput\u001b[0m\u001b[0;34m(\u001b[0m\u001b[0;34m\"Enter a number:\"\u001b[0m\u001b[0;34m)\u001b[0m\u001b[0;34m)\u001b[0m\u001b[0;34m\u001b[0m\u001b[0;34m\u001b[0m\u001b[0m\n\u001b[1;32m      7\u001b[0m     \u001b[0mb\u001b[0m\u001b[0;34m=\u001b[0m\u001b[0mint\u001b[0m\u001b[0;34m(\u001b[0m\u001b[0minput\u001b[0m\u001b[0;34m(\u001b[0m\u001b[0;34m\"Enter other number:\"\u001b[0m\u001b[0;34m)\u001b[0m\u001b[0;34m)\u001b[0m\u001b[0;34m\u001b[0m\u001b[0;34m\u001b[0m\u001b[0m\n\u001b[0;32m----> 8\u001b[0;31m     \u001b[0mc\u001b[0m\u001b[0;34m=\u001b[0m\u001b[0ma\u001b[0m\u001b[0;34m/\u001b[0m\u001b[0mb\u001b[0m\u001b[0;34m\u001b[0m\u001b[0;34m\u001b[0m\u001b[0m\n\u001b[0m\u001b[1;32m      9\u001b[0m     \u001b[0mprint\u001b[0m \u001b[0;34m(\u001b[0m\u001b[0;34m\"C is\"\u001b[0m\u001b[0;34m,\u001b[0m\u001b[0mc\u001b[0m\u001b[0;34m)\u001b[0m\u001b[0;34m\u001b[0m\u001b[0;34m\u001b[0m\u001b[0m\n\u001b[1;32m     10\u001b[0m \u001b[0;32mfinally\u001b[0m\u001b[0;34m:\u001b[0m\u001b[0;34m\u001b[0m\u001b[0;34m\u001b[0m\u001b[0m\n",
            "\u001b[0;31mZeroDivisionError\u001b[0m: division by zero"
          ]
        }
      ]
    },
    {
      "cell_type": "code",
      "source": [
        "class AgeException(Exception):#class must inherit Exception class\n",
        "    def __init__(self,data):#init to take /read data\n",
        "        self.data=data\n",
        "    def __str__(self):#str to print issue\n",
        "        return \"Exception : \"+str(self.data)+\" Under 18\"\n",
        "\n",
        "try:\n",
        "    n=int(input(\"Enter age : \"))\n",
        "    if n>=18:\n",
        "      print(\"You can vote, your age is \",n)\n",
        "    else:\n",
        "      raise AgeException(n)#raise that will raise exception human driven\n",
        "except Exception as msg:\n",
        "    print(msg)"
      ],
      "metadata": {
        "id": "9AyPxdDrwZCk"
      },
      "execution_count": null,
      "outputs": []
    },
    {
      "cell_type": "code",
      "source": [
        "class UserExceptions(Exception):\n",
        "    def __init__(self,no):\n",
        "        self.no=no\n",
        "    def __str__(self):\n",
        "        if self.no==101:\n",
        "            return str(self.no)+\": is access error\"\n",
        "        elif self.no==404:\n",
        "            return str(self.no)+\": is page not found error\"\n",
        "        else:\n",
        "            return str(self.no)+\": is unknown error\""
      ],
      "metadata": {
        "id": "LCq5zwWsF2oD"
      },
      "execution_count": null,
      "outputs": []
    },
    {
      "cell_type": "code",
      "source": [
        "try:\n",
        "    raise UserExceptions(555)\n",
        "except Exception as arg:\n",
        "    print(arg)"
      ],
      "metadata": {
        "id": "ff0HRhLKGjUY"
      },
      "execution_count": null,
      "outputs": []
    },
    {
      "cell_type": "code",
      "source": [
        "class Maths:\n",
        "    def add(self,no1,no2):\n",
        "        print(type(no1),type(no2),no1+no2)"
      ],
      "metadata": {
        "id": "szoXJPMgFzi_"
      },
      "execution_count": null,
      "outputs": []
    },
    {
      "cell_type": "code",
      "source": [
        "obj=Maths()"
      ],
      "metadata": {
        "id": "bMOY3dbzzEuT"
      },
      "execution_count": null,
      "outputs": []
    },
    {
      "cell_type": "code",
      "source": [
        "obj.add(10,20)\n",
        "obj.add(12.3,4.5)\n",
        "obj.add(\"am\",\"ar\")"
      ],
      "metadata": {
        "id": "D19ckoFdzHau"
      },
      "execution_count": null,
      "outputs": []
    },
    {
      "cell_type": "code",
      "source": [],
      "metadata": {
        "id": "10DJYPVCzbhN"
      },
      "execution_count": null,
      "outputs": []
    }
  ]
}