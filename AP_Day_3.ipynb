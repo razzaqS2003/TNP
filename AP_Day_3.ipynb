{
  "nbformat": 4,
  "nbformat_minor": 0,
  "metadata": {
    "colab": {
      "provenance": [],
      "include_colab_link": true
    },
    "kernelspec": {
      "name": "python3",
      "display_name": "Python 3"
    },
    "language_info": {
      "name": "python"
    }
  },
  "cells": [
    {
      "cell_type": "markdown",
      "metadata": {
        "id": "view-in-github",
        "colab_type": "text"
      },
      "source": [
        "<a href=\"https://colab.research.google.com/github/razzaqS2003/TNP/blob/main/AP_Day_3.ipynb\" target=\"_parent\"><img src=\"https://colab.research.google.com/assets/colab-badge.svg\" alt=\"Open In Colab\"/></a>"
      ]
    },
    {
      "cell_type": "code",
      "execution_count": null,
      "metadata": {
        "id": "fU2K-PSArC9Q"
      },
      "outputs": [],
      "source": [
        "s='amar\n",
        "panchal'\n",
        "s2=\"amar\n",
        "amar\"\n",
        "s3='''amar\n",
        "panchal'''\n",
        "s4=\"\"\"amar\n",
        "panchal\"\"\""
      ]
    },
    {
      "cell_type": "code",
      "source": [
        "print(s,s2,s3,s4)"
      ],
      "metadata": {
        "colab": {
          "base_uri": "https://localhost:8080/"
        },
        "id": "6QxTsJZRvABi",
        "outputId": "8d8a0eb5-cda6-4b6c-8774-def8100082fb"
      },
      "execution_count": null,
      "outputs": [
        {
          "output_type": "stream",
          "name": "stdout",
          "text": [
            "amar amar amar amar\n"
          ]
        }
      ]
    },
    {
      "cell_type": "code",
      "source": [
        "s='abcdefghi'\n",
        "for character in s:\n",
        "    print(character)"
      ],
      "metadata": {
        "colab": {
          "base_uri": "https://localhost:8080/"
        },
        "id": "IApLoOBivrF0",
        "outputId": "b19e0692-cbf8-49f1-b23a-925c13d9dbe1"
      },
      "execution_count": null,
      "outputs": [
        {
          "output_type": "stream",
          "name": "stdout",
          "text": [
            "a\n",
            "b\n",
            "c\n",
            "d\n",
            "e\n",
            "f\n",
            "g\n",
            "h\n",
            "i\n"
          ]
        }
      ]
    },
    {
      "cell_type": "code",
      "source": [
        "s=\"abcdefghi\"\n",
        "for index in range(len(s)):\n",
        "    print(\"at\",index,\"we have\",s[index])"
      ],
      "metadata": {
        "colab": {
          "base_uri": "https://localhost:8080/"
        },
        "id": "WGZjrQ1av6Mr",
        "outputId": "d6575bcc-7122-4071-ecd7-e2c3dab82242"
      },
      "execution_count": null,
      "outputs": [
        {
          "output_type": "stream",
          "name": "stdout",
          "text": [
            "at 0 we have a\n",
            "at 1 we have b\n",
            "at 2 we have c\n",
            "at 3 we have d\n",
            "at 4 we have e\n",
            "at 5 we have f\n",
            "at 6 we have g\n",
            "at 7 we have h\n",
            "at 8 we have i\n"
          ]
        }
      ]
    },
    {
      "cell_type": "code",
      "source": [
        "s=\"abcdefghi\"\n",
        "print(s[-2])"
      ],
      "metadata": {
        "colab": {
          "base_uri": "https://localhost:8080/"
        },
        "id": "FU_4aXnRwSt7",
        "outputId": "6e6de52d-4302-4ab1-8089-1aa72569ac0a"
      },
      "execution_count": null,
      "outputs": [
        {
          "output_type": "stream",
          "name": "stdout",
          "text": [
            "h\n"
          ]
        }
      ]
    },
    {
      "cell_type": "code",
      "source": [
        "ord('a')"
      ],
      "metadata": {
        "colab": {
          "base_uri": "https://localhost:8080/"
        },
        "id": "K0VHsk0rwdsk",
        "outputId": "379c53bf-7721-462f-d3fa-b832d53ef69e"
      },
      "execution_count": null,
      "outputs": [
        {
          "output_type": "execute_result",
          "data": {
            "text/plain": [
              "97"
            ]
          },
          "metadata": {},
          "execution_count": 8
        }
      ]
    },
    {
      "cell_type": "code",
      "source": [
        "chr(98)"
      ],
      "metadata": {
        "colab": {
          "base_uri": "https://localhost:8080/",
          "height": 36
        },
        "id": "7-RKXFxTy2Xi",
        "outputId": "2b40776c-6d8e-41a0-dfad-ea0fbf9d7ac8"
      },
      "execution_count": null,
      "outputs": [
        {
          "output_type": "execute_result",
          "data": {
            "text/plain": [
              "'b'"
            ],
            "application/vnd.google.colaboratory.intrinsic+json": {
              "type": "string"
            }
          },
          "metadata": {},
          "execution_count": 9
        }
      ]
    },
    {
      "cell_type": "code",
      "source": [
        "#print A-Z with ASCII values:\n",
        "#A-65\n",
        "#B-66\n",
        "for i in range(ord('A'),ord('Z')+1):\n",
        "    print(chr(i),\"-\",i)"
      ],
      "metadata": {
        "id": "b0NPTs2lzF3m"
      },
      "execution_count": null,
      "outputs": []
    },
    {
      "cell_type": "code",
      "source": [
        "#take to characters from user and print triangle\n",
        "'''start:P end:T\n",
        "P\n",
        "PQ\n",
        "PQR\n",
        "PQRS\n",
        "PQRST\n",
        "'''\n",
        "start=input(\"Enter start:\")\n",
        "end=input(\"Enter end:\")\n",
        "for i in range(ord(start),ord(end)+1):\n",
        "    for j in range(ord(start),i+1):\n",
        "        print(chr(j),end=\" \")\n",
        "    print()\n"
      ],
      "metadata": {
        "colab": {
          "base_uri": "https://localhost:8080/"
        },
        "id": "Itge2vbS0vNy",
        "outputId": "50ee6102-696d-4f18-a8bd-fd679f8c1ce6"
      },
      "execution_count": null,
      "outputs": [
        {
          "output_type": "stream",
          "name": "stdout",
          "text": [
            "Enter start:B\n",
            "Enter end:F\n",
            "B \n",
            "B C \n",
            "B C D \n",
            "B C D E \n",
            "B C D E F \n"
          ]
        }
      ]
    },
    {
      "cell_type": "code",
      "source": [
        "'''#Start Printing:\n",
        "X\n",
        "X X\n",
        "X X X\n",
        "X X X X'''\n",
        "for i in range(1,5):\n",
        "    for j in range(1,i+1):\n",
        "        print(\"X\",end=\" \")\n",
        "    print()\n"
      ],
      "metadata": {
        "colab": {
          "base_uri": "https://localhost:8080/"
        },
        "id": "MH3Yp5-S33NL",
        "outputId": "1369efcd-150e-406d-b316-769df0b7beae"
      },
      "execution_count": null,
      "outputs": [
        {
          "output_type": "stream",
          "name": "stdout",
          "text": [
            "X \n",
            "X X \n",
            "X X X \n",
            "X X X X \n"
          ]
        }
      ]
    },
    {
      "cell_type": "code",
      "source": [
        "s=\"god \"\n",
        "print(s*5)#string * n repeates string for n times"
      ],
      "metadata": {
        "colab": {
          "base_uri": "https://localhost:8080/"
        },
        "id": "jXASpm6r4iUK",
        "outputId": "70076e40-46dc-40be-b948-8b5b786193bc"
      },
      "execution_count": null,
      "outputs": [
        {
          "output_type": "stream",
          "name": "stdout",
          "text": [
            "god god god god god \n"
          ]
        }
      ]
    },
    {
      "cell_type": "code",
      "source": [
        "                 #lastline +1\n",
        "for i in range(1,5):\n",
        "               #1st line\n",
        "    print(\"X \"*i)\n"
      ],
      "metadata": {
        "colab": {
          "base_uri": "https://localhost:8080/"
        },
        "id": "h-HUvvuj4Rn6",
        "outputId": "e99928c4-358b-4bde-95d1-1bd96fadae74"
      },
      "execution_count": null,
      "outputs": [
        {
          "output_type": "stream",
          "name": "stdout",
          "text": [
            "X \n",
            "X X \n",
            "X X X \n",
            "X X X X \n"
          ]
        }
      ]
    },
    {
      "cell_type": "code",
      "source": [
        "for i in range(5,0,-1):\n",
        "               #1st line\n",
        "    print(\"X \"*i)"
      ],
      "metadata": {
        "colab": {
          "base_uri": "https://localhost:8080/"
        },
        "id": "7NegdPem5K-t",
        "outputId": "a0f76f75-05ac-4669-a49d-d27b271588a3"
      },
      "execution_count": null,
      "outputs": [
        {
          "output_type": "stream",
          "name": "stdout",
          "text": [
            "X X X X X \n",
            "X X X X \n",
            "X X X \n",
            "X X \n",
            "X \n"
          ]
        }
      ]
    },
    {
      "cell_type": "code",
      "source": [
        "for i in range(1,6):\n",
        "    print(\"@\"*(6-i),\"X$\"*i)"
      ],
      "metadata": {
        "colab": {
          "base_uri": "https://localhost:8080/"
        },
        "id": "xpbs02Qq7OS_",
        "outputId": "ed00cf53-b5d2-424c-8be9-941f52144495"
      },
      "execution_count": null,
      "outputs": [
        {
          "output_type": "stream",
          "name": "stdout",
          "text": [
            "@@@@@ X$\n",
            "@@@@ X$X$\n",
            "@@@ X$X$X$\n",
            "@@ X$X$X$X$\n",
            "@ X$X$X$X$X$\n"
          ]
        }
      ]
    },
    {
      "cell_type": "code",
      "source": [
        "for i in range(1,5):\n",
        "    print(\" \"*(6-i),\"X \"*i)\n",
        "for i in range(3,0,-1):\n",
        "    print(\" \"*(6-i),\"X \"*i)"
      ],
      "metadata": {
        "colab": {
          "base_uri": "https://localhost:8080/"
        },
        "id": "ajyDxN1989oN",
        "outputId": "be58dea9-bee2-41e1-afb4-71bcd9fa33a0"
      },
      "execution_count": null,
      "outputs": [
        {
          "output_type": "stream",
          "name": "stdout",
          "text": [
            "      X \n",
            "     X X \n",
            "    X X X \n",
            "   X X X X \n",
            "    X X X \n",
            "     X X \n",
            "      X \n"
          ]
        }
      ]
    },
    {
      "cell_type": "code",
      "source": [
        "print(\"X\"*6)\n",
        "for i in range(1,5):\n",
        "    print(\"X\",\" \"*2,\"X\")\n",
        "print(\"X\"*6)"
      ],
      "metadata": {
        "colab": {
          "base_uri": "https://localhost:8080/"
        },
        "id": "AvQ2M7XW9hiY",
        "outputId": "86749621-7853-498f-8ec1-2f3c33ad1349"
      },
      "execution_count": null,
      "outputs": [
        {
          "output_type": "stream",
          "name": "stdout",
          "text": [
            "XXXXXX\n",
            "X    X\n",
            "X    X\n",
            "X    X\n",
            "X    X\n",
            "XXXXXX\n"
          ]
        }
      ]
    },
    {
      "cell_type": "code",
      "source": [
        "\"am\"+\"ar\""
      ],
      "metadata": {
        "colab": {
          "base_uri": "https://localhost:8080/",
          "height": 36
        },
        "id": "yWjIS82b-HQs",
        "outputId": "e7ad8da9-478b-4b9f-93f4-91a0a1ccf016"
      },
      "execution_count": null,
      "outputs": [
        {
          "output_type": "execute_result",
          "data": {
            "text/plain": [
              "'amar'"
            ],
            "application/vnd.google.colaboratory.intrinsic+json": {
              "type": "string"
            }
          },
          "metadata": {},
          "execution_count": 39
        }
      ]
    },
    {
      "cell_type": "code",
      "source": [
        "s=\"python\"\n",
        "s[:3]\n",
        "#[start:end]\n",
        "#[:end] 0 to end\n",
        "#[start:] to end"
      ],
      "metadata": {
        "colab": {
          "base_uri": "https://localhost:8080/",
          "height": 36
        },
        "id": "5-SyXoaP-cM5",
        "outputId": "0327a8d0-1ed7-454a-cd0a-1b0ac995b14a"
      },
      "execution_count": null,
      "outputs": [
        {
          "output_type": "execute_result",
          "data": {
            "text/plain": [
              "'pyt'"
            ],
            "application/vnd.google.colaboratory.intrinsic+json": {
              "type": "string"
            }
          },
          "metadata": {},
          "execution_count": 43
        }
      ]
    },
    {
      "cell_type": "code",
      "source": [
        "#create word triangle\n",
        "s=input(\"enter word:\")\n",
        "for i in range(1,len(s)+1):\n",
        "    print(s[:i])\n"
      ],
      "metadata": {
        "colab": {
          "base_uri": "https://localhost:8080/"
        },
        "id": "nQrQb-gT-cD_",
        "outputId": "0fb4afaf-5b11-4dc0-e6de-bfbf7ce1ed08"
      },
      "execution_count": null,
      "outputs": [
        {
          "output_type": "stream",
          "name": "stdout",
          "text": [
            "enter word:python\n",
            "p\n",
            "py\n",
            "pyt\n",
            "pyth\n",
            "pytho\n",
            "python\n"
          ]
        }
      ]
    },
    {
      "cell_type": "code",
      "source": [
        "\"aman\" in \"amarandra bahubali\""
      ],
      "metadata": {
        "colab": {
          "base_uri": "https://localhost:8080/"
        },
        "id": "cUJiXCkBBE71",
        "outputId": "f8782a2c-4082-40d3-ba55-13cb86baf094"
      },
      "execution_count": null,
      "outputs": [
        {
          "output_type": "execute_result",
          "data": {
            "text/plain": [
              "False"
            ]
          },
          "metadata": {},
          "execution_count": 48
        }
      ]
    },
    {
      "cell_type": "code",
      "source": [
        "line=\"thIS IS sO MUch FuN\"\n"
      ],
      "metadata": {
        "id": "yfZgAxkpBu8R"
      },
      "execution_count": null,
      "outputs": []
    },
    {
      "cell_type": "code",
      "source": [
        "line.capitalize()"
      ],
      "metadata": {
        "colab": {
          "base_uri": "https://localhost:8080/",
          "height": 36
        },
        "id": "9CeIvZt1B3_d",
        "outputId": "20c44a91-7dc4-4908-971b-695bf7f9f4cd"
      },
      "execution_count": null,
      "outputs": [
        {
          "output_type": "execute_result",
          "data": {
            "text/plain": [
              "'This is so much fun'"
            ],
            "application/vnd.google.colaboratory.intrinsic+json": {
              "type": "string"
            }
          },
          "metadata": {},
          "execution_count": 50
        }
      ]
    },
    {
      "cell_type": "code",
      "source": [
        "line.title()"
      ],
      "metadata": {
        "colab": {
          "base_uri": "https://localhost:8080/",
          "height": 36
        },
        "id": "JtvQP8RiB4yO",
        "outputId": "ffaf55c0-f2f8-4ab4-dcba-0b2e3317b292"
      },
      "execution_count": null,
      "outputs": [
        {
          "output_type": "execute_result",
          "data": {
            "text/plain": [
              "'This Is So Much Fun'"
            ],
            "application/vnd.google.colaboratory.intrinsic+json": {
              "type": "string"
            }
          },
          "metadata": {},
          "execution_count": 51
        }
      ]
    },
    {
      "cell_type": "code",
      "source": [
        "s=\"imagination\"\n",
        "print(s.find(\"i\"),s.rfind(\"i\"))"
      ],
      "metadata": {
        "colab": {
          "base_uri": "https://localhost:8080/"
        },
        "id": "f_KniHBrClyG",
        "outputId": "0fe4b7ae-91ed-4855-ac73-ba17bd3f95d1"
      },
      "execution_count": null,
      "outputs": [
        {
          "output_type": "stream",
          "name": "stdout",
          "text": [
            "0 8\n"
          ]
        }
      ]
    },
    {
      "cell_type": "code",
      "source": [
        "s=\"py\"\n",
        "s.center(10,\"*\")"
      ],
      "metadata": {
        "colab": {
          "base_uri": "https://localhost:8080/",
          "height": 36
        },
        "id": "Zy8QSAEODZ28",
        "outputId": "e44c2160-18a8-42ba-9a43-a542c36b8d18"
      },
      "execution_count": null,
      "outputs": [
        {
          "output_type": "execute_result",
          "data": {
            "text/plain": [
              "'****py****'"
            ],
            "application/vnd.google.colaboratory.intrinsic+json": {
              "type": "string"
            }
          },
          "metadata": {},
          "execution_count": 53
        }
      ]
    },
    {
      "cell_type": "code",
      "source": [
        "s.ljust(10,\"$\")"
      ],
      "metadata": {
        "colab": {
          "base_uri": "https://localhost:8080/",
          "height": 36
        },
        "id": "kPVK9fm0DiJ_",
        "outputId": "c277b7d9-a5a6-4675-8f07-28abc138b2bf"
      },
      "execution_count": null,
      "outputs": [
        {
          "output_type": "execute_result",
          "data": {
            "text/plain": [
              "'py$$$$$$$$'"
            ],
            "application/vnd.google.colaboratory.intrinsic+json": {
              "type": "string"
            }
          },
          "metadata": {},
          "execution_count": 54
        }
      ]
    },
    {
      "cell_type": "code",
      "source": [
        "s.rjust(10,\"#\")"
      ],
      "metadata": {
        "colab": {
          "base_uri": "https://localhost:8080/",
          "height": 36
        },
        "id": "HPpI8hENDnZV",
        "outputId": "a4f301b9-0407-4413-ec87-9911690b6bed"
      },
      "execution_count": null,
      "outputs": [
        {
          "output_type": "execute_result",
          "data": {
            "text/plain": [
              "'########py'"
            ],
            "application/vnd.google.colaboratory.intrinsic+json": {
              "type": "string"
            }
          },
          "metadata": {},
          "execution_count": 55
        }
      ]
    },
    {
      "cell_type": "code",
      "source": [
        "s=\"X\"\n",
        "print(s.center(10))\n",
        "s=s*2\n",
        "print(s.center(10))"
      ],
      "metadata": {
        "colab": {
          "base_uri": "https://localhost:8080/"
        },
        "id": "YCXM7eUiD2Cp",
        "outputId": "57ce3bb9-8718-4694-e41e-3f1536cec7d3"
      },
      "execution_count": null,
      "outputs": [
        {
          "output_type": "stream",
          "name": "stdout",
          "text": [
            "    X     \n",
            "    XX    \n"
          ]
        }
      ]
    },
    {
      "cell_type": "code",
      "source": [
        "s=\"*\"\n",
        "space=10\n",
        "for i in range(1,10):\n",
        "    print(s.ljust(space))\n",
        "    s=s*2\n",
        "    space-=i"
      ],
      "metadata": {
        "colab": {
          "base_uri": "https://localhost:8080/"
        },
        "id": "b5ZZh1ceEG8e",
        "outputId": "d46053d7-f8a7-4c2d-e6b3-b3f19a2492e6"
      },
      "execution_count": null,
      "outputs": [
        {
          "output_type": "stream",
          "name": "stdout",
          "text": [
            "*         \n",
            "**       \n",
            "****   \n",
            "********\n",
            "****************\n",
            "********************************\n",
            "****************************************************************\n",
            "********************************************************************************************************************************\n",
            "****************************************************************************************************************************************************************************************************************************************************************\n"
          ]
        }
      ]
    },
    {
      "cell_type": "code",
      "source": [
        "'''\n",
        "consider one has result of 2 students\n",
        "in a list\n",
        "plot alternet histrogram for the same\n",
        "but student 1 left align\n",
        "student 2 is right align\n",
        "'''\n",
        "s1=[77,33,42,54]\n",
        "s2=[44,52,71,77]\n",
        "s_1=\"#\"\n",
        "s_2=\"*\"\n",
        "for i in range(4):\n",
        "    sp1=s_1*s1[i]\n",
        "    print(s1[i],sp1.ljust(80))\n",
        "    sp2=s_2*s2[i]\n",
        "    print(sp2.rjust(80),s2[i])\n",
        "\n"
      ],
      "metadata": {
        "colab": {
          "base_uri": "https://localhost:8080/"
        },
        "id": "wDJa716HEfj7",
        "outputId": "bf761e8c-9ed9-4dc8-b099-3f11f7206e14"
      },
      "execution_count": null,
      "outputs": [
        {
          "output_type": "stream",
          "name": "stdout",
          "text": [
            "77 #############################################################################   \n",
            "                                    ******************************************** 44\n",
            "33 #################################                                               \n",
            "                            **************************************************** 52\n",
            "42 ##########################################                                      \n",
            "         *********************************************************************** 71\n",
            "54 ######################################################                          \n",
            "   ***************************************************************************** 77\n"
          ]
        }
      ]
    },
    {
      "cell_type": "code",
      "source": [
        "line=\"he did this\"\n",
        "line.replace(\"he\",\"she\")\n"
      ],
      "metadata": {
        "colab": {
          "base_uri": "https://localhost:8080/",
          "height": 36
        },
        "id": "90bFE0AxJF7F",
        "outputId": "4386b067-828a-4395-d8b4-2c5447db61b0"
      },
      "execution_count": null,
      "outputs": [
        {
          "output_type": "execute_result",
          "data": {
            "text/plain": [
              "'she did this'"
            ],
            "application/vnd.google.colaboratory.intrinsic+json": {
              "type": "string"
            }
          },
          "metadata": {},
          "execution_count": 63
        }
      ]
    },
    {
      "cell_type": "code",
      "source": [
        "line=\"this is done\"\n",
        "line.replace(\" is \",\" was \")"
      ],
      "metadata": {
        "colab": {
          "base_uri": "https://localhost:8080/",
          "height": 36
        },
        "id": "fZ5V70mcJVH3",
        "outputId": "3a7d11fc-d7c3-4261-8c99-5766386435fc"
      },
      "execution_count": null,
      "outputs": [
        {
          "output_type": "execute_result",
          "data": {
            "text/plain": [
              "'this was done'"
            ],
            "application/vnd.google.colaboratory.intrinsic+json": {
              "type": "string"
            }
          },
          "metadata": {},
          "execution_count": 66
        }
      ]
    },
    {
      "cell_type": "code",
      "source": [
        "line=\"amar mukund panchal here\"\n",
        "print(line.split())"
      ],
      "metadata": {
        "colab": {
          "base_uri": "https://localhost:8080/"
        },
        "id": "NwfxCJlGJ-9-",
        "outputId": "25217453-b238-47a9-a60c-094501e60a25"
      },
      "execution_count": null,
      "outputs": [
        {
          "output_type": "stream",
          "name": "stdout",
          "text": [
            "['amar', 'mukund', 'panchal', 'here']\n"
          ]
        }
      ]
    },
    {
      "cell_type": "code",
      "source": [
        "#one code : count number of words in line entered by user\n",
        "print(\"Word count:\",len(input(\"Enter a line to test:\").split()))"
      ],
      "metadata": {
        "colab": {
          "base_uri": "https://localhost:8080/"
        },
        "id": "9XoOYyZ2KMDT",
        "outputId": "28143fcd-5740-40d0-d5f9-affb8e83f924"
      },
      "execution_count": null,
      "outputs": [
        {
          "output_type": "stream",
          "name": "stdout",
          "text": [
            "Enter a line to test:                  iyla       it       would           work         \n",
            "Word count: 4\n"
          ]
        }
      ]
    },
    {
      "cell_type": "code",
      "source": [
        "s=\"amar\"\n",
        "s[::-1]"
      ],
      "metadata": {
        "colab": {
          "base_uri": "https://localhost:8080/",
          "height": 36
        },
        "id": "4STE4pN1LlD6",
        "outputId": "941b6e89-1282-493f-d67d-4ad58c444cdb"
      },
      "execution_count": null,
      "outputs": [
        {
          "output_type": "execute_result",
          "data": {
            "text/plain": [
              "'rama'"
            ],
            "application/vnd.google.colaboratory.intrinsic+json": {
              "type": "string"
            }
          },
          "metadata": {},
          "execution_count": 72
        }
      ]
    },
    {
      "cell_type": "code",
      "source": [
        "s=input(\"Enter word:\")\n",
        "rs=s[::-1]\n",
        "if s==rs:\n",
        "    print(\"yes\")\n",
        "else:\n",
        "    print(\"no\")"
      ],
      "metadata": {
        "colab": {
          "base_uri": "https://localhost:8080/"
        },
        "id": "C6GvYm9iMaMW",
        "outputId": "ea58e923-f3a1-4c1a-d24e-901fa89a35ca"
      },
      "execution_count": null,
      "outputs": [
        {
          "output_type": "stream",
          "name": "stdout",
          "text": [
            "Enter word:nitin\n",
            "yes\n"
          ]
        }
      ]
    },
    {
      "cell_type": "code",
      "source": [
        "#count number of Vowels in line given by user\n",
        "line=input(\"Enter line to test:\")\n",
        "line=line.lower()\n",
        "count=0\n",
        "for i in line:\n",
        "    if i=='a' or i=='e' or i=='o' or i=='u' or i=='i':\n",
        "        count+=1\n",
        "print(\"Vowels are:\",count)"
      ],
      "metadata": {
        "colab": {
          "base_uri": "https://localhost:8080/"
        },
        "id": "iwKfUZteM4m_",
        "outputId": "a7ec21c0-6f95-4218-bb54-e089e9eab46f"
      },
      "execution_count": null,
      "outputs": [
        {
          "output_type": "stream",
          "name": "stdout",
          "text": [
            "Enter line to test:this is for your test\n",
            "Vowels are: 6\n"
          ]
        }
      ]
    },
    {
      "cell_type": "code",
      "source": [
        "line=input(\"Enter line to test:\")\n",
        "line=line.lower()\n",
        "count=0\n",
        "for i in \"aeiou\":\n",
        "   count+=line.count(i)#a,e,i,o,u\n",
        "print(\"Vowels are:\",count)"
      ],
      "metadata": {
        "colab": {
          "base_uri": "https://localhost:8080/"
        },
        "id": "X0lptNMJP8yd",
        "outputId": "405b57e1-abdf-4138-c728-a0d3b5a7d493"
      },
      "execution_count": null,
      "outputs": [
        {
          "output_type": "stream",
          "name": "stdout",
          "text": [
            "Enter line to test:this is line to test for you\n",
            "Vowels are: 9\n"
          ]
        }
      ]
    },
    {
      "cell_type": "code",
      "source": [
        "#if we compare word from string (substring matches)\n",
        "#if we compare word from list only word matches\n",
        "string=\"this is it\"\n",
        "string.count(\"is\")"
      ],
      "metadata": {
        "colab": {
          "base_uri": "https://localhost:8080/"
        },
        "id": "qLT6tA8-lbO9",
        "outputId": "d777784a-f29e-499a-fa58-72487b5411bb"
      },
      "execution_count": null,
      "outputs": [
        {
          "output_type": "execute_result",
          "data": {
            "text/plain": [
              "2"
            ]
          },
          "metadata": {},
          "execution_count": 3
        }
      ]
    },
    {
      "cell_type": "code",
      "source": [
        "slist=string.split()\n",
        "print(slist)\n",
        "slist.count(\"is\")"
      ],
      "metadata": {
        "colab": {
          "base_uri": "https://localhost:8080/"
        },
        "id": "Q1kLyLtsl1OZ",
        "outputId": "7af4905f-0050-462a-8e2a-3d005cde0434"
      },
      "execution_count": null,
      "outputs": [
        {
          "output_type": "stream",
          "name": "stdout",
          "text": [
            "['this', 'is', 'it']\n"
          ]
        },
        {
          "output_type": "execute_result",
          "data": {
            "text/plain": [
              "1"
            ]
          },
          "metadata": {},
          "execution_count": 4
        }
      ]
    },
    {
      "cell_type": "code",
      "source": [
        "#count max frequency word in line of string\n",
        "line='''Mahatma Gandhi, the \"Great Soul\" of India, emerged from humble beginnings to lead a revolution not with weapons, but with unwavering truth and non-violent resistance. In South Africa, he honed Satyagraha, the power of soul force, against racial discrimination. Returning to his motherland under colonial rule, he led boycotts, marches, and civil disobedience, his spinning wheel weaving a new narrative of self-reliance and dignity. Through the Salt March, he challenged the British monopoly, sparking nationwide awakening. His unwavering commitment to Hindu-Muslim unity amid Partition's tragedy stands as a testament to his compassion. Though silenced by an assassin's bullet, Gandhi's legacy echoes through the ages, inspiring movements for equality and freedom across the globe. In his message of non-violence, simple living, and unwavering resolve, we find a timeless blueprint for a better world.\n",
        "This paragraph, at 29 lines, condenses the essence of Gandhi's life and impact, highlighting his key perjuangan, principles, and enduring legacy. Feel free to personalize it further by adding specific details or focusing on any aspects that resonate with you.'''\n",
        "\n",
        "#get list of words\n",
        "wordlist=line.split()\n",
        "#get unique wors\n",
        "u_list=set(wordlist)\n",
        "#get count of each unique word from list\n",
        "max=0\n",
        "maxword=\"\"\n",
        "for word in u_list:\n",
        "    if wordlist.count(word)>max:\n",
        "        max=wordlist.count(word)\n",
        "        maxword=word\n",
        "print(\"Max Frequency is:\",max,\"of word:\",maxword)"
      ],
      "metadata": {
        "colab": {
          "base_uri": "https://localhost:8080/"
        },
        "id": "78Ibr7kJQsQu",
        "outputId": "8673daa7-12ce-4285-825f-8b57ebb39952"
      },
      "execution_count": null,
      "outputs": [
        {
          "output_type": "stream",
          "name": "stdout",
          "text": [
            "Max Frequency is: 7 of word: the\n"
          ]
        }
      ]
    },
    {
      "cell_type": "code",
      "source": [
        "#reverse line of string word by word\n",
        "line=input(\"Enter line:\")#it is this\n",
        "wordlist=line.split()#convert line to list\n",
        "wordlist=wordlist[::-1]#reverse list\n",
        "rline=\"\"\n",
        "for word in wordlist:\n",
        "    rline=rline+word+\" \"\n",
        "    print(rline)"
      ],
      "metadata": {
        "colab": {
          "base_uri": "https://localhost:8080/"
        },
        "id": "3ZQb93Obm0P4",
        "outputId": "ba1f2ee3-e8be-403f-e1bd-2dfe5139f9a1"
      },
      "execution_count": null,
      "outputs": [
        {
          "output_type": "stream",
          "name": "stdout",
          "text": [
            "Enter line:this is done this way\n",
            "way \n",
            "way this \n",
            "way this done \n",
            "way this done is \n",
            "way this done is this \n"
          ]
        }
      ]
    },
    {
      "cell_type": "code",
      "source": [
        "# anagram or not\n",
        "w1=\"on\"\n",
        "w2=\"no\"\n",
        "#characterzie this\n",
        "#sort the list\n",
        "list_w1=sorted(list(w1))\n",
        "list_w2=sorted(list(w2))\n",
        "#compare both character by character\n",
        "flag=True\n",
        "for i in range(len(list_w1)):\n",
        "    if list_w1[i]!=list_w2[i]:\n",
        "        flag=False\n",
        "        break\n",
        "if flag==True:\n",
        "    print(\"yes\")\n",
        "else:\n",
        "    print(\"no\")\n",
        "#print the result"
      ],
      "metadata": {
        "colab": {
          "base_uri": "https://localhost:8080/"
        },
        "id": "74lVfj73pwnh",
        "outputId": "aff6e0bf-252c-4e8a-8c97-ebc8268241fc"
      },
      "execution_count": null,
      "outputs": [
        {
          "output_type": "stream",
          "name": "stdout",
          "text": [
            "yes\n"
          ]
        }
      ]
    },
    {
      "cell_type": "code",
      "source": [],
      "metadata": {
        "id": "Zyho-zS8sM18"
      },
      "execution_count": null,
      "outputs": []
    },
    {
      "cell_type": "code",
      "source": [
        "s=\"python\"\n",
        "slist=list(s)\n",
        "print(slist)"
      ],
      "metadata": {
        "colab": {
          "base_uri": "https://localhost:8080/"
        },
        "id": "8hwAoTTJqNKa",
        "outputId": "aeba30b0-34a4-49bc-9226-3a3dbcfecb36"
      },
      "execution_count": null,
      "outputs": [
        {
          "output_type": "stream",
          "name": "stdout",
          "text": [
            "['p', 'y', 't', 'h', 'o', 'n']\n"
          ]
        }
      ]
    },
    {
      "cell_type": "code",
      "source": [
        "s=input(\"Enter word:\")\n",
        "flag=True\n",
        "i,j=0,len(s)-1\n",
        "while i<=j:\n",
        "    if s[i]!=s[j]:\n",
        "        flag=False\n",
        "        break\n",
        "    i+=1\n",
        "    j-=1\n",
        "if flag==True:\n",
        "    print(\"yes\")\n",
        "else:\n",
        "    print(\"no\")"
      ],
      "metadata": {
        "id": "5_kXEhdkvCHX"
      },
      "execution_count": null,
      "outputs": []
    },
    {
      "cell_type": "code",
      "source": [
        "def hi():\n",
        "    '''will print message'''\n",
        "    print(\"i m function\")"
      ],
      "metadata": {
        "id": "varKTmrszEGQ"
      },
      "execution_count": null,
      "outputs": []
    },
    {
      "cell_type": "code",
      "source": [
        "def welcome(name):\n",
        "    '''input:name output:welcome message'''\n",
        "    print(\"welcome,\",name)"
      ],
      "metadata": {
        "id": "1L06nXERzJsm"
      },
      "execution_count": null,
      "outputs": []
    },
    {
      "cell_type": "code",
      "source": [
        "welcome(\"amar\")"
      ],
      "metadata": {
        "colab": {
          "base_uri": "https://localhost:8080/"
        },
        "id": "DDt8rblhz9WB",
        "outputId": "c9420088-2783-4ab6-ddc4-8ac3163180c6"
      },
      "execution_count": null,
      "outputs": [
        {
          "output_type": "stream",
          "name": "stdout",
          "text": [
            "welcome, amar\n"
          ]
        }
      ]
    },
    {
      "cell_type": "code",
      "source": [
        "#data primitive passed by value:\n",
        "    changes are local only\n",
        "#data: data structures passed by reference:\n",
        "    changes seen every where"
      ],
      "metadata": {
        "id": "endO22T90CqM"
      },
      "execution_count": null,
      "outputs": []
    },
    {
      "cell_type": "code",
      "source": [
        "def doubler(a):\n",
        "    print(\"in function:before a=\",a)\n",
        "    a=a+a\n",
        "    print(\"in function:after a=\",a)"
      ],
      "metadata": {
        "id": "lJQWTL_P0c8c"
      },
      "execution_count": null,
      "outputs": []
    },
    {
      "cell_type": "code",
      "source": [
        "def doubler(a):\n",
        "    print(\"in function:before a=\",a)\n",
        "    a[0]=a[0]+a[0]\n",
        "    print(\"in function:after a=\",a)"
      ],
      "metadata": {
        "id": "p1j4wUNx1NQ-"
      },
      "execution_count": null,
      "outputs": []
    },
    {
      "cell_type": "code",
      "source": [
        "print(\"in main\")\n",
        "a=[10]\n",
        "print(\"in main script:before a=\",a)\n",
        "doubler(a)\n",
        "print(\"in main script:after a=\",a)"
      ],
      "metadata": {
        "colab": {
          "base_uri": "https://localhost:8080/"
        },
        "id": "-1NBfmoE0qSr",
        "outputId": "9ea30050-0302-46d5-baf6-b512f03c12c2"
      },
      "execution_count": null,
      "outputs": [
        {
          "output_type": "stream",
          "name": "stdout",
          "text": [
            "in main\n",
            "in main script:before a= [10]\n",
            "in function:before a= [10]\n",
            "in function:after a= [20]\n",
            "in main script:after a= [20]\n"
          ]
        }
      ]
    },
    {
      "cell_type": "code",
      "source": [
        "#key value parameter\n",
        "def intro(name,native):\n",
        "    print(\"hi i am\",name,\"and from\",native)"
      ],
      "metadata": {
        "id": "1RGnOOnm1rul"
      },
      "execution_count": null,
      "outputs": []
    },
    {
      "cell_type": "code",
      "source": [
        "intro(\"amar\",\"mumbai\")"
      ],
      "metadata": {
        "colab": {
          "base_uri": "https://localhost:8080/"
        },
        "id": "uQbUZMFV1_Mr",
        "outputId": "431be81d-340a-4ab6-d703-60f2541e16b4"
      },
      "execution_count": null,
      "outputs": [
        {
          "output_type": "stream",
          "name": "stdout",
          "text": [
            "hi i am amar and from mumbai\n"
          ]
        }
      ]
    },
    {
      "cell_type": "code",
      "source": [
        "intro(\"gujrat\",\"jignesh\")"
      ],
      "metadata": {
        "colab": {
          "base_uri": "https://localhost:8080/"
        },
        "id": "JPZbhhKp2Ebt",
        "outputId": "9745fd65-c7c7-4cf5-f5c3-a61b29ae5e43"
      },
      "execution_count": null,
      "outputs": [
        {
          "output_type": "stream",
          "name": "stdout",
          "text": [
            "hi i am gujrat and from jignesh\n"
          ]
        }
      ]
    },
    {
      "cell_type": "code",
      "source": [
        "#key value parameter\n",
        "intro(native=\"gujrat\",name=\"jignesh\")"
      ],
      "metadata": {
        "colab": {
          "base_uri": "https://localhost:8080/"
        },
        "id": "0tScUyIp2LMG",
        "outputId": "4b89cdfc-0f8a-446f-b237-540a8d131755"
      },
      "execution_count": null,
      "outputs": [
        {
          "output_type": "stream",
          "name": "stdout",
          "text": [
            "hi i am jignesh and from gujrat\n"
          ]
        }
      ]
    },
    {
      "cell_type": "code",
      "source": [
        "#default value: value take if user not giving\n",
        "def intro(name=\"un-named\",native=\"unknown\"):\n",
        "    print(\"hi i am\",name,\"and from\",native)"
      ],
      "metadata": {
        "id": "wBgbeHdp2qFj"
      },
      "execution_count": null,
      "outputs": []
    },
    {
      "cell_type": "code",
      "source": [
        "intro(native=\"gujrat\")"
      ],
      "metadata": {
        "colab": {
          "base_uri": "https://localhost:8080/"
        },
        "id": "BL0Ikq123Pdi",
        "outputId": "e7e8f35c-fcd9-49c7-ab87-92bd998dfa82"
      },
      "execution_count": null,
      "outputs": [
        {
          "output_type": "stream",
          "name": "stdout",
          "text": [
            "hi i am un-named and from gujrat\n"
          ]
        }
      ]
    },
    {
      "cell_type": "code",
      "source": [
        "#variable size parameter\n",
        "def hobbies(*h):\n",
        "    print(\"total hobbies\",len(h),type(h))\n",
        "    for i in h:\n",
        "        print(\"->\",i)"
      ],
      "metadata": {
        "id": "4lOgt6He3fPr"
      },
      "execution_count": null,
      "outputs": []
    },
    {
      "cell_type": "code",
      "source": [
        "hobbies(\"code\",\"sketch\",\"cook\",\"travel\")"
      ],
      "metadata": {
        "colab": {
          "base_uri": "https://localhost:8080/"
        },
        "id": "ttzMEV183fEd",
        "outputId": "0be91cf0-c6ea-4c96-f2f7-f09f231ccbc0"
      },
      "execution_count": null,
      "outputs": [
        {
          "output_type": "stream",
          "name": "stdout",
          "text": [
            "total hobbies 4 <class 'tuple'>\n",
            "-> code\n",
            "-> sketch\n",
            "-> cook\n",
            "-> travel\n"
          ]
        }
      ]
    },
    {
      "cell_type": "code",
      "source": [
        "hobbies(\"sleep\",\"eat\")"
      ],
      "metadata": {
        "colab": {
          "base_uri": "https://localhost:8080/"
        },
        "id": "J34UTdyW4MCA",
        "outputId": "be392e2e-1786-477f-a83c-e92415eb98b8"
      },
      "execution_count": null,
      "outputs": [
        {
          "output_type": "stream",
          "name": "stdout",
          "text": [
            "total hobbies 2 <class 'tuple'>\n",
            "-> sleep\n",
            "-> eat\n"
          ]
        }
      ]
    },
    {
      "cell_type": "code",
      "source": [
        "def intro(name,native):\n",
        "    print(\"hi i am\",name,\"and from\",native)"
      ],
      "metadata": {
        "id": "gIoLddI-5OIQ"
      },
      "execution_count": null,
      "outputs": []
    },
    {
      "cell_type": "code",
      "source": [
        "hi=intro"
      ],
      "metadata": {
        "id": "mpE9JWjM5T65"
      },
      "execution_count": null,
      "outputs": []
    },
    {
      "cell_type": "code",
      "source": [
        "hi(\"amar\",\"mumbai\")"
      ],
      "metadata": {
        "colab": {
          "base_uri": "https://localhost:8080/"
        },
        "id": "mi3Pq7tH5al8",
        "outputId": "5ef7c874-b3cf-4284-ea99-396d984f6663"
      },
      "execution_count": null,
      "outputs": [
        {
          "output_type": "stream",
          "name": "stdout",
          "text": [
            "hi i am amar and from mumbai\n"
          ]
        }
      ]
    },
    {
      "cell_type": "code",
      "source": [
        "def eng(name):\n",
        "    print(name,\"welcome to our platform\")\n",
        "def hindi(name):\n",
        "    print(name,\"हमारे मंच पर आपका स्वागत है\")\n",
        "def marathi(name):\n",
        "    print(name,\"आमच्या व्यासपीठावर स्वागत आहे\")\n",
        "def ott(name,language=hindi):\n",
        "    language(name)\n"
      ],
      "metadata": {
        "id": "z91LLpkg51iS"
      },
      "execution_count": null,
      "outputs": []
    },
    {
      "cell_type": "code",
      "source": [
        "ott(\"amar\")"
      ],
      "metadata": {
        "colab": {
          "base_uri": "https://localhost:8080/"
        },
        "id": "RbY96MDq6nvL",
        "outputId": "0ac7cdec-a15f-4db9-806a-f8872fcadfc1"
      },
      "execution_count": null,
      "outputs": [
        {
          "output_type": "stream",
          "name": "stdout",
          "text": [
            "amar हमारे मंच पर आपका स्वागत है\n"
          ]
        }
      ]
    },
    {
      "cell_type": "code",
      "source": [
        "def min(no1,no2):\n",
        "    if no1<no2:\n",
        "        return no1\n",
        "    else:\n",
        "        return no2\n"
      ],
      "metadata": {
        "id": "s9DoR24L7Xpe"
      },
      "execution_count": null,
      "outputs": []
    },
    {
      "cell_type": "code",
      "source": [
        "min(2,8)"
      ],
      "metadata": {
        "colab": {
          "base_uri": "https://localhost:8080/"
        },
        "id": "5Ysnldfj7iS2",
        "outputId": "f334aa9b-24a0-4806-8214-3cd77ccfec4a"
      },
      "execution_count": null,
      "outputs": [
        {
          "output_type": "execute_result",
          "data": {
            "text/plain": [
              "2"
            ]
          },
          "metadata": {},
          "execution_count": 50
        }
      ]
    },
    {
      "cell_type": "code",
      "source": [
        "def Ascending(no1,no2):\n",
        "    if no1<no2:\n",
        "        return no1,no2\n",
        "    else:\n",
        "        return no2,no1"
      ],
      "metadata": {
        "id": "pILQf-xe7oBj"
      },
      "execution_count": null,
      "outputs": []
    },
    {
      "cell_type": "code",
      "source": [
        "type(Ascending(9,1))"
      ],
      "metadata": {
        "colab": {
          "base_uri": "https://localhost:8080/"
        },
        "id": "LXgoVKhj7uR0",
        "outputId": "7738823d-5b37-4faf-9517-55c3d4bc26d5"
      },
      "execution_count": null,
      "outputs": [
        {
          "output_type": "execute_result",
          "data": {
            "text/plain": [
              "tuple"
            ]
          },
          "metadata": {},
          "execution_count": 53
        }
      ]
    },
    {
      "cell_type": "code",
      "source": [
        "def min(no1,no2):#returning is better so one can nest it\n",
        "    if no1<no2:\n",
        "        return no1\n",
        "    else:\n",
        "        return no2"
      ],
      "metadata": {
        "id": "WZqDKYwl8ATw"
      },
      "execution_count": null,
      "outputs": []
    },
    {
      "cell_type": "code",
      "source": [
        "min(min(2,9),min(11,1))\n",
        "         2  ,  1\n",
        "            1"
      ],
      "metadata": {
        "colab": {
          "base_uri": "https://localhost:8080/"
        },
        "id": "q6H_jB5n8I-x",
        "outputId": "c05cfbae-9c20-40fc-b42c-fda32e6313a7"
      },
      "execution_count": null,
      "outputs": [
        {
          "output_type": "execute_result",
          "data": {
            "text/plain": [
              "1"
            ]
          },
          "metadata": {},
          "execution_count": 55
        }
      ]
    },
    {
      "cell_type": "code",
      "source": [
        "#lamda function\n",
        "D=lambda x : x+x\n",
        "#one liner, use and throw, no name but only way to ref with a variable"
      ],
      "metadata": {
        "id": "XlV6iaH06AxC"
      },
      "execution_count": null,
      "outputs": []
    },
    {
      "cell_type": "code",
      "source": [
        "D(10)"
      ],
      "metadata": {
        "colab": {
          "base_uri": "https://localhost:8080/"
        },
        "id": "KwJZD81M6zYE",
        "outputId": "a4ddbdcf-6045-4e9e-a435-3023707e24fe"
      },
      "execution_count": null,
      "outputs": [
        {
          "output_type": "execute_result",
          "data": {
            "text/plain": [
              "20"
            ]
          },
          "metadata": {},
          "execution_count": 7
        }
      ]
    },
    {
      "cell_type": "code",
      "source": [
        "D(\"AMAR\")"
      ],
      "metadata": {
        "colab": {
          "base_uri": "https://localhost:8080/",
          "height": 36
        },
        "id": "ld6ja0H769K7",
        "outputId": "fc396422-fbeb-438e-f9d8-1b5b9b8d3f61"
      },
      "execution_count": null,
      "outputs": [
        {
          "output_type": "execute_result",
          "data": {
            "text/plain": [
              "'AMARAMAR'"
            ],
            "application/vnd.google.colaboratory.intrinsic+json": {
              "type": "string"
            }
          },
          "metadata": {},
          "execution_count": 8
        }
      ]
    },
    {
      "cell_type": "code",
      "source": [
        "D(3.13)"
      ],
      "metadata": {
        "colab": {
          "base_uri": "https://localhost:8080/"
        },
        "id": "yVh_eFNz7GH2",
        "outputId": "8808efe0-f6a2-4db5-c7f6-7035e2c5b276"
      },
      "execution_count": null,
      "outputs": [
        {
          "output_type": "execute_result",
          "data": {
            "text/plain": [
              "6.26"
            ]
          },
          "metadata": {},
          "execution_count": 9
        }
      ]
    },
    {
      "cell_type": "code",
      "source": [
        "x=10#global variable\n",
        "print(\"in script:\",x)\n",
        "\n",
        "def myfunction():\n",
        "    x=100#local over global\n",
        "    print(\"my function:\",x)\n",
        "\n",
        "print(\"in script:\",x)\n",
        "myfunction()"
      ],
      "metadata": {
        "colab": {
          "base_uri": "https://localhost:8080/"
        },
        "id": "FH30gQbV7fk6",
        "outputId": "12516510-091b-44e4-c943-d1ecd85ea647"
      },
      "execution_count": null,
      "outputs": [
        {
          "output_type": "stream",
          "name": "stdout",
          "text": [
            "in script: 10\n",
            "my function: 100\n"
          ]
        }
      ]
    },
    {
      "cell_type": "code",
      "source": [
        "x=10#global variable\n",
        "print(\"in script:\",x)\n",
        "\n",
        "def myfunction():\n",
        "    global x#tells python to ref global copy\n",
        "    x=x+5\n",
        "    print(\"my function:\",x)\n",
        "\n",
        "print(\"in script:\",x)\n",
        "myfunction()\n",
        "print(\"in script at end:\",x)"
      ],
      "metadata": {
        "colab": {
          "base_uri": "https://localhost:8080/"
        },
        "id": "rVV7Dj-p8jz9",
        "outputId": "8af25536-f935-4662-820a-cb2bbb8a9f58"
      },
      "execution_count": null,
      "outputs": [
        {
          "output_type": "stream",
          "name": "stdout",
          "text": [
            "in script: 10\n",
            "in script: 10\n",
            "my function: 15\n",
            "in script at end: 15\n"
          ]
        }
      ]
    },
    {
      "cell_type": "code",
      "source": [
        "#modular coding:\n",
        "#we pass data but from script read data\n",
        "#code functions that returns result/response\n",
        "#the logic is in function\n",
        "#script only handles input/output"
      ],
      "metadata": {
        "id": "fb_jzk548jqa"
      },
      "execution_count": null,
      "outputs": []
    },
    {
      "cell_type": "code",
      "source": [
        "#using function add to list to create averge 3rd list\n",
        "'''\n",
        "l1=[10,20,30]\n",
        "l2=[5,15,25]\n",
        "l3=[(10+5)/2,(20+15)/2,(30+25)/2]\n",
        "'''\n",
        "def listadder(l1,l2):\n",
        "    temp=[]\n",
        "    for i in range(len(l1)):\n",
        "        temp.append((l1[i]+l2[i])/2)\n",
        "    return temp\n",
        "\n",
        "l1=[10,20,30]\n",
        "l2=[5,15,25]\n",
        "l3=listadder(l1,l2)\n",
        "print(\"average of 2 is:\",l3)"
      ],
      "metadata": {
        "colab": {
          "base_uri": "https://localhost:8080/"
        },
        "id": "RnmY0tNL-qPv",
        "outputId": "2ac8a5cb-cab5-4904-f213-0a9a1edb1b47"
      },
      "execution_count": null,
      "outputs": [
        {
          "output_type": "stream",
          "name": "stdout",
          "text": [
            "average of 2 is: [7.5, 17.5, 27.5]\n"
          ]
        }
      ]
    }
  ]
}