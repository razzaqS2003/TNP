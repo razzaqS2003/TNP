{
  "cells": [
    {
      "cell_type": "markdown",
      "metadata": {
        "id": "view-in-github",
        "colab_type": "text"
      },
      "source": [
        "<a href=\"https://colab.research.google.com/github/razzaqS2003/TNP/blob/main/AP_Day_2.ipynb\" target=\"_parent\"><img src=\"https://colab.research.google.com/assets/colab-badge.svg\" alt=\"Open In Colab\"/></a>"
      ]
    },
    {
      "cell_type": "code",
      "execution_count": null,
      "metadata": {
        "id": "wCzm7Lj5s5jR"
      },
      "outputs": [],
      "source": [
        "dl=[11,22,33,44,55,66]\n"
      ]
    },
    {
      "cell_type": "code",
      "execution_count": null,
      "metadata": {
        "colab": {
          "base_uri": "https://localhost:8080/"
        },
        "id": "0M9RFzpOtOtK",
        "outputId": "9cf9efaf-61c1-446f-858e-bafdb29d76e3"
      },
      "outputs": [
        {
          "name": "stdout",
          "output_type": "stream",
          "text": [
            "11\n",
            "22\n",
            "33\n",
            "44\n",
            "55\n",
            "66\n"
          ]
        }
      ],
      "source": [
        "#auto iterate\n",
        "for i in dl:\n",
        "    print(i)"
      ]
    },
    {
      "cell_type": "code",
      "execution_count": null,
      "metadata": {
        "colab": {
          "base_uri": "https://localhost:8080/"
        },
        "id": "i0HMg7C4tc0P",
        "outputId": "bd927862-8508-4806-bed5-e6e1561bc2c6"
      },
      "outputs": [
        {
          "name": "stdout",
          "output_type": "stream",
          "text": [
            "at 0 we have: 11\n",
            "at 1 we have: 22\n",
            "at 2 we have: 33\n",
            "at 3 we have: 44\n",
            "at 4 we have: 55\n",
            "at 5 we have: 66\n"
          ]
        }
      ],
      "source": [
        "#indexed\n",
        "for index in range(len(dl)):\n",
        "    print(\"at\",index,\"we have:\",dl[index])"
      ]
    },
    {
      "cell_type": "code",
      "execution_count": null,
      "metadata": {
        "colab": {
          "base_uri": "https://localhost:8080/"
        },
        "id": "txD9q4S0tz9L",
        "outputId": "cd99dd0c-3647-461d-dab5-dd374b3655f4"
      },
      "outputs": [
        {
          "data": {
            "text/plain": [
              "[11, 22, 33, 44, 55, 66]"
            ]
          },
          "execution_count": 8,
          "metadata": {},
          "output_type": "execute_result"
        }
      ],
      "source": [
        "dl"
      ]
    },
    {
      "cell_type": "code",
      "execution_count": null,
      "metadata": {
        "colab": {
          "base_uri": "https://localhost:8080/"
        },
        "id": "7MJOPTEqt1u2",
        "outputId": "ddf447db-6c35-48f2-8afb-d546228ce31b"
      },
      "outputs": [
        {
          "data": {
            "text/plain": [
              "[11, 22, 33, 44, 55, 66]"
            ]
          },
          "execution_count": 10,
          "metadata": {},
          "output_type": "execute_result"
        }
      ],
      "source": [
        " 0   1   2    3   4   5\n",
        "[11, 22, 33, 44, 55, 66]\n",
        "-6   -5  -4  -3  -2   -1"
      ]
    },
    {
      "cell_type": "code",
      "execution_count": null,
      "metadata": {
        "id": "if6_lHzTt6_X"
      },
      "outputs": [],
      "source": [
        "da=dl#shellow copy:creating  other variable ref to same"
      ]
    },
    {
      "cell_type": "code",
      "execution_count": null,
      "metadata": {
        "colab": {
          "base_uri": "https://localhost:8080/"
        },
        "id": "7IWnIbDZuU1p",
        "outputId": "95d7c483-f8c3-477a-dc14-da506a6fa5b1"
      },
      "outputs": [
        {
          "data": {
            "text/plain": [
              "[11, 22, 33, 44, 55, 66]"
            ]
          },
          "execution_count": 12,
          "metadata": {},
          "output_type": "execute_result"
        }
      ],
      "source": [
        "da"
      ]
    },
    {
      "cell_type": "code",
      "execution_count": null,
      "metadata": {
        "colab": {
          "base_uri": "https://localhost:8080/"
        },
        "id": "XioS00hSuWmO",
        "outputId": "1caa9d40-724c-4e58-e8c4-9177b0a35192"
      },
      "outputs": [
        {
          "data": {
            "text/plain": [
              "[11, 22, 33, 44, 55, 66]"
            ]
          },
          "execution_count": 13,
          "metadata": {},
          "output_type": "execute_result"
        }
      ],
      "source": [
        "dl"
      ]
    },
    {
      "cell_type": "code",
      "execution_count": null,
      "metadata": {
        "id": "j8Td64DLuYSe"
      },
      "outputs": [],
      "source": [
        "da[0]=da[0]*100"
      ]
    },
    {
      "cell_type": "code",
      "execution_count": null,
      "metadata": {
        "colab": {
          "base_uri": "https://localhost:8080/"
        },
        "id": "8HtD7dq9ubTt",
        "outputId": "ab2aed38-e4c2-4f0f-b026-aeb568f3e977"
      },
      "outputs": [
        {
          "data": {
            "text/plain": [
              "[1100, 22, 33, 44, 55, 66]"
            ]
          },
          "execution_count": 15,
          "metadata": {},
          "output_type": "execute_result"
        }
      ],
      "source": [
        "dl"
      ]
    },
    {
      "cell_type": "code",
      "execution_count": null,
      "metadata": {
        "id": "yYaCyUdxuzmg"
      },
      "outputs": [],
      "source": [
        "db=dl.copy()"
      ]
    },
    {
      "cell_type": "code",
      "execution_count": null,
      "metadata": {
        "colab": {
          "base_uri": "https://localhost:8080/"
        },
        "id": "3t6kIVUfu2-n",
        "outputId": "0c785328-786b-4fe3-febe-943f3c4a02e9"
      },
      "outputs": [
        {
          "data": {
            "text/plain": [
              "[1100, 22, 33, 44, 55, 66]"
            ]
          },
          "execution_count": 17,
          "metadata": {},
          "output_type": "execute_result"
        }
      ],
      "source": [
        "db"
      ]
    },
    {
      "cell_type": "code",
      "execution_count": null,
      "metadata": {
        "colab": {
          "base_uri": "https://localhost:8080/"
        },
        "id": "8xKGbUhEu4ZZ",
        "outputId": "5d4c1102-e842-42a7-f9ab-cf6a82a23669"
      },
      "outputs": [
        {
          "data": {
            "text/plain": [
              "[1100, 22, 33, 44, 55, 66]"
            ]
          },
          "execution_count": 18,
          "metadata": {},
          "output_type": "execute_result"
        }
      ],
      "source": [
        "dl"
      ]
    },
    {
      "cell_type": "code",
      "execution_count": null,
      "metadata": {
        "id": "ArJgFiYru6RS"
      },
      "outputs": [],
      "source": [
        "db[0]=0"
      ]
    },
    {
      "cell_type": "code",
      "execution_count": null,
      "metadata": {
        "colab": {
          "base_uri": "https://localhost:8080/"
        },
        "id": "5E-FofLru8x_",
        "outputId": "375a4aae-4921-495f-d1f3-3541de95e015"
      },
      "outputs": [
        {
          "data": {
            "text/plain": [
              "[0, 22, 33, 44, 55, 66]"
            ]
          },
          "execution_count": 20,
          "metadata": {},
          "output_type": "execute_result"
        }
      ],
      "source": [
        "db"
      ]
    },
    {
      "cell_type": "code",
      "execution_count": null,
      "metadata": {
        "colab": {
          "base_uri": "https://localhost:8080/"
        },
        "id": "lgggERT7u_Ox",
        "outputId": "23635aac-a7ba-4e94-a93f-0684d0b95dae"
      },
      "outputs": [
        {
          "data": {
            "text/plain": [
              "[1100, 22, 33, 44, 55, 66]"
            ]
          },
          "execution_count": 21,
          "metadata": {},
          "output_type": "execute_result"
        }
      ],
      "source": [
        "dl"
      ]
    },
    {
      "cell_type": "code",
      "execution_count": null,
      "metadata": {
        "colab": {
          "base_uri": "https://localhost:8080/",
          "height": 179
        },
        "id": "siO-qTf4vJ8s",
        "outputId": "1bde47fe-f321-4093-d8cf-4c354b2df4ae"
      },
      "outputs": [
        {
          "ename": "TypeError",
          "evalue": "can't multiply sequence by non-int of type 'float'",
          "output_type": "error",
          "traceback": [
            "\u001b[0;31m---------------------------------------------------------------------------\u001b[0m",
            "\u001b[0;31mTypeError\u001b[0m                                 Traceback (most recent call last)",
            "\u001b[0;32m<ipython-input-24-ba54a06a91a2>\u001b[0m in \u001b[0;36m<cell line: 1>\u001b[0;34m()\u001b[0m\n\u001b[0;32m----> 1\u001b[0;31m \u001b[0mdl\u001b[0m\u001b[0;34m*\u001b[0m\u001b[0;36m2.5\u001b[0m\u001b[0;34m\u001b[0m\u001b[0;34m\u001b[0m\u001b[0m\n\u001b[0m",
            "\u001b[0;31mTypeError\u001b[0m: can't multiply sequence by non-int of type 'float'"
          ]
        }
      ],
      "source": [
        "dl*2"
      ]
    },
    {
      "cell_type": "code",
      "execution_count": null,
      "metadata": {
        "colab": {
          "base_uri": "https://localhost:8080/"
        },
        "id": "9NZr33DSv-WX",
        "outputId": "91654025-31b8-4b9d-b482-a551b78ddb9e"
      },
      "outputs": [
        {
          "name": "stdout",
          "output_type": "stream",
          "text": [
            "[11, 22, 33, 10, 20, 30]\n"
          ]
        }
      ],
      "source": [
        "da=[11,22,33]\n",
        "db=[10,20,30]\n",
        "dc=da+db#da.extends(db)\n",
        "print(dc)"
      ]
    },
    {
      "cell_type": "code",
      "execution_count": null,
      "metadata": {
        "colab": {
          "base_uri": "https://localhost:8080/"
        },
        "id": "-59bG6QAw3w3",
        "outputId": "de1b3455-c3a2-411e-f08f-0c68f1b5bf43"
      },
      "outputs": [
        {
          "data": {
            "text/plain": [
              "[11, 22, 33, 44, 55]"
            ]
          },
          "execution_count": 26,
          "metadata": {},
          "output_type": "execute_result"
        }
      ],
      "source": [
        "a=[55,11,22,33,44]\n",
        "sorted(a)#return sorted elements"
      ]
    },
    {
      "cell_type": "code",
      "execution_count": null,
      "metadata": {
        "id": "Im0eaTDnw_v5"
      },
      "outputs": [],
      "source": [
        "b=[22,11,66,33,55,44]\n",
        "b.sort()#in place:within"
      ]
    },
    {
      "cell_type": "code",
      "execution_count": null,
      "metadata": {
        "colab": {
          "base_uri": "https://localhost:8080/"
        },
        "id": "aexQvvg8xMr4",
        "outputId": "413ff6c0-3770-4451-b402-42f7c94ba4a0"
      },
      "outputs": [
        {
          "data": {
            "text/plain": [
              "[11, 22, 33, 44, 55, 66]"
            ]
          },
          "execution_count": 31,
          "metadata": {},
          "output_type": "execute_result"
        }
      ],
      "source": [
        "b"
      ]
    },
    {
      "cell_type": "code",
      "execution_count": null,
      "metadata": {
        "colab": {
          "base_uri": "https://localhost:8080/"
        },
        "id": "oTI0Js5hxg5F",
        "outputId": "504bff44-434f-4dbd-b9d3-5af4e11d91ee"
      },
      "outputs": [
        {
          "data": {
            "text/plain": [
              "[66, 55, 44, 33, 22, 11]"
            ]
          },
          "execution_count": 30,
          "metadata": {},
          "output_type": "execute_result"
        }
      ],
      "source": [
        "b[::-1]"
      ]
    },
    {
      "cell_type": "code",
      "execution_count": null,
      "metadata": {
        "id": "YTZOj-M7xpIM"
      },
      "outputs": [],
      "source": [
        "tl=(11,22,33)\n"
      ]
    },
    {
      "cell_type": "code",
      "execution_count": null,
      "metadata": {
        "colab": {
          "base_uri": "https://localhost:8080/",
          "height": 179
        },
        "id": "Jh9Z7zH9x92S",
        "outputId": "8ab8077e-e45b-4d12-c0bd-3087877b23d5"
      },
      "outputs": [
        {
          "ename": "TypeError",
          "evalue": "'tuple' object does not support item assignment",
          "output_type": "error",
          "traceback": [
            "\u001b[0;31m---------------------------------------------------------------------------\u001b[0m",
            "\u001b[0;31mTypeError\u001b[0m                                 Traceback (most recent call last)",
            "\u001b[0;32m<ipython-input-33-152c64ccefd7>\u001b[0m in \u001b[0;36m<cell line: 1>\u001b[0;34m()\u001b[0m\n\u001b[0;32m----> 1\u001b[0;31m \u001b[0mtl\u001b[0m\u001b[0;34m[\u001b[0m\u001b[0;36m0\u001b[0m\u001b[0;34m]\u001b[0m\u001b[0;34m=\u001b[0m\u001b[0mtl\u001b[0m\u001b[0;34m[\u001b[0m\u001b[0;36m0\u001b[0m\u001b[0;34m]\u001b[0m\u001b[0;34m*\u001b[0m\u001b[0;36m5\u001b[0m\u001b[0;34m\u001b[0m\u001b[0;34m\u001b[0m\u001b[0m\n\u001b[0m",
            "\u001b[0;31mTypeError\u001b[0m: 'tuple' object does not support item assignment"
          ]
        }
      ],
      "source": [
        "tl[0]=tl[0]*5"
      ]
    },
    {
      "cell_type": "code",
      "execution_count": null,
      "metadata": {
        "id": "toLjg7dvyUNV"
      },
      "outputs": [],
      "source": [
        "tl=(12,23,[10,20])"
      ]
    },
    {
      "cell_type": "code",
      "execution_count": null,
      "metadata": {
        "id": "ltBKJwGuyUDf"
      },
      "outputs": [],
      "source": [
        "tl[2].append(1000)"
      ]
    },
    {
      "cell_type": "code",
      "execution_count": null,
      "metadata": {
        "colab": {
          "base_uri": "https://localhost:8080/"
        },
        "id": "NgjkqchYyz96",
        "outputId": "af0200d4-d790-4a62-af86-2c3ab02a5846"
      },
      "outputs": [
        {
          "data": {
            "text/plain": [
              "(12, 23, [10, 20, 1000])"
            ]
          },
          "execution_count": 37,
          "metadata": {},
          "output_type": "execute_result"
        }
      ],
      "source": [
        "tl"
      ]
    },
    {
      "cell_type": "code",
      "execution_count": null,
      "metadata": {
        "colab": {
          "base_uri": "https://localhost:8080/"
        },
        "id": "1NAOlHHtzCgu",
        "outputId": "647cb935-4998-4b04-94bd-5aa7e9416e7e"
      },
      "outputs": [
        {
          "name": "stdout",
          "output_type": "stream",
          "text": [
            "enter data33\n",
            "enter data11\n",
            "enter data44\n",
            "enter data88\n",
            "enter data91\n",
            "enter data12\n",
            "enter data\n",
            "data in list: [33.0, 11.0, 44.0, 88.0, 91.0, 12.0]\n",
            "min is 11.0\n",
            "max is 91.0\n",
            "total: 279.0\n",
            "Average: 46.5\n"
          ]
        }
      ],
      "source": [
        "#accept all elements in list till 1st blank given\n",
        "#and then find min,max,sum and average of all numbers from list\n",
        "datalist=[]#blank list\n",
        "while True:\n",
        "    data=input(\"enter data\")\n",
        "    if data=='':\n",
        "        break\n",
        "    datalist.append(float(data))\n",
        "print(\"data in list:\",datalist)\n",
        "print(\"min is\",min(datalist))\n",
        "print(\"max is\",max(datalist))\n",
        "print(\"total:\",sum(datalist))\n",
        "print(\"Average:\",sum(datalist)/len(datalist))"
      ]
    },
    {
      "cell_type": "code",
      "execution_count": null,
      "metadata": {
        "id": "l-ZTJHOl0lVb"
      },
      "outputs": [],
      "source": [
        "sum()\n",
        "min()\n",
        "max()\n",
        "len():length"
      ]
    },
    {
      "cell_type": "code",
      "execution_count": null,
      "metadata": {
        "colab": {
          "base_uri": "https://localhost:8080/"
        },
        "id": "aNVs-d5q2Sa5",
        "outputId": "ff5bd2a8-d9cb-40b3-e4c3-d6ae5d749d5e"
      },
      "outputs": [
        {
          "name": "stdout",
          "output_type": "stream",
          "text": [
            "enter data55\n",
            "enter data11\n",
            "enter data88\n",
            "enter data22\n",
            "enter data111\n",
            "enter data33\n",
            "enter data\n",
            "List has: [55.0, 11.0, 88.0, 22.0, 111.0, 33.0]\n",
            "List has: [50.0, 21.0, 83.0, 32.0, 106.0, 43.0]\n"
          ]
        }
      ],
      "source": [
        "#accept all elements in list till 1st blank given\n",
        "#-5 from all number greater than average\n",
        "#+10 to all numbers lesser than average\n",
        "datalist=[]#blank list\n",
        "while True:\n",
        "    data=input(\"enter data\")\n",
        "    if data=='':\n",
        "        break\n",
        "    datalist.append(float(data))\n",
        "print(\"List has:\",datalist)\n",
        "avg=sum(datalist)/len(datalist)\n",
        "for i in range(len(datalist)):\n",
        "    if datalist[i]<avg:\n",
        "        datalist[i]+=10\n",
        "    else:\n",
        "        datalist[i]-=5\n",
        "print(\"List has:\",datalist)\n",
        "\n"
      ]
    },
    {
      "cell_type": "code",
      "execution_count": null,
      "metadata": {
        "colab": {
          "base_uri": "https://localhost:8080/"
        },
        "id": "jt2uTpvk49QS",
        "outputId": "627097fe-63af-41b6-c059-94dccbea9a80"
      },
      "outputs": [
        {
          "name": "stdout",
          "output_type": "stream",
          "text": [
            "Final: [1, 3, 7, 15, 31, 63, 127]\n"
          ]
        }
      ],
      "source": [
        "datalist=[1,2,3,4,5,6,7]\n",
        "#add sum of all numbers in each ith position till i\n",
        "for i in range(len(datalist)):\n",
        "    sum=0\n",
        "    for j in range(i+1):\n",
        "        sum+=datalist[j]\n",
        "    datalist[i]=sum\n",
        "print(\"Final:\",datalist)"
      ]
    },
    {
      "cell_type": "code",
      "execution_count": null,
      "metadata": {
        "colab": {
          "base_uri": "https://localhost:8080/"
        },
        "id": "hN0zdTGs9G0P",
        "outputId": "437c1eca-4a4b-4756-fb8b-7a5061c2d1be"
      },
      "outputs": [
        {
          "data": {
            "text/plain": [
              "[2, 3]"
            ]
          },
          "execution_count": 44,
          "metadata": {},
          "output_type": "execute_result"
        }
      ],
      "source": [
        "data=[1,2,3,4,5,6,7]\n",
        "data[1:3]"
      ]
    },
    {
      "cell_type": "code",
      "execution_count": null,
      "metadata": {
        "colab": {
          "base_uri": "https://localhost:8080/"
        },
        "id": "2HnSXfyJ9iq-",
        "outputId": "3a632e1b-2455-4709-dac8-a0f3b1793f1a"
      },
      "outputs": [
        {
          "name": "stdout",
          "output_type": "stream",
          "text": [
            "Final: [1, 3, 7, 15, 31, 63, 127]\n"
          ]
        }
      ],
      "source": [
        "datalist=[1,2,3,4,5,6,7]\n",
        "#add sum of all numbers in each ith position till i\n",
        "for i in range(1,len(datalist)):\n",
        "        data=sum(datalist[:i])\n",
        "        datalist[i]=datalist[i]+data\n",
        "print(\"Final:\",datalist)"
      ]
    },
    {
      "cell_type": "code",
      "execution_count": null,
      "metadata": {
        "colab": {
          "base_uri": "https://localhost:8080/"
        },
        "id": "iwyKjHbJ_Hz8",
        "outputId": "17471bd5-d52c-408a-836a-45b8b8021a48"
      },
      "outputs": [
        {
          "name": "stdout",
          "output_type": "stream",
          "text": [
            "closet bid was 66 by 6\n"
          ]
        }
      ],
      "source": [
        "#list has all bid for a product [22,11,66,99,33,55,88]\n",
        "#one who wins is closest to the original value\n",
        "#if product cost is 64 then 66 wins\n",
        "#input:original value and bidlist\n",
        "#output winner ith with closet bid\n",
        "import math\n",
        "bidlist=[22,11,66,99,33,55,88]\n",
        "value=65\n",
        "min=bidlist[0]\n",
        "won=0\n",
        "for i in range(len(bidlist)):\n",
        "    if math.fabs(value-bidlist[i])<min:\n",
        "       min=math.fabs(value-bidlist[i])\n",
        "       won=i\n",
        "print(\"closet bid was\",bidlist[won],\"by\",i)\n",
        "\n",
        "\n"
      ]
    },
    {
      "cell_type": "code",
      "execution_count": null,
      "metadata": {
        "colab": {
          "base_uri": "https://localhost:8080/"
        },
        "id": "RaE9_5iHCLL8",
        "outputId": "d386d065-c6d1-4f6d-e8bb-2032e5b4e8c6"
      },
      "outputs": [
        {
          "name": "stdout",
          "output_type": "stream",
          "text": [
            "Day 5\n"
          ]
        }
      ],
      "source": [
        "#list given below is 7 days trade value of shares\n",
        "#0 day1 6 day7\n",
        "# in minimum line give which day had maximum value of share\n",
        "value=[11,88,22,55,999,222,111]\n",
        "print(\"Day\",(value.index(max(value))+1))"
      ]
    },
    {
      "cell_type": "code",
      "execution_count": null,
      "metadata": {
        "colab": {
          "base_uri": "https://localhost:8080/"
        },
        "id": "B5i2OivnEr5x",
        "outputId": "f4bd27d0-fd88-453f-91e0-a998c11bd62a"
      },
      "outputs": [
        {
          "name": "stdout",
          "output_type": "stream",
          "text": [
            "Enter n:5\n",
            "[5, 1, 2, 3, 4]\n",
            "[4, 5, 1, 2, 3]\n",
            "[3, 4, 5, 1, 2]\n",
            "[2, 3, 4, 5, 1]\n",
            "[1, 2, 3, 4, 5]\n",
            "[2, 3, 4, 5, 1]\n",
            "[3, 4, 5, 1, 2]\n",
            "[4, 5, 1, 2, 3]\n",
            "[5, 1, 2, 3, 4]\n",
            "[1, 2, 3, 4, 5]\n"
          ]
        }
      ],
      "source": [
        "# cycle clockwise to list of n for user given times\n",
        "#[1,2,3,4,5]--->[5,1,2,3,4]--->[4,5,1,2,3]---n\n",
        "dl=[1,2,3,4,5]\n",
        "n=int(input(\"Enter n:\"))\n",
        "for i in range(n):\n",
        "    out=dl.pop()\n",
        "    dl.insert(0,out)\n",
        "    print(dl)\n",
        "for i in range(n):\n",
        "    out=dl.pop(0)\n",
        "    dl.append(out)\n",
        "    print(dl)\n",
        "\n"
      ]
    },
    {
      "cell_type": "code",
      "execution_count": null,
      "metadata": {
        "colab": {
          "base_uri": "https://localhost:8080/"
        },
        "id": "6J63BKPRIWFx",
        "outputId": "f1b478c8-0341-4b2a-c733-507e1da6060f"
      },
      "outputs": [
        {
          "name": "stdout",
          "output_type": "stream",
          "text": [
            "[11, 22, 33]\n",
            "[44, 55]\n",
            "[66, 77, 88, 99]\n",
            "22\n"
          ]
        }
      ],
      "source": [
        "list2d=[[11,22,33],[44,55],[66,77,88,99]]\n",
        "for row in list2d:\n",
        "    print(row)\n",
        "print(list2d[0][1])"
      ]
    },
    {
      "cell_type": "code",
      "execution_count": null,
      "metadata": {
        "colab": {
          "base_uri": "https://localhost:8080/"
        },
        "id": "CEFJK2-AIwsE",
        "outputId": "3129a16b-f723-4b28-8269-7d2112995c01"
      },
      "outputs": [
        {
          "name": "stdout",
          "output_type": "stream",
          "text": [
            "[11, 22, 33]\n",
            "11\n",
            "22\n",
            "33\n",
            "[44, 55]\n",
            "44\n",
            "55\n",
            "[66, 77, 88, 99]\n",
            "66\n",
            "77\n",
            "88\n",
            "99\n"
          ]
        }
      ],
      "source": [
        "list2d=[[11,22,33],[44,55],[66,77,88,99]]\n",
        "for row in list2d:\n",
        "    print(row)\n",
        "    for item in row:\n",
        "        print(item)"
      ]
    },
    {
      "cell_type": "code",
      "execution_count": null,
      "metadata": {
        "colab": {
          "base_uri": "https://localhost:8080/"
        },
        "id": "20Xd8KjSJFEZ",
        "outputId": "fb9c6a8e-c24e-4dc1-b67f-3baa208a0bf8"
      },
      "outputs": [
        {
          "name": "stdout",
          "output_type": "stream",
          "text": [
            "0 0 : 11\n",
            "0 1 : 22\n",
            "0 2 : 33\n",
            "1 0 : 44\n",
            "1 1 : 55\n",
            "2 0 : 66\n",
            "2 1 : 77\n",
            "2 2 : 88\n",
            "2 3 : 99\n"
          ]
        }
      ],
      "source": [
        "list2d=[[11,22,33],[44,55],[66,77,88,99]]\n",
        "for row in range(len(list2d)):\n",
        "    for column in range(len(list2d[row])):\n",
        "        print(row,column,\":\",list2d[row][column])\n",
        "\n"
      ]
    },
    {
      "cell_type": "code",
      "execution_count": null,
      "metadata": {
        "colab": {
          "base_uri": "https://localhost:8080/"
        },
        "id": "zMMcZ61ycVf7",
        "outputId": "7a7a1530-42c7-4854-fc85-9e7cb18dd16d"
      },
      "outputs": [
        {
          "data": {
            "text/plain": [
              "dict"
            ]
          },
          "execution_count": 1,
          "metadata": {},
          "output_type": "execute_result"
        }
      ],
      "source": [
        "s={}\n",
        "type(s)"
      ]
    },
    {
      "cell_type": "code",
      "execution_count": null,
      "metadata": {
        "colab": {
          "base_uri": "https://localhost:8080/"
        },
        "id": "CGxuau8zcbx0",
        "outputId": "7c5123be-3edb-4014-d2e0-26c1d13275b8"
      },
      "outputs": [
        {
          "name": "stdout",
          "output_type": "stream",
          "text": [
            "data: set() <class 'set'>\n"
          ]
        }
      ],
      "source": [
        "s=set()#use method\n",
        "print(\"data:\",s,type(s))"
      ]
    },
    {
      "cell_type": "code",
      "execution_count": null,
      "metadata": {
        "colab": {
          "base_uri": "https://localhost:8080/"
        },
        "id": "Z3CFemIsc3OU",
        "outputId": "4087bf88-6ab5-4a43-e37b-b5a19a953701"
      },
      "outputs": [
        {
          "name": "stdout",
          "output_type": "stream",
          "text": [
            "{33, 22, 55, 11, 44}\n"
          ]
        }
      ],
      "source": [
        "s={11,22,11,33,11,44,11,55,22,33}\n",
        "print(s)#custome order\n"
      ]
    },
    {
      "cell_type": "code",
      "execution_count": null,
      "metadata": {
        "id": "hjwSOk8-dOzj"
      },
      "outputs": [],
      "source": [
        "#set is iteratable not indexed\n",
        "for item in s:\n",
        "    print(item)"
      ]
    },
    {
      "cell_type": "code",
      "execution_count": null,
      "metadata": {
        "colab": {
          "base_uri": "https://localhost:8080/",
          "height": 198
        },
        "id": "Kx_lf5_qdaJK",
        "outputId": "68d821fb-f147-4c57-ec47-3046c4a1ef33"
      },
      "outputs": [
        {
          "ename": "TypeError",
          "evalue": "'set' object is not subscriptable",
          "output_type": "error",
          "traceback": [
            "\u001b[0;31m---------------------------------------------------------------------------\u001b[0m",
            "\u001b[0;31mTypeError\u001b[0m                                 Traceback (most recent call last)",
            "\u001b[0;32m<ipython-input-8-e74076944417>\u001b[0m in \u001b[0;36m<cell line: 1>\u001b[0;34m()\u001b[0m\n\u001b[1;32m      1\u001b[0m \u001b[0;32mfor\u001b[0m \u001b[0mindex\u001b[0m \u001b[0;32min\u001b[0m \u001b[0mrange\u001b[0m\u001b[0;34m(\u001b[0m\u001b[0mlen\u001b[0m\u001b[0;34m(\u001b[0m\u001b[0ms\u001b[0m\u001b[0;34m)\u001b[0m\u001b[0;34m)\u001b[0m\u001b[0;34m:\u001b[0m\u001b[0;34m\u001b[0m\u001b[0;34m\u001b[0m\u001b[0m\n\u001b[0;32m----> 2\u001b[0;31m     \u001b[0mprint\u001b[0m\u001b[0;34m(\u001b[0m\u001b[0mindex\u001b[0m\u001b[0;34m,\u001b[0m\u001b[0ms\u001b[0m\u001b[0;34m[\u001b[0m\u001b[0mindex\u001b[0m\u001b[0;34m]\u001b[0m\u001b[0;34m)\u001b[0m\u001b[0;34m\u001b[0m\u001b[0;34m\u001b[0m\u001b[0m\n\u001b[0m",
            "\u001b[0;31mTypeError\u001b[0m: 'set' object is not subscriptable"
          ]
        }
      ],
      "source": [
        "for index in range(len(s)):\n",
        "    print(index,s[index])"
      ]
    },
    {
      "cell_type": "code",
      "execution_count": null,
      "metadata": {
        "id": "NoxWaylYffe-"
      },
      "outputs": [],
      "source": []
    },
    {
      "cell_type": "code",
      "execution_count": null,
      "metadata": {
        "colab": {
          "base_uri": "https://localhost:8080/"
        },
        "id": "jv_CBfdCfMcr",
        "outputId": "85ecb9b0-c095-4dd1-d295-7272c4e46f20"
      },
      "outputs": [
        {
          "name": "stdout",
          "output_type": "stream",
          "text": [
            "not in anything: {3, 6}\n",
            "In eveything: {2}\n",
            "Nach gana: {2}\n",
            "can be in security: {1, 3, 6, 9}\n"
          ]
        }
      ],
      "source": [
        "s={1,2,3,4,5,6,7,8,9}\n",
        "sing={2,5,7}\n",
        "dance={2,4,8}\n",
        "security={1,2,9}\n",
        "#one who has not taken part in anything\n",
        "print(\"not in anything:\",(s-dance-sing-security))\n",
        "#one who is part in all\n",
        "print(\"In eveything:\",(dance&sing&security))\n",
        "#one who are part in dance and singing\n",
        "print(\"Nach gana:\",(dance&sing))\n",
        "#one who can be in security who are not in anythign\n",
        "print(\"can be in security:\",(s-dance-sing))"
      ]
    },
    {
      "cell_type": "code",
      "execution_count": null,
      "metadata": {
        "id": "P9BSqEXLfhVb"
      },
      "outputs": [],
      "source": [
        "&:intercation\n",
        "|:union\n",
        "^:symmetric difference\n",
        "-:difference"
      ]
    },
    {
      "cell_type": "code",
      "execution_count": null,
      "metadata": {
        "colab": {
          "base_uri": "https://localhost:8080/"
        },
        "id": "HlbtCbZtihqA",
        "outputId": "17a7de98-ba8d-4927-9590-ba36cc3e0115"
      },
      "outputs": [
        {
          "name": "stdout",
          "output_type": "stream",
          "text": [
            "[11, 22, 33, 11, 55, 11, 77, 33, 66, 99, 11, 22]\n",
            "[11, 22, 33, 55, 66, 77, 99]\n"
          ]
        }
      ],
      "source": [
        "l=[11,22,33,11,55,11,77,33,66,99,11,22]\n",
        "print(l)\n",
        "print(sorted(set(l)))"
      ]
    },
    {
      "cell_type": "code",
      "execution_count": null,
      "metadata": {
        "id": "mMP25I1ylE8q"
      },
      "outputs": [],
      "source": [
        "s=set()"
      ]
    },
    {
      "cell_type": "code",
      "execution_count": null,
      "metadata": {
        "colab": {
          "base_uri": "https://localhost:8080/"
        },
        "id": "UJRYKJZVk7kR",
        "outputId": "56e550b5-188c-49ff-d509-c6357d327e54"
      },
      "outputs": [
        {
          "name": "stdout",
          "output_type": "stream",
          "text": [
            "Enter data99\n",
            "5 {33, 99, 10, 11, 55}\n"
          ]
        }
      ],
      "source": [
        "s.add(int(input(\"Enter data\")))\n",
        "print(len(s),s)"
      ]
    },
    {
      "cell_type": "code",
      "execution_count": null,
      "metadata": {
        "colab": {
          "base_uri": "https://localhost:8080/",
          "height": 179
        },
        "id": "14xmU8HllVa3",
        "outputId": "84e310ce-5a53-4ac6-9984-135be1ca7f25"
      },
      "outputs": [
        {
          "ename": "KeyError",
          "evalue": "10",
          "output_type": "error",
          "traceback": [
            "\u001b[0;31m---------------------------------------------------------------------------\u001b[0m",
            "\u001b[0;31mKeyError\u001b[0m                                  Traceback (most recent call last)",
            "\u001b[0;32m<ipython-input-26-23b5f1bb77c8>\u001b[0m in \u001b[0;36m<cell line: 1>\u001b[0;34m()\u001b[0m\n\u001b[0;32m----> 1\u001b[0;31m \u001b[0ms\u001b[0m\u001b[0;34m.\u001b[0m\u001b[0mremove\u001b[0m\u001b[0;34m(\u001b[0m\u001b[0;36m10\u001b[0m\u001b[0;34m)\u001b[0m\u001b[0;34m\u001b[0m\u001b[0;34m\u001b[0m\u001b[0m\n\u001b[0m",
            "\u001b[0;31mKeyError\u001b[0m: 10"
          ]
        }
      ],
      "source": [
        "s.remove(10)"
      ]
    },
    {
      "cell_type": "code",
      "execution_count": null,
      "metadata": {
        "id": "iJa6w9V9lff1"
      },
      "outputs": [],
      "source": [
        "s.discard(99)"
      ]
    },
    {
      "cell_type": "code",
      "execution_count": null,
      "metadata": {
        "colab": {
          "base_uri": "https://localhost:8080/"
        },
        "id": "kjvaOXAwlYxy",
        "outputId": "36973c53-40b4-4e66-cc03-f2b7c25cddbd"
      },
      "outputs": [
        {
          "data": {
            "text/plain": [
              "{11, 33, 55}"
            ]
          },
          "execution_count": 32,
          "metadata": {},
          "output_type": "execute_result"
        }
      ],
      "source": [
        "s"
      ]
    },
    {
      "cell_type": "code",
      "execution_count": null,
      "metadata": {
        "colab": {
          "base_uri": "https://localhost:8080/"
        },
        "id": "M-BrjJ2Qlr8o",
        "outputId": "d37202b9-d07f-4d01-db0d-604957d14b23"
      },
      "outputs": [
        {
          "name": "stdout",
          "output_type": "stream",
          "text": [
            "11 2\n",
            "22 1\n",
            "33 2\n",
            "99 2\n"
          ]
        }
      ],
      "source": [
        "#list of data given\n",
        "#print in sorted order with freq of each count\n",
        "#[99,33,11,33,22,11,99]\n",
        "'''output\n",
        "11-2\n",
        "22-1\n",
        "33-2\n",
        "99-2\n",
        "'''\n",
        "l=[99,33,11,33,22,11,99]\n",
        "us=sorted(set(l))\n",
        "for i in us:\n",
        "    print(i,l.count(i))\n",
        "\n"
      ]
    },
    {
      "cell_type": "code",
      "execution_count": null,
      "metadata": {
        "colab": {
          "base_uri": "https://localhost:8080/"
        },
        "id": "TDFZ7juupKg2",
        "outputId": "155cf496-dd4d-4513-d7a0-3331c7aae919"
      },
      "outputs": [
        {
          "name": "stdout",
          "output_type": "stream",
          "text": [
            "min: 11 22\n"
          ]
        }
      ],
      "source": [
        "#from the list of n elements that carry duplicates\n",
        "#find min and second min from unique list\n",
        "l=[44,22,11,33,11,55,44,22,66,11,77,88,11,22]\n",
        "ul=sorted(set(l))\n",
        "print(\"min:\",ul[0],ul[1])"
      ]
    },
    {
      "cell_type": "code",
      "execution_count": null,
      "metadata": {
        "id": "bpLuzpn5pJUf"
      },
      "outputs": [],
      "source": [
        "digits={1:\"one\",2:\"two\",3:\"three\"}\n",
        "digits[4]=\"four\""
      ]
    },
    {
      "cell_type": "code",
      "execution_count": null,
      "metadata": {
        "colab": {
          "base_uri": "https://localhost:8080/"
        },
        "id": "2_9k9hspsDxr",
        "outputId": "e3662b19-46f6-4130-ae6e-7b8649bd52c8"
      },
      "outputs": [
        {
          "data": {
            "text/plain": [
              "{1: 'ek number', 2: 'two', 3: 'three', 4: 'four', 5: 'one'}"
            ]
          },
          "execution_count": 46,
          "metadata": {},
          "output_type": "execute_result"
        }
      ],
      "source": [
        "digits"
      ]
    },
    {
      "cell_type": "code",
      "execution_count": null,
      "metadata": {
        "id": "jYaaOdvXsIt9"
      },
      "outputs": [],
      "source": [
        "digits[1]=\"ek number\""
      ]
    },
    {
      "cell_type": "code",
      "execution_count": null,
      "metadata": {
        "colab": {
          "base_uri": "https://localhost:8080/"
        },
        "id": "oYBi3Sf2tCpp",
        "outputId": "855cefc2-3ed9-4405-a972-225cde54ff02"
      },
      "outputs": [
        {
          "name": "stdout",
          "output_type": "stream",
          "text": [
            "{1: 'ek number', 2: 'two', 3: 'three', 4: 'four', 5: 'one'}\n"
          ]
        }
      ],
      "source": [
        "print(digits)"
      ]
    },
    {
      "cell_type": "code",
      "execution_count": null,
      "metadata": {
        "colab": {
          "base_uri": "https://localhost:8080/"
        },
        "id": "tyJhTnsZtFmF",
        "outputId": "57cb200b-6f1b-493f-f096-7ea8755fbc33"
      },
      "outputs": [
        {
          "name": "stdout",
          "output_type": "stream",
          "text": [
            "dict_keys([1, 2, 3, 4, 5])\n"
          ]
        }
      ],
      "source": [
        "print(digits.keys())"
      ]
    },
    {
      "cell_type": "code",
      "execution_count": null,
      "metadata": {
        "colab": {
          "base_uri": "https://localhost:8080/"
        },
        "id": "asq-DvSGtLic",
        "outputId": "e8090f8c-700a-4bad-e473-71b1bf06f0be"
      },
      "outputs": [
        {
          "name": "stdout",
          "output_type": "stream",
          "text": [
            "dict_values(['ek number', 'two', 'three', 'four', 'one'])\n"
          ]
        }
      ],
      "source": [
        "print(digits.values())"
      ]
    },
    {
      "cell_type": "code",
      "execution_count": null,
      "metadata": {
        "colab": {
          "base_uri": "https://localhost:8080/"
        },
        "id": "WNKOa_vstRmL",
        "outputId": "6a64366a-d63f-454b-a170-6fd9ec12b913"
      },
      "outputs": [
        {
          "name": "stdout",
          "output_type": "stream",
          "text": [
            "dict_items([(1, 'ek number'), (2, 'two'), (3, 'three'), (4, 'four'), (5, 'one')])\n"
          ]
        }
      ],
      "source": [
        "print(digits.items())"
      ]
    },
    {
      "cell_type": "code",
      "execution_count": null,
      "metadata": {
        "colab": {
          "base_uri": "https://localhost:8080/"
        },
        "id": "KvSwC-Ettawq",
        "outputId": "413f8de6-2156-433c-aad3-43320880220e"
      },
      "outputs": [
        {
          "name": "stdout",
          "output_type": "stream",
          "text": [
            "key: 1 data: ek number\n",
            "key: 2 data: two\n",
            "key: 3 data: three\n",
            "key: 4 data: four\n",
            "key: 5 data: one\n"
          ]
        }
      ],
      "source": [
        "for key,data in digits.items():\n",
        "    print(\"key:\",key,\"data:\",data)"
      ]
    },
    {
      "cell_type": "code",
      "execution_count": null,
      "metadata": {
        "colab": {
          "base_uri": "https://localhost:8080/"
        },
        "id": "Wr7RKENGt0vN",
        "outputId": "a06c2466-8709-4953-e48c-d8504a75a6af"
      },
      "outputs": [
        {
          "name": "stdout",
          "output_type": "stream",
          "text": [
            "{11: 2, 22: 1, 33: 2, 99: 2}\n"
          ]
        }
      ],
      "source": [
        "#list of data given\n",
        "#print in sorted order with freq of each count\n",
        "#[99,33,11,33,22,11,99]\n",
        "#generate dict for key:value pair where\n",
        "#key is data: value is frequency\n",
        "l=[99,33,11,33,22,11,99]\n",
        "my={}\n",
        "us=sorted(set(l))\n",
        "for i in us:\n",
        "    my[i]=l.count(i)\n",
        "print(my)"
      ]
    },
    {
      "cell_type": "code",
      "execution_count": null,
      "metadata": {
        "id": "szAMiYqbwDm9"
      },
      "outputs": [],
      "source": [
        "#you are a tea stall owner\n",
        "#selling tea(10),coffee(20),water(15),bun maska(20)\n",
        "#allow user to select the order from menu driven\n",
        "#0.exit\n",
        "while True:\n",
        "    ch=int(input(\"1.Tea\\n2.Coffee\\n3.Water\\n4.Bun maska\\n0.exit\"))\n",
        "    if ch==1:\n",
        "        print(\"Tea Selected:\")\n",
        "    elif ch==2:\n",
        "        print(\"Coffee Selected:\")\n",
        "    elif ch==3:\n",
        "        print(\"Water Selected:\")\n",
        "    elif ch==4:\n",
        "        print(\"Bun Maska Selected:\")\n",
        "    elif ch==0:\n",
        "        print(\"Thanks for ordering:\")\n",
        "        break\n",
        "    else:#default\n",
        "        print(\"Bhai Dhek ke\")\n",
        "\n",
        "\n"
      ]
    },
    {
      "cell_type": "code",
      "execution_count": null,
      "metadata": {
        "colab": {
          "base_uri": "https://localhost:8080/"
        },
        "id": "s8Fugu6ix5ff",
        "outputId": "3c33675a-6280-44e7-a69f-e76d10163415"
      },
      "outputs": [
        {
          "name": "stdout",
          "output_type": "stream",
          "text": [
            "1.Tea\n",
            "2.Coffee\n",
            "3.Water\n",
            "4.Bun maska\n",
            "0.exit1\n",
            "Tea Selected:\n",
            "1.Tea\n",
            "2.Coffee\n",
            "3.Water\n",
            "4.Bun maska\n",
            "0.exit1\n",
            "Tea Selected:\n",
            "1.Tea\n",
            "2.Coffee\n",
            "3.Water\n",
            "4.Bun maska\n",
            "0.exit2\n",
            "Coffee Selected:\n",
            "1.Tea\n",
            "2.Coffee\n",
            "3.Water\n",
            "4.Bun maska\n",
            "0.exit3\n",
            "Water Selected:\n",
            "1.Tea\n",
            "2.Coffee\n",
            "3.Water\n",
            "4.Bun maska\n",
            "0.exit4\n",
            "Bun Maska Selected:\n",
            "1.Tea\n",
            "2.Coffee\n",
            "3.Water\n",
            "4.Bun maska\n",
            "0.exit4\n",
            "Bun Maska Selected:\n",
            "1.Tea\n",
            "2.Coffee\n",
            "3.Water\n",
            "4.Bun maska\n",
            "0.exit0\n",
            "Thanks for ordering:\n",
            "total units sold: 6\n",
            "Earned: 95\n"
          ]
        }
      ],
      "source": [
        "#you are a tea stall owner\n",
        "#selling tea(10),coffee(20),water(15),bun maska(20)\n",
        "#allow user to select the order from menu driven\n",
        "#0.exit\n",
        "#on exit list amount earned, and list number of tea,coffee and other things\n",
        "#sold\n",
        "ct=cc=cw=cb=0\n",
        "while True:\n",
        "    ch=int(input(\"1.Tea\\n2.Coffee\\n3.Water\\n4.Bun maska\\n0.exit\"))\n",
        "    if ch==1:\n",
        "        print(\"Tea Selected:\")\n",
        "        ct+=1\n",
        "    elif ch==2:\n",
        "        print(\"Coffee Selected:\")\n",
        "        cc+=1\n",
        "    elif ch==3:\n",
        "        print(\"Water Selected:\")\n",
        "        cw+=1\n",
        "    elif ch==4:\n",
        "        print(\"Bun Maska Selected:\")\n",
        "        cb+=1\n",
        "    elif ch==0:\n",
        "        print(\"Thanks for ordering:\")\n",
        "        break\n",
        "    else:#default\n",
        "        print(\"Bhai Dhek ke\")\n",
        "total=(ct*10)+(cc*20)+(cw*15)+(cb*20)\n",
        "print(\"total units sold:\",(ct+cc+cw+cb))\n",
        "print(\"Earned:\",total)"
      ]
    },
    {
      "cell_type": "code",
      "execution_count": null,
      "metadata": {
        "colab": {
          "background_save": true,
          "base_uri": "https://localhost:8080/"
        },
        "id": "Otf1qz82143I",
        "outputId": "a20fcc87-195b-4674-db5d-616180d6a81b"
      },
      "outputs": [
        {
          "name": "stdout",
          "output_type": "stream",
          "text": [
            "Bill no: 20240117\n",
            "------------------------------------------------\n",
            "Tea\t 8 \t 80\n",
            "Coffee\t 2 \t 40\n",
            "Bun Maska\t 5 \t 100\n",
            "------------------------------------------------\n",
            "Total\t\t 220\n",
            "Bill no: 20240118\n",
            "------------------------------------------------\n",
            "Tea\t 2 \t 20\n",
            "------------------------------------------------\n",
            "Total\t\t 20\n",
            "please select 1 or 0\n",
            "Total business done: 240\n",
            "Total business done: 240\n"
          ]
        }
      ],
      "source": [
        "'''\n",
        "#you are a tea stall owner\n",
        "#each cuntomer comes take order on\n",
        "#tea(10),coffee(20),water(15),bun maska(20)\n",
        "#once done give bill(generated) with itemzied bill\n",
        "1.tea 3\n",
        "2.coffee 1\n",
        "3.water 0\n",
        "4.bun maska 2\n",
        "\n",
        "Bill Number: 121\n",
        "Tea unit:3 cost:30.00\n",
        "Coffee unit:1 cost:20.00\n",
        "Bun Maska unit:2 cost:40.00\n",
        ".........................\n",
        "Total:90.00\n",
        "after this ask for next order and stop system when -1 is entered\n",
        "update total busineess done:(total)\n",
        "'''\n",
        "\n",
        "Global_total=0\n",
        "billno=20240116\n",
        "while True:\n",
        "    yes_no=int(input(\"Do you want to order:1/yes 0/no:\"))\n",
        "    if yes_no==1:\n",
        "        billno+=1#generate bill no\n",
        "        ct=cc=cw=cb=0\n",
        "        ct=int(input(\"Tea:\"))\n",
        "        cc=int(input(\"Coffee:\"))\n",
        "        cw=int(input(\"Water:\"))\n",
        "        cb=int(input(\"Bun Maska:\"))\n",
        "        #bill generation\n",
        "        print(\"Bill no:\",billno)\n",
        "        print(\"------------------------------------------------\")\n",
        "        if ct>0:\n",
        "            print(\"Tea\\t\",ct,\"\\t\",ct*10)\n",
        "        if cc>0:\n",
        "            print(\"Coffee\\t\",cc,\"\\t\",cc*20)\n",
        "        if cw>0:\n",
        "            print(\"Water\\t\",cw,\"\\t\",cw*15)\n",
        "        if cb>0:\n",
        "            print(\"Bun Maska\\t\",cb,\"\\t\",cb*20)\n",
        "        print(\"------------------------------------------------\")\n",
        "        total=ct*10+cc*20+cw*15+cb*20\n",
        "        Global_total+=total#ADD TO BUSINESS TOTAL\n",
        "        print(\"Total\\t\\t\",total)\n",
        "    elif yes_no==0:\n",
        "        print(\"Total business done:\",Global_total)#show total business done\n",
        "        break\n",
        "    else:\n",
        "        print(\"please select 1 or 0\")0"
      ]
    }
  ],
  "metadata": {
    "colab": {
      "provenance": [],
      "include_colab_link": true
    },
    "kernelspec": {
      "display_name": "Python 3",
      "name": "python3"
    },
    "language_info": {
      "name": "python"
    }
  },
  "nbformat": 4,
  "nbformat_minor": 0
}