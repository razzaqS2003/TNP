{
  "nbformat": 4,
  "nbformat_minor": 0,
  "metadata": {
    "colab": {
      "provenance": [],
      "include_colab_link": true
    },
    "kernelspec": {
      "name": "python3",
      "display_name": "Python 3"
    },
    "language_info": {
      "name": "python"
    }
  },
  "cells": [
    {
      "cell_type": "markdown",
      "metadata": {
        "id": "view-in-github",
        "colab_type": "text"
      },
      "source": [
        "<a href=\"https://colab.research.google.com/github/razzaqS2003/TNP/blob/main/AP_Day_5_and_Day_6_OOPS.ipynb\" target=\"_parent\"><img src=\"https://colab.research.google.com/assets/colab-badge.svg\" alt=\"Open In Colab\"/></a>"
      ]
    },
    {
      "cell_type": "code",
      "execution_count": null,
      "metadata": {
        "id": "5hzc9gBzMpl5"
      },
      "outputs": [],
      "source": [
        "class Human:\n",
        "    def birth(self):\n",
        "        self.gender=input(\"Enter gender\")\n",
        "        print(\"gender created for\",id(self))\n",
        "    def naming(self):\n",
        "        self.name=input(\"Enter name\")\n",
        "        print(\"naming created for\",id(self))\n",
        "    def intro(self):\n",
        "        print(\"hi i am\",self.name,\"and i am a\",self.gender)\n",
        "#self is ref of who is calling\n",
        "#self.anything is what object will have"
      ]
    },
    {
      "cell_type": "code",
      "source": [
        "h1=Human()\n",
        "h2=Human()"
      ],
      "metadata": {
        "id": "KiW_gYzsNutK"
      },
      "execution_count": null,
      "outputs": []
    },
    {
      "cell_type": "code",
      "source": [
        "h1.birth()"
      ],
      "metadata": {
        "colab": {
          "base_uri": "https://localhost:8080/"
        },
        "id": "xGtq-1JbNyRy",
        "outputId": "98465e9d-b8f5-4397-a15f-be7f83060a03"
      },
      "execution_count": null,
      "outputs": [
        {
          "output_type": "stream",
          "name": "stdout",
          "text": [
            "Enter gendermale\n",
            "gender created for 136323352391888\n"
          ]
        }
      ]
    },
    {
      "cell_type": "code",
      "source": [
        "h1.naming()"
      ],
      "metadata": {
        "colab": {
          "base_uri": "https://localhost:8080/"
        },
        "id": "o1b8Pl-hOYEz",
        "outputId": "7173d1e4-600e-41d3-e083-14d1636f105a"
      },
      "execution_count": null,
      "outputs": [
        {
          "output_type": "stream",
          "name": "stdout",
          "text": [
            "Enter nameamar\n",
            "naming created for 136323352391888\n"
          ]
        }
      ]
    },
    {
      "cell_type": "code",
      "source": [
        "h2.birth()"
      ],
      "metadata": {
        "colab": {
          "base_uri": "https://localhost:8080/"
        },
        "id": "1bkVYsBLObAz",
        "outputId": "75a55316-5778-4f17-dd2b-823fb46855dd"
      },
      "execution_count": null,
      "outputs": [
        {
          "output_type": "stream",
          "name": "stdout",
          "text": [
            "Enter genderfemale\n",
            "gender created for 136323352393328\n"
          ]
        }
      ]
    },
    {
      "cell_type": "code",
      "source": [
        "h2.naming()"
      ],
      "metadata": {
        "colab": {
          "base_uri": "https://localhost:8080/"
        },
        "id": "nd0vpjqOOzoP",
        "outputId": "174dea4c-9b95-4f47-d240-e9e1b4138eb9"
      },
      "execution_count": null,
      "outputs": [
        {
          "output_type": "stream",
          "name": "stdout",
          "text": [
            "Enter nameradhika\n",
            "naming created for 136323352393328\n"
          ]
        }
      ]
    },
    {
      "cell_type": "code",
      "source": [
        "h1.intro()"
      ],
      "metadata": {
        "colab": {
          "base_uri": "https://localhost:8080/"
        },
        "id": "a0j9IOv4QWWn",
        "outputId": "95121dc7-55a6-4573-a27a-ead14a5e5ded"
      },
      "execution_count": null,
      "outputs": [
        {
          "output_type": "stream",
          "name": "stdout",
          "text": [
            "hi i am amar and i am a male\n"
          ]
        }
      ]
    },
    {
      "cell_type": "code",
      "source": [
        "h2.intro()"
      ],
      "metadata": {
        "colab": {
          "base_uri": "https://localhost:8080/"
        },
        "id": "ugEBYdv4QZtW",
        "outputId": "461c8f24-b22e-4bdb-eb10-ad597cf50f24"
      },
      "execution_count": null,
      "outputs": [
        {
          "output_type": "stream",
          "name": "stdout",
          "text": [
            "hi i am radhika and i am a female\n"
          ]
        }
      ]
    },
    {
      "cell_type": "code",
      "source": [
        "class Person:\n",
        "    name=\"amar\"\n",
        "    _location=\"thane\"#private\n",
        "    __phone=\"9821601163\"#strong private\n"
      ],
      "metadata": {
        "id": "gy7LcyhvWibB"
      },
      "execution_count": null,
      "outputs": []
    },
    {
      "cell_type": "code",
      "source": [
        "Person.__phone"
      ],
      "metadata": {
        "colab": {
          "base_uri": "https://localhost:8080/",
          "height": 179
        },
        "id": "qv0e8S04WuZ8",
        "outputId": "5de9ed02-1432-4d02-9e15-e6586179f5b8"
      },
      "execution_count": null,
      "outputs": [
        {
          "output_type": "error",
          "ename": "AttributeError",
          "evalue": "type object 'Person' has no attribute '__phone'",
          "traceback": [
            "\u001b[0;31m---------------------------------------------------------------------------\u001b[0m",
            "\u001b[0;31mAttributeError\u001b[0m                            Traceback (most recent call last)",
            "\u001b[0;32m<ipython-input-39-f4e0310522b1>\u001b[0m in \u001b[0;36m<cell line: 1>\u001b[0;34m()\u001b[0m\n\u001b[0;32m----> 1\u001b[0;31m \u001b[0mPerson\u001b[0m\u001b[0;34m.\u001b[0m\u001b[0m__phone\u001b[0m\u001b[0;34m\u001b[0m\u001b[0;34m\u001b[0m\u001b[0m\n\u001b[0m",
            "\u001b[0;31mAttributeError\u001b[0m: type object 'Person' has no attribute '__phone'"
          ]
        }
      ]
    },
    {
      "cell_type": "code",
      "source": [
        "#find area of circle:\n",
        "class Circle:\n",
        "    def setr(self):\n",
        "        self.r=float(input(\"Enter r:\"))\n",
        "\n",
        "    def area(self):\n",
        "        print(\"Area is:\",3.14*self.r**2)"
      ],
      "metadata": {
        "id": "bonIHE4WZZMI"
      },
      "execution_count": null,
      "outputs": []
    },
    {
      "cell_type": "code",
      "source": [
        "obj=Circle()"
      ],
      "metadata": {
        "id": "ZpiunBATZ5O1"
      },
      "execution_count": null,
      "outputs": []
    },
    {
      "cell_type": "code",
      "source": [
        "obj.setr()"
      ],
      "metadata": {
        "colab": {
          "base_uri": "https://localhost:8080/"
        },
        "id": "Yi3U5n-CZ95u",
        "outputId": "07699a6f-709b-4e8f-ff17-6427b803d6c2"
      },
      "execution_count": null,
      "outputs": [
        {
          "name": "stdout",
          "output_type": "stream",
          "text": [
            "Enter r:31.2\n"
          ]
        }
      ]
    },
    {
      "cell_type": "code",
      "source": [
        "obj.area()"
      ],
      "metadata": {
        "colab": {
          "base_uri": "https://localhost:8080/"
        },
        "id": "QMExcDRpaCNU",
        "outputId": "14536635-9c00-4d13-980b-d4e4163c6ee4"
      },
      "execution_count": null,
      "outputs": [
        {
          "output_type": "stream",
          "name": "stdout",
          "text": [
            "Area is: 3056.6016\n"
          ]
        }
      ]
    },
    {
      "cell_type": "code",
      "source": [
        "#find area of circle:\n",
        "class Circle:\n",
        "    def setr(self,r):\n",
        "        self.r=r\n",
        "\n",
        "    def area(self):\n",
        "        print(\"Area is:\",3.14*self.r**2)"
      ],
      "metadata": {
        "id": "o8i1o8eMaKvI"
      },
      "execution_count": null,
      "outputs": []
    },
    {
      "cell_type": "code",
      "source": [
        "obj=Circle()\n",
        "obj.setr(float(input(\"Enter r:\")))\n",
        "obj.area()"
      ],
      "metadata": {
        "colab": {
          "base_uri": "https://localhost:8080/"
        },
        "id": "QrOLfJm5aUBX",
        "outputId": "3e61693d-0a6e-439c-df7f-f0ace76377b8"
      },
      "execution_count": null,
      "outputs": [
        {
          "output_type": "stream",
          "name": "stdout",
          "text": [
            "Enter r:23.9\n",
            "Area is: 1793.5993999999998\n"
          ]
        }
      ]
    },
    {
      "cell_type": "code",
      "source": [
        " '''Create a Class:\n",
        "● Question: Define a Any coding language class named Person with attributes\n",
        "name and age.\n",
        "● use set:gives name and age and intro will print name and age'''\n",
        "class Person:\n",
        "    def set(self,name,age):\n",
        "        self.name=name\n",
        "        self.age=age\n",
        "    def intro(self):\n",
        "        print(\"hi i am\",self.name,\"and i am\",self.age,\"years old\")\n"
      ],
      "metadata": {
        "id": "nTx86582bBcv"
      },
      "execution_count": null,
      "outputs": []
    },
    {
      "cell_type": "code",
      "source": [
        "p=Person()\n",
        "p.set(input(\"Name:\"),int(input(\"Age:\")))\n",
        "p.intro()"
      ],
      "metadata": {
        "colab": {
          "base_uri": "https://localhost:8080/"
        },
        "id": "uie67xEwdC_j",
        "outputId": "b47c6c3d-044d-4d72-b05f-d1ac68eee5cf"
      },
      "execution_count": null,
      "outputs": [
        {
          "output_type": "stream",
          "name": "stdout",
          "text": [
            "Name:abcd\n",
            "Age:123\n",
            "hi i am abcd and i am 123 years old\n"
          ]
        }
      ]
    },
    {
      "cell_type": "code",
      "source": [
        "#by default python supports polymorphism by overloading data types\n",
        "class Adder:\n",
        "    def add(self,p1,p2):\n",
        "        print(type(p1),type(p2),p1,\"+\",p2,\"=\",(p1+p2))"
      ],
      "metadata": {
        "id": "ItK95wRRdY1C"
      },
      "execution_count": null,
      "outputs": []
    },
    {
      "cell_type": "code",
      "source": [
        "obj=Adder()"
      ],
      "metadata": {
        "id": "hSmrz-zvdyoP"
      },
      "execution_count": null,
      "outputs": []
    },
    {
      "cell_type": "code",
      "source": [
        "obj.add(10,20)\n",
        "obj.add(10.2,20.1)\n",
        "obj.add(\"am\",\"ar\")"
      ],
      "metadata": {
        "colab": {
          "base_uri": "https://localhost:8080/"
        },
        "id": "qk-GNpYEd6TZ",
        "outputId": "981a8964-a7c7-4726-c607-fb90ebd1fd07"
      },
      "execution_count": null,
      "outputs": [
        {
          "output_type": "stream",
          "name": "stdout",
          "text": [
            "<class 'int'> <class 'int'> 10 + 20 = 30\n",
            "<class 'float'> <class 'float'> 10.2 + 20.1 = 30.3\n",
            "<class 'str'> <class 'str'> am + ar = amar\n"
          ]
        }
      ]
    },
    {
      "cell_type": "code",
      "source": [
        "class Person:\n",
        "    def set(self,name=\"un-named\",age=0):\n",
        "        self.name=name\n",
        "        self.age=age\n",
        "    def intro(self):\n",
        "        print(\"hi i am\",self.name,\"and i am\",self.age,\"years old\")"
      ],
      "metadata": {
        "id": "yPrGqrN9e-Yu"
      },
      "execution_count": null,
      "outputs": []
    },
    {
      "cell_type": "code",
      "source": [
        "p1=Person()\n",
        "p1.set(age=12)\n",
        "p1.intro()"
      ],
      "metadata": {
        "colab": {
          "base_uri": "https://localhost:8080/"
        },
        "id": "FXsqGLokfEFn",
        "outputId": "efefe6c8-9be9-4611-8cf1-c83a51538cc8"
      },
      "execution_count": null,
      "outputs": [
        {
          "output_type": "stream",
          "name": "stdout",
          "text": [
            "hi i am un-named and i am 12 years old\n"
          ]
        }
      ]
    },
    {
      "cell_type": "code",
      "source": [
        "#Constructor:\n",
        " #function called on its own when object is created\n",
        " #function def __init__() #system methods\n",
        " #used in initilization,default value assignment,parameter assignment\n",
        "class Person:\n",
        "    def __init__(self):\n",
        "        print(\"iyla human created\")\n",
        "    def set(self,name,age):\n",
        "        self.name=name\n",
        "        self.age=age\n",
        "    def intro(self):\n",
        "        print(\"hi i am\",self.name,\"and i am\",self.age,\"years old\")\n",
        "\n"
      ],
      "metadata": {
        "id": "G289P4vifgs1"
      },
      "execution_count": null,
      "outputs": []
    },
    {
      "cell_type": "code",
      "source": [
        "p=Person()"
      ],
      "metadata": {
        "colab": {
          "base_uri": "https://localhost:8080/"
        },
        "id": "3ppLO0KwgFSy",
        "outputId": "42e94677-c6e4-4a32-e855-85e7e981589a"
      },
      "execution_count": null,
      "outputs": [
        {
          "output_type": "stream",
          "name": "stdout",
          "text": [
            "iyla human created\n"
          ]
        }
      ]
    },
    {
      "cell_type": "code",
      "source": [
        "class Person:\n",
        "    def __init__(self,name,age):\n",
        "        self.name=name\n",
        "        self.age=age\n",
        "    def intro(self):\n",
        "        print(\"hi i am\",self.name,\"and i am\",self.age,\"years old\")\n",
        "\n"
      ],
      "metadata": {
        "id": "g9u0XVm-gTA6"
      },
      "execution_count": null,
      "outputs": []
    },
    {
      "cell_type": "code",
      "source": [
        "p=Person(\"superman\",30)"
      ],
      "metadata": {
        "id": "GSXAFcQwgfAy"
      },
      "execution_count": null,
      "outputs": []
    },
    {
      "cell_type": "code",
      "source": [
        "p.intro()"
      ],
      "metadata": {
        "colab": {
          "base_uri": "https://localhost:8080/"
        },
        "id": "pnyz7eLugl2c",
        "outputId": "6d48a8ca-4432-445b-e317-f199cbe62ae9"
      },
      "execution_count": null,
      "outputs": [
        {
          "output_type": "stream",
          "name": "stdout",
          "text": [
            "hi i am superman and i am 30 years old\n"
          ]
        }
      ]
    },
    {
      "cell_type": "code",
      "source": [
        "print(p)"
      ],
      "metadata": {
        "colab": {
          "base_uri": "https://localhost:8080/"
        },
        "id": "BUR9gcbAgu-s",
        "outputId": "b06b433b-ab27-4ab8-b9b7-6dffaea71635"
      },
      "execution_count": null,
      "outputs": [
        {
          "output_type": "stream",
          "name": "stdout",
          "text": [
            "<__main__.Person object at 0x7bfc40e80bb0>\n"
          ]
        }
      ]
    },
    {
      "cell_type": "code",
      "source": [
        "# def __str__(self):  return a string which will be printed\n",
        "#also known as printer method\n",
        "class Person:\n",
        "    def __init__(self,name,age):\n",
        "        self.name=name\n",
        "        self.age=age\n",
        "    def __str__(self):\n",
        "        return \"hi i am \"+self.name+\" and i am \"+str(self.age)+\" years old\"\n",
        "\n"
      ],
      "metadata": {
        "id": "KWyYWHnQg2ux"
      },
      "execution_count": null,
      "outputs": []
    },
    {
      "cell_type": "code",
      "source": [
        "p=Person(\"superman\",30)"
      ],
      "metadata": {
        "id": "RvD_U5idhKKe"
      },
      "execution_count": null,
      "outputs": []
    },
    {
      "cell_type": "code",
      "source": [
        "print(p)"
      ],
      "metadata": {
        "colab": {
          "base_uri": "https://localhost:8080/"
        },
        "id": "3PW9rQ9uhNzK",
        "outputId": "edec96dd-e1b6-44da-aff1-8d3ff546c119"
      },
      "execution_count": null,
      "outputs": [
        {
          "output_type": "stream",
          "name": "stdout",
          "text": [
            "hi i am superman and i am 30 years old\n"
          ]
        }
      ]
    },
    {
      "cell_type": "code",
      "source": [
        "# def __del__(self):  called just before object is to be sent for AGC\n",
        "#used to call some method that check for house keeping task(saved or not)\n",
        "class Person:\n",
        "    def __init__(self,name,age):\n",
        "        self.name=name\n",
        "        self.age=age\n",
        "    def __str__(self):\n",
        "        return \"hi i am \"+self.name+\" and i am \"+str(self.age)+\" years old\"\n",
        "    def __del__(self):\n",
        "        print(\"R.I.P\",self.name)"
      ],
      "metadata": {
        "id": "S_dJORc4hiHe"
      },
      "execution_count": null,
      "outputs": []
    },
    {
      "cell_type": "code",
      "source": [
        "p=Person(\"super man\",30)\n",
        "print(p)\n",
        "p=Person(\"wonder woman\",100)\n",
        "print(p)"
      ],
      "metadata": {
        "colab": {
          "base_uri": "https://localhost:8080/"
        },
        "id": "26XJxkdRiKX3",
        "outputId": "fc2666e7-76a6-457e-b8ae-09d442962cd6"
      },
      "execution_count": null,
      "outputs": [
        {
          "output_type": "stream",
          "name": "stdout",
          "text": [
            "hi i am super man and i am 30 years old\n",
            "R.I.P super man\n",
            "hi i am wonder woman and i am 100 years old\n"
          ]
        }
      ]
    },
    {
      "cell_type": "code",
      "source": [
        "#membership\n",
        "'''class member:only remains with class and needs Name_of_class.XXXXXX\n",
        "instance member\n",
        "local member\n",
        "'''\n",
        "class Human:\n",
        "    Adhar=2024000\n",
        "    def __init__(self,name,gender):\n",
        "        self.name=name\n",
        "        self.gender=gender\n",
        "        Human.Adhar+=1\n",
        "        self.myadhar=Human.Adhar\n",
        "        print(\"created\")\n",
        "    def __str__(self):\n",
        "        return \"My Adhar is:\"+str(self.myadhar)+\" \"+self.name+\" \"+self.gender\n",
        "    def population_count(self):\n",
        "        print(\"Total human created so far:\",Human.population)\n"
      ],
      "metadata": {
        "id": "aewKbxFPjqos"
      },
      "execution_count": null,
      "outputs": []
    },
    {
      "cell_type": "code",
      "source": [
        "h1=Human(\"x\",\"m\")\n",
        "print(h1)\n",
        "h2=Human(\"y\",\"m\")\n",
        "print(h2)\n",
        "h3=Human(\"z\",\"m\")\n",
        "print(h3)\n",
        "h4=Human(\"a\",\"m\")\n",
        "print(h4)"
      ],
      "metadata": {
        "colab": {
          "base_uri": "https://localhost:8080/"
        },
        "id": "8Qxw1OlskF14",
        "outputId": "1ae0e1d9-4236-4cdd-e8db-f2547e30f94d"
      },
      "execution_count": null,
      "outputs": [
        {
          "output_type": "stream",
          "name": "stdout",
          "text": [
            "created\n",
            "My Adhar is:2024001 x m\n",
            "created\n",
            "My Adhar is:2024002 y m\n",
            "created\n",
            "My Adhar is:2024003 z m\n",
            "created\n",
            "My Adhar is:2024004 a m\n"
          ]
        }
      ]
    },
    {
      "cell_type": "code",
      "source": [
        "h1.population_count()"
      ],
      "metadata": {
        "colab": {
          "base_uri": "https://localhost:8080/"
        },
        "id": "_SUVeyWXlNZs",
        "outputId": "87b08097-eeea-4f69-92c4-b07ae8cb177a"
      },
      "execution_count": null,
      "outputs": [
        {
          "output_type": "stream",
          "name": "stdout",
          "text": [
            "Total human created so far: 4\n"
          ]
        }
      ]
    },
    {
      "cell_type": "code",
      "source": [
        "'''\n",
        "Banking System\n",
        "\n",
        "one must code banking system that can do\n",
        "1.open account:\n",
        "  take name,gender,and minimumbalance 3000 to open account.\n",
        "  account number auto generated#class variable\n",
        "2.check balance():\n",
        "\t1st read account number, search account, if found then show details\n",
        "3.withdraw():\n",
        "\tcheck minimum balance should be kept 2000 else will not allow transection\n",
        "4.deposit():\n",
        "\tread amount ,update balance but amount can not be -ve\n",
        "\n",
        "2,3,4---one must give account number,search account and then\n",
        "perform needed operations\n",
        "'''"
      ],
      "metadata": {
        "id": "q0JXS47H39N2"
      },
      "execution_count": null,
      "outputs": []
    },
    {
      "cell_type": "code",
      "source": [
        "Gobal_account_no=202400\n",
        "class Account:\n",
        "    def __init__(self,name,gender,amount):\n",
        "        self.name=name\n",
        "        self.gender=gender\n",
        "        self.amount=amount\n",
        "        global Gobal_account_no\n",
        "        Gobal_account_no+=1\n",
        "        self.account_no=Gobal_account_no\n",
        "        print(\"Congrats \",self.name,\"your account created & account number is:\",self.account_no)\n",
        "    def __str__(self):\n",
        "        return \"Name:\"+self.name+\"\\t Account no:\"+str(self.account_no)+\"\\t Balance:\"+str(self.amount)\n",
        "    def withdraw(self,amount):\n",
        "        if self.amount-amount<=2000:#min balance\n",
        "            print(\"Min balance reached can not continue\")\n",
        "        else:\n",
        "            self.amount-=amount#update\n",
        "            print(\"after last transection new balance is:\",self.amount)\n",
        "    def deposit(self,amount):\n",
        "        if amount<=0:#min balance\n",
        "            print(\"please enter non-zero amount\")\n",
        "        else:\n",
        "            self.amount+=amount#update\n",
        "            print(\"after last transection new balance is:\",self.amount)"
      ],
      "metadata": {
        "id": "oVLnMMHs5ZlQ"
      },
      "execution_count": null,
      "outputs": []
    },
    {
      "cell_type": "code",
      "source": [
        "bank={}"
      ],
      "metadata": {
        "id": "HROQJw_u-KVt"
      },
      "execution_count": null,
      "outputs": []
    },
    {
      "cell_type": "code",
      "source": [
        "n=input(\"Enter name:\")\n",
        "g=input(\"Enter gender:\")\n",
        "while True:\n",
        "    amt=float(input(\"Enter Amount:\"))\n",
        "    if amt<3000:\n",
        "        print(\"minimum amount is 3000 for opening\")\n",
        "    else:\n",
        "        a=Account(n,g,amt)\n",
        "        bank[a.account_no]=a\n",
        "        break"
      ],
      "metadata": {
        "colab": {
          "base_uri": "https://localhost:8080/"
        },
        "id": "L_AI0xhn6zLp",
        "outputId": "f1621d00-5eff-40bc-c21f-b35130689672"
      },
      "execution_count": null,
      "outputs": [
        {
          "output_type": "stream",
          "name": "stdout",
          "text": [
            "Enter name:zamar\n",
            "Enter gender:male\n",
            "Enter Amount:23000\n",
            "Congrats  zamar your account created & account number is: 202403\n"
          ]
        }
      ]
    },
    {
      "cell_type": "code",
      "source": [
        "#searching\n",
        "k_list=bank.keys()\n",
        "u_key=int(input(\"Enter a key to search:\"))\n",
        "if u_key in k_list:\n",
        "    print(\"found:\")\n",
        "    print(bank[u_key])\n",
        "else:\n",
        "    print(\"please check the account number\")"
      ],
      "metadata": {
        "colab": {
          "base_uri": "https://localhost:8080/"
        },
        "id": "uCOiGzQD-mn3",
        "outputId": "65fb1d21-1ea0-4871-d6f0-907a5f38bb43"
      },
      "execution_count": null,
      "outputs": [
        {
          "output_type": "stream",
          "name": "stdout",
          "text": [
            "Enter a key to search:202402\n",
            "found:\n",
            "Name:tamar\t Account no:202402\t Balance:12333.0\n"
          ]
        }
      ]
    },
    {
      "cell_type": "code",
      "source": [
        "#withdrawing\n",
        "k_list=bank.keys()\n",
        "u_key=int(input(\"Enter a key to search:\"))\n",
        "if u_key in k_list:\n",
        "    print(\"found:\")\n",
        "    amt=float(input(\"Enter amount:\"))\n",
        "    obj=bank[u_key]\n",
        "    obj.withdraw(amt)\n",
        "else:\n",
        "    print(\"please check the account number\")"
      ],
      "metadata": {
        "colab": {
          "base_uri": "https://localhost:8080/"
        },
        "id": "gJlwkH4iBanI",
        "outputId": "c885e417-980d-43ae-f240-51d27537c866"
      },
      "execution_count": null,
      "outputs": [
        {
          "output_type": "stream",
          "name": "stdout",
          "text": [
            "Enter a key to search:202401\n",
            "found:\n",
            "Enter amount:6000\n",
            "after last transection new balance is: 4000.0\n"
          ]
        }
      ]
    },
    {
      "cell_type": "code",
      "source": [
        "#deposit\n",
        "k_list=bank.keys()\n",
        "u_key=int(input(\"Enter a key to search:\"))\n",
        "if u_key in k_list:\n",
        "    print(\"found:\")\n",
        "    amt=float(input(\"Enter amount:\"))\n",
        "    obj=bank[u_key]\n",
        "    obj.deposit(amt)\n",
        "else:\n",
        "    print(\"please check the account number\")"
      ],
      "metadata": {
        "colab": {
          "base_uri": "https://localhost:8080/"
        },
        "id": "I0-FsP7aEsd6",
        "outputId": "2e1a92ba-61f4-42d7-d7b6-259f7d0b8bb0"
      },
      "execution_count": null,
      "outputs": [
        {
          "output_type": "stream",
          "name": "stdout",
          "text": [
            "Enter a key to search:202403\n",
            "found:\n",
            "Enter amount:10000\n",
            "after last transection new balance is: 33000.0\n"
          ]
        }
      ]
    },
    {
      "cell_type": "code",
      "source": [
        "Gobal_account_no=202400\n",
        "class Account:\n",
        "    def __init__(self,name,gender,amount):\n",
        "        self.name=name\n",
        "        self.gender=gender\n",
        "        self.amount=amount\n",
        "        global Gobal_account_no\n",
        "        Gobal_account_no+=1\n",
        "        self.account_no=Gobal_account_no\n",
        "        print(\"Congrats \",self.name,\"your account created & account number is:\",self.account_no)\n",
        "    def __str__(self):\n",
        "        return \"Name:\"+self.name+\"\\t Account no:\"+str(self.account_no)+\"\\t Balance:\"+str(self.amount)\n",
        "    def withdraw(self,amount):\n",
        "        if self.amount-amount<=2000:#min balance\n",
        "            print(\"Min balance reached can not continue\")\n",
        "        else:\n",
        "            self.amount-=amount#update\n",
        "            print(\"after last transection new balance is:\",self.amount)\n",
        "    def deposit(self,amount):\n",
        "        if amount<=0:#min balance\n",
        "            print(\"please enter non-zero amount\")\n",
        "        else:\n",
        "            self.amount+=amount#update\n",
        "            print(\"after last transection new balance is:\",self.amount)\n",
        "    def account_transfer(self,objr,amt):\n",
        "        if self.amount>self.amount-amt-2000:\n",
        "            self.amount-=amt#removed from sender\n",
        "            objr.amount+=amt\n",
        "            print(\"Updated balance\")\n",
        "            print(self)\n",
        "            print(objr)\n",
        "        else:\n",
        "            print(\"not possible due to min balance reached\")\n",
        "\n",
        "\n",
        "        #check balance in sender,also min balance\n",
        "        #then update receiver,sender show balance of both\n",
        "bank={}\n",
        "ch=0\n",
        "while True:\n",
        "    ch=int(input(\"\\n1.Create Account\\n2.Withdrawal\\n3.Deposit\\n4.Check Balance\\n5.Transfer from account\\n0.Exit\\n:\"))\n",
        "    if ch==1:\n",
        "        n=input(\"Enter name:\")\n",
        "        g=input(\"Enter gender:\")\n",
        "        while True:\n",
        "            amt=float(input(\"Enter Amount:\"))\n",
        "            if amt<3000:\n",
        "                print(\"minimum amount is 3000 for opening\")\n",
        "            else:\n",
        "                a=Account(n,g,amt)\n",
        "                bank[a.account_no]=a\n",
        "                break\n",
        "    elif ch==2:\n",
        "        k_list=bank.keys()\n",
        "        u_key=int(input(\"Enter a key to search:\"))\n",
        "        if u_key in k_list:\n",
        "            print(\"found:\")\n",
        "            amt=float(input(\"Enter amount:\"))\n",
        "            obj=bank[u_key]\n",
        "            obj.withdraw(amt)\n",
        "        else:\n",
        "            print(\"please check the account number\")\n",
        "    elif ch==3:\n",
        "        k_list=bank.keys()\n",
        "        u_key=int(input(\"Enter a key to search:\"))\n",
        "        if u_key in k_list:\n",
        "            print(\"found:\")\n",
        "            amt=float(input(\"Enter amount:\"))\n",
        "            obj=bank[u_key]\n",
        "            obj.deposit(amt)\n",
        "        else:\n",
        "            print(\"please check the account number\")\n",
        "    elif ch==4:\n",
        "        k_list=bank.keys()\n",
        "        u_key=int(input(\"Enter a key to search:\"))\n",
        "        if u_key in k_list:\n",
        "            print(\"found:\")\n",
        "            print(bank[u_key])\n",
        "        else:\n",
        "            print(\"please check the account number\")\n",
        "\n",
        "    elif ch==5:\n",
        "        k_list=bank.keys()\n",
        "        sender=int(input(\"Sender Account number:\"))\n",
        "        rec=int(input(\"Receivers Account number:\"))\n",
        "        if sender in k_list and rec in k_list:\n",
        "            print(\"Both exsits\")\n",
        "            objs=bank[sender]\n",
        "            objr=bank[rec]\n",
        "            amount=float(input(\"Enter amount to transfer:\"))\n",
        "            objs.account_transfer(objr,amount)\n",
        "\n",
        "    elif ch==0:\n",
        "        print(\"Thanks for using lena bank\")\n",
        "        break\n",
        "    else:\n",
        "        print(\"please check the option selected\")\n",
        "\n",
        "\n",
        "\n"
      ],
      "metadata": {
        "id": "E81U0DgVIupF"
      },
      "execution_count": null,
      "outputs": []
    },
    {
      "cell_type": "code",
      "source": [
        "#inheritance:public,private   can not:strong private\n",
        "class A:\n",
        "    def publicA(self):\n",
        "        print(\"Hi from A: Public\")\n",
        "    def _privateA(self):\n",
        "        print(\"Hi from A: Private\")\n",
        "    def __strongPrivateA(self):\n",
        "        print(\"Hi from A: Strong Private\")"
      ],
      "metadata": {
        "id": "xtvmVVoacKKO"
      },
      "execution_count": null,
      "outputs": []
    },
    {
      "cell_type": "code",
      "source": [
        "class B(A):\n",
        "    def publicB(self):\n",
        "        print(\"Hi from B: Public\")\n",
        "    def _privateB(self):\n",
        "        print(\"Hi from B: Private\")\n",
        "    def __strongPrivateB(self):\n",
        "        print(\"Hi from B: Strong Private\")\n"
      ],
      "metadata": {
        "id": "269F00yecjcK"
      },
      "execution_count": null,
      "outputs": []
    },
    {
      "cell_type": "code",
      "source": [
        "objb=B()"
      ],
      "metadata": {
        "id": "KQgGmO40cxXP"
      },
      "execution_count": null,
      "outputs": []
    },
    {
      "cell_type": "code",
      "source": [
        "objb._privateA()"
      ],
      "metadata": {
        "colab": {
          "base_uri": "https://localhost:8080/"
        },
        "id": "4debPYJDc0o0",
        "outputId": "1270a471-0d57-4d84-c2f3-581c164e4b95"
      },
      "execution_count": null,
      "outputs": [
        {
          "output_type": "stream",
          "name": "stdout",
          "text": [
            "Hi from A: Private\n"
          ]
        }
      ]
    },
    {
      "cell_type": "code",
      "source": [
        "#multilevel  A-->B  A,B-->C\n",
        "class A:\n",
        "    def A(self):\n",
        "        print(\"Hi from A\")\n",
        "class B(A):\n",
        "    def B(self):\n",
        "        print(\"Hi from B\")\n",
        "class C(B):\n",
        "    def C(self):\n",
        "        print(\"Hi from C\")"
      ],
      "metadata": {
        "id": "FrGKxhHIdYlV"
      },
      "execution_count": null,
      "outputs": []
    },
    {
      "cell_type": "code",
      "source": [
        "obj=C()\n",
        "obj."
      ],
      "metadata": {
        "id": "rQF6z1oIdp0_"
      },
      "execution_count": null,
      "outputs": []
    },
    {
      "cell_type": "code",
      "source": [
        "#Hierarchical\n",
        "class A:\n",
        "    def A(self):\n",
        "        print(\"Hi from A\")\n",
        "class B(A):\n",
        "    def B(self):\n",
        "        print(\"Hi from B\")\n",
        "class C(A):\n",
        "    def C(self):\n",
        "        print(\"Hi from C\")"
      ],
      "metadata": {
        "id": "TzpUHWAaeJ9Y"
      },
      "execution_count": null,
      "outputs": []
    },
    {
      "cell_type": "code",
      "source": [
        "objba=B()\n",
        "objca=C()\n"
      ],
      "metadata": {
        "id": "Png9MQHKeOCt"
      },
      "execution_count": null,
      "outputs": []
    },
    {
      "cell_type": "code",
      "source": [
        "objca."
      ],
      "metadata": {
        "id": "E8SeoKBreTd8"
      },
      "execution_count": null,
      "outputs": []
    },
    {
      "cell_type": "code",
      "source": [
        "#multiple\n",
        "class A:\n",
        "    def A(self):\n",
        "        print(\"Hi from A\")\n",
        "class B:\n",
        "    def B(self):\n",
        "        print(\"Hi from B\")\n",
        "class C:\n",
        "    def C(self):\n",
        "        print(\"Hi from C\")"
      ],
      "metadata": {
        "id": "LxQ8Lv5Vea5M"
      },
      "execution_count": null,
      "outputs": []
    },
    {
      "cell_type": "code",
      "source": [
        "class X(A,B,C):#All Taken\n",
        "    def X(self):\n",
        "        print(\"Hi from X\")"
      ],
      "metadata": {
        "id": "Pnej8ubxhMzK"
      },
      "execution_count": null,
      "outputs": []
    },
    {
      "cell_type": "code",
      "source": [
        "objx=X()"
      ],
      "metadata": {
        "id": "prKgj5G7hWFK"
      },
      "execution_count": null,
      "outputs": []
    },
    {
      "cell_type": "code",
      "source": [
        "objx."
      ],
      "metadata": {
        "id": "ZydW2yS3hYYR"
      },
      "execution_count": null,
      "outputs": []
    },
    {
      "cell_type": "code",
      "source": [
        "class A:\n",
        "    def my(self):\n",
        "        print(\"Hi from A\")\n",
        "class B:\n",
        "    def my(self):\n",
        "        print(\"Hi from B\")\n",
        "class C:\n",
        "    def my(self):\n",
        "        print(\"Hi from C\")\n",
        "class X(B,A,C):#FCFT\n",
        "    def X(self):\n",
        "        print(\"Hi from X\")\n",
        "objx=X()"
      ],
      "metadata": {
        "id": "bow2Rb0lhfhz"
      },
      "execution_count": null,
      "outputs": []
    },
    {
      "cell_type": "code",
      "source": [
        "objx.my()"
      ],
      "metadata": {
        "colab": {
          "base_uri": "https://localhost:8080/"
        },
        "id": "ziCj-F1BhptR",
        "outputId": "a600f52b-a67a-4df0-9d20-aa8fc828a95a"
      },
      "execution_count": null,
      "outputs": [
        {
          "output_type": "stream",
          "name": "stdout",
          "text": [
            "Hi from B\n"
          ]
        }
      ]
    },
    {
      "cell_type": "code",
      "source": [
        "#Ploymorphism:\n",
        "#over load: a function can manage multiple types\n",
        "#over ride:happens in inheritence\n",
        "           #in this child will create own method\n",
        "           #which will cause rejecting parents inherited method\n",
        "class Parent:\n",
        "    def greeting(self):\n",
        "        print(\"Parent:A very Good Morning \")\n",
        "    def eat(self):\n",
        "        print(\"Parent:eating\")\n",
        "class Child(Parent):\n",
        "    def play(self):\n",
        "        print(\"yeee play\")\n",
        "    def greeting(self):\n",
        "        print(\"gm\")\n",
        "c=Child()"
      ],
      "metadata": {
        "id": "J9ihS45oj3yq"
      },
      "execution_count": null,
      "outputs": []
    },
    {
      "cell_type": "code",
      "source": [
        "c.greeting()"
      ],
      "metadata": {
        "colab": {
          "base_uri": "https://localhost:8080/"
        },
        "id": "7RAeDC_2mOIA",
        "outputId": "d15e3e60-3851-406d-d922-dea15b789bed"
      },
      "execution_count": null,
      "outputs": [
        {
          "output_type": "stream",
          "name": "stdout",
          "text": [
            "gm\n"
          ]
        }
      ]
    },
    {
      "cell_type": "code",
      "source": [
        "#super():calls anything from uper(parent class)\n",
        "class Parent:\n",
        "    def __greeting(self):\n",
        "        print(\"Parent:A very Good Morning \")\n",
        "    def eat(self):\n",
        "        print(\"Parent:eating\")\n",
        "class Child(Parent):\n",
        "    def play(self):\n",
        "        print(\"yeee play\")\n",
        "    def greeting(self):\n",
        "        super().__greeting()\n",
        "        print(\"gm\")\n",
        "c=Child()"
      ],
      "metadata": {
        "id": "ZJly-llCnFPt"
      },
      "execution_count": null,
      "outputs": []
    },
    {
      "cell_type": "code",
      "source": [
        "c.greeting()"
      ],
      "metadata": {
        "colab": {
          "base_uri": "https://localhost:8080/",
          "height": 306
        },
        "id": "sLeKYprMoT2n",
        "outputId": "d30e5047-ee1f-420a-aa31-e723a2df7622"
      },
      "execution_count": null,
      "outputs": [
        {
          "output_type": "error",
          "ename": "AttributeError",
          "evalue": "'super' object has no attribute '_Child__greeting'",
          "traceback": [
            "\u001b[0;31m---------------------------------------------------------------------------\u001b[0m",
            "\u001b[0;31mAttributeError\u001b[0m                            Traceback (most recent call last)",
            "\u001b[0;32m<ipython-input-35-933e30231339>\u001b[0m in \u001b[0;36m<cell line: 1>\u001b[0;34m()\u001b[0m\n\u001b[0;32m----> 1\u001b[0;31m \u001b[0mc\u001b[0m\u001b[0;34m.\u001b[0m\u001b[0mgreeting\u001b[0m\u001b[0;34m(\u001b[0m\u001b[0;34m)\u001b[0m\u001b[0;34m\u001b[0m\u001b[0;34m\u001b[0m\u001b[0m\n\u001b[0m",
            "\u001b[0;32m<ipython-input-34-bc10a64e9635>\u001b[0m in \u001b[0;36mgreeting\u001b[0;34m(self)\u001b[0m\n\u001b[1;32m      9\u001b[0m         \u001b[0mprint\u001b[0m\u001b[0;34m(\u001b[0m\u001b[0;34m\"yeee play\"\u001b[0m\u001b[0;34m)\u001b[0m\u001b[0;34m\u001b[0m\u001b[0;34m\u001b[0m\u001b[0m\n\u001b[1;32m     10\u001b[0m     \u001b[0;32mdef\u001b[0m \u001b[0mgreeting\u001b[0m\u001b[0;34m(\u001b[0m\u001b[0mself\u001b[0m\u001b[0;34m)\u001b[0m\u001b[0;34m:\u001b[0m\u001b[0;34m\u001b[0m\u001b[0;34m\u001b[0m\u001b[0m\n\u001b[0;32m---> 11\u001b[0;31m         \u001b[0msuper\u001b[0m\u001b[0;34m(\u001b[0m\u001b[0;34m)\u001b[0m\u001b[0;34m.\u001b[0m\u001b[0m__greeting\u001b[0m\u001b[0;34m(\u001b[0m\u001b[0;34m)\u001b[0m\u001b[0;34m\u001b[0m\u001b[0;34m\u001b[0m\u001b[0m\n\u001b[0m\u001b[1;32m     12\u001b[0m         \u001b[0mprint\u001b[0m\u001b[0;34m(\u001b[0m\u001b[0;34m\"gm\"\u001b[0m\u001b[0;34m)\u001b[0m\u001b[0;34m\u001b[0m\u001b[0;34m\u001b[0m\u001b[0m\n\u001b[1;32m     13\u001b[0m \u001b[0mc\u001b[0m\u001b[0;34m=\u001b[0m\u001b[0mChild\u001b[0m\u001b[0;34m(\u001b[0m\u001b[0;34m)\u001b[0m\u001b[0;34m\u001b[0m\u001b[0;34m\u001b[0m\u001b[0m\n",
            "\u001b[0;31mAttributeError\u001b[0m: 'super' object has no attribute '_Child__greeting'"
          ]
        }
      ]
    },
    {
      "cell_type": "code",
      "source": [
        "class A:\n",
        "    def __init__(self):\n",
        "        print(\"Hi from A\")\n",
        "class B(A):\n",
        "    def __init__(self):\n",
        "        super().__init__()\n",
        "        print(\"Hi from B\")\n",
        "b=B()"
      ],
      "metadata": {
        "colab": {
          "base_uri": "https://localhost:8080/"
        },
        "id": "MmZtNlH1ooud",
        "outputId": "bd3334aa-1d89-4caa-ebf5-dcfe396ba38b"
      },
      "execution_count": null,
      "outputs": [
        {
          "output_type": "stream",
          "name": "stdout",
          "text": [
            "Hi from A\n",
            "Hi from B\n"
          ]
        }
      ]
    },
    {
      "cell_type": "code",
      "source": [
        "#passing data to parents constructor\n",
        "class A:\n",
        "    def __init__(self,dataa):\n",
        "        print(\"Hi from A:\",dataa)\n",
        "class B(A):\n",
        "    def __init__(self,dataa,datab):\n",
        "        super().__init__(dataa)\n",
        "        print(\"Hi from B:\",datab)\n",
        "class C(B):\n",
        "    def __init__(self,dataa,datab,datac):\n",
        "        super().__init__(dataa,datab)\n",
        "        print(\"Hi from C:\",datac)\n",
        "c=C(10,100,1000)"
      ],
      "metadata": {
        "colab": {
          "base_uri": "https://localhost:8080/"
        },
        "id": "NGvO90XxpFD3",
        "outputId": "f44ba657-7da7-48d7-db0d-853a9db44310"
      },
      "execution_count": null,
      "outputs": [
        {
          "output_type": "stream",
          "name": "stdout",
          "text": [
            "Hi from A: 10\n",
            "Hi from B: 100\n",
            "Hi from C: 1000\n"
          ]
        }
      ]
    },
    {
      "cell_type": "code",
      "source": [
        "#class shape has method area()\n",
        "#override it using class circle and rectangle\n",
        "#to print area:\n",
        "class Shape:\n",
        "    def area():\n",
        "        pass#no operation command\n",
        "            #kept for future changes or collabration\n",
        "class Circle:\n",
        "    def kuchto(self):\n",
        "        pass\n",
        "    def setR(self,r):\n",
        "        self.r=r\n",
        "    def area(self):\n",
        "        print(\"Area of Circle:\",3.14*self.r**2)\n",
        "c=Circle()\n"
      ],
      "metadata": {
        "id": "0R0wjxy_pnLg"
      },
      "execution_count": null,
      "outputs": []
    },
    {
      "cell_type": "code",
      "source": [
        "c.setR(12.2)\n",
        "c.area()"
      ],
      "metadata": {
        "colab": {
          "base_uri": "https://localhost:8080/"
        },
        "id": "e55VKNJys5_2",
        "outputId": "cbcf1316-022f-41ba-b4cb-238905d0bdd9"
      },
      "execution_count": null,
      "outputs": [
        {
          "output_type": "stream",
          "name": "stdout",
          "text": [
            "Area of Circle: 467.35759999999993\n"
          ]
        }
      ]
    },
    {
      "cell_type": "code",
      "source": [
        "class Human:#null class\n",
        "    pass"
      ],
      "metadata": {
        "id": "OCpBNIh2tpjD"
      },
      "execution_count": null,
      "outputs": []
    },
    {
      "cell_type": "code",
      "source": [
        "h=Human()"
      ],
      "metadata": {
        "id": "a5Rg3kEhtxiT"
      },
      "execution_count": null,
      "outputs": []
    },
    {
      "cell_type": "code",
      "source": [
        "#setattr/getattr:can create properties and access them in null objects\n",
        "setattr(h,\"gender\",\"male\")\n",
        "setattr(h,\"name\",\"amar\")\n",
        "\",\"not given\")\n"
      ],
      "metadata": {
        "colab": {
          "base_uri": "https://localhost:8080/",
          "height": 36
        },
        "id": "EMTT_8krt1hH",
        "outputId": "ebbd0ac7-ab31-4ba2-98c5-570b8352984c"
      },
      "execution_count": null,
      "outputs": [
        {
          "output_type": "execute_result",
          "data": {
            "text/plain": [
              "'male'"
            ],
            "application/vnd.google.colaboratory.intrinsic+json": {
              "type": "string"
            }
          },
          "metadata": {},
          "execution_count": 52
        }
      ]
    },
    {
      "cell_type": "code",
      "source": [
        "getattr(h,\"name\")#ask attribute get value\n",
        "getattr(h,\"gender\",\"default value\")\n",
        "#default value to return if attribute not found\n"
      ],
      "metadata": {
        "colab": {
          "base_uri": "https://localhost:8080/",
          "height": 36
        },
        "id": "3zN-2_rhvkvm",
        "outputId": "a89f164c-5a9b-45bb-fecb-233722b16176"
      },
      "execution_count": null,
      "outputs": [
        {
          "output_type": "execute_result",
          "data": {
            "text/plain": [
              "'male'"
            ],
            "application/vnd.google.colaboratory.intrinsic+json": {
              "type": "string"
            }
          },
          "metadata": {},
          "execution_count": 54
        }
      ]
    },
    {
      "cell_type": "code",
      "source": [
        "class Human:\n",
        "    def __init__(self,name,gender):\n",
        "        self.name=name\n",
        "        self.gender=gender\n",
        "class Student(Human):\n",
        "    def __init__(self,name,gender,degree):\n",
        "        super().__init__(name,gender)\n",
        "        self.degree=degree\n",
        "class Job(Student):\n",
        "    def __init__(self,name,gender,degree,salary):\n",
        "        super().__init__(name,gender,degree)\n",
        "        self.salary=salary\n",
        "    def display(self):\n",
        "        print(self.name,self.gender,self.degree,self.salary)\n"
      ],
      "metadata": {
        "id": "b1O70xeIutwu"
      },
      "execution_count": null,
      "outputs": []
    },
    {
      "cell_type": "code",
      "source": [
        "objj=Job(\"amar\",\"m\",\"Phd\",\"123\")"
      ],
      "metadata": {
        "id": "oIiD4_XeF_xV"
      },
      "execution_count": null,
      "outputs": []
    },
    {
      "cell_type": "code",
      "source": [
        "objj.display()"
      ],
      "metadata": {
        "colab": {
          "base_uri": "https://localhost:8080/"
        },
        "id": "UbWaND0vGP4e",
        "outputId": "5cea8d90-763a-476d-d718-df53015043ca"
      },
      "execution_count": null,
      "outputs": [
        {
          "output_type": "stream",
          "name": "stdout",
          "text": [
            "amar m Phd 123\n"
          ]
        }
      ]
    },
    {
      "cell_type": "code",
      "source": [
        "class Automobile:\n",
        "    def __init__(self,speed):\n",
        "        self.speed=speed\n",
        "        print(\"Speed set:\",self.speed)\n",
        "class Car(Automobile):\n",
        "    def __init__(self,speed,c4):\n",
        "        super().__init__(speed)\n",
        "        self.c4=c4\n",
        "class Bike(Automobile):\n",
        "    def __init__(self,speed,c2):\n",
        "        super().__init__(speed)\n",
        "        self.c2=c2\n",
        "class Comparator:\n",
        "    def compare(self,car,bike):\n",
        "        if car.speed>bike.speed:\n",
        "            print(\"Car is faster with\",car.speed)\n",
        "        else:\n",
        "            print(\"Bike is faster with\",bike.speed)\n",
        "\n"
      ],
      "metadata": {
        "id": "ETIPT2uJLgLz"
      },
      "execution_count": null,
      "outputs": []
    },
    {
      "cell_type": "code",
      "source": [
        "c=Car(220,1.6)\n",
        "b=Bike(380,550)\n",
        "comp=Comparator()\n",
        "comp.compare(c,b)"
      ],
      "metadata": {
        "colab": {
          "base_uri": "https://localhost:8080/"
        },
        "id": "iSea-ShmMyfs",
        "outputId": "af7a33cb-a2d3-49e0-cf52-9478f29be57e"
      },
      "execution_count": null,
      "outputs": [
        {
          "output_type": "stream",
          "name": "stdout",
          "text": [
            "Speed set: 220\n",
            "Speed set: 380\n",
            "Bike is faster with 380\n"
          ]
        }
      ]
    },
    {
      "cell_type": "code",
      "source": [
        "#we hace object of student class consisting name,gender,pointer\n",
        "#we have all data in list(to be created),sort this list in\n",
        "#descending order of pointer\n",
        "class Student:\n",
        "    def __init__(self,name,gender,pointer):\n",
        "        self.name=name\n",
        "        self.gender=gender\n",
        "        self.pointer=pointer\n",
        "    def __str__(self):\n",
        "        return self.name+\"\\t\"+self.gender+\"\\t\"+str(self.pointer)\n",
        "slist=[]\n",
        "s1=Student(\"abc\",\"m\",8.1)\n",
        "slist.append(s1)\n",
        "s1=Student(\"xyz\",\"f\",6.9)\n",
        "slist.append(s1)\n",
        "s1=Student(\"qqq\",\"m\",7.9)\n",
        "slist.append(s1)\n",
        "s1=Student(\"uuu\",\"f\",9.2)\n",
        "slist.append(s1)\n",
        "for i in slist:\n",
        "    print(i)"
      ],
      "metadata": {
        "colab": {
          "base_uri": "https://localhost:8080/"
        },
        "id": "GdDXakiHNYzA",
        "outputId": "b980f4c4-1771-46ec-baba-de3e33cb6f33"
      },
      "execution_count": null,
      "outputs": [
        {
          "output_type": "stream",
          "name": "stdout",
          "text": [
            "abc\tm\t8.1\n",
            "xyz\tf\t6.9\n",
            "qqq\tm\t7.9\n",
            "uuu\tf\t9.2\n"
          ]
        }
      ]
    },
    {
      "cell_type": "code",
      "source": [
        "for i in range(len(slist)-1):\n",
        "    for j in range(len(slist)-1):\n",
        "        if slist[j].pointer<slist[j+1].pointer:\n",
        "            slist[j],slist[j+1]=slist[j+1],slist[j]\n",
        "for i in slist:\n",
        "    print(i)\n"
      ],
      "metadata": {
        "colab": {
          "base_uri": "https://localhost:8080/"
        },
        "id": "XZNV_3W1U8uD",
        "outputId": "72a2be79-9a0b-4bda-c92c-047f384725df"
      },
      "execution_count": null,
      "outputs": [
        {
          "output_type": "stream",
          "name": "stdout",
          "text": [
            "uuu\tf\t9.2\n",
            "abc\tm\t8.1\n",
            "qqq\tm\t7.9\n",
            "xyz\tf\t6.9\n"
          ]
        }
      ]
    }
  ]
}